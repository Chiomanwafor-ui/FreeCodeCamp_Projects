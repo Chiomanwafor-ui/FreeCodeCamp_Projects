{
  "nbformat": 4,
  "nbformat_minor": 0,
  "metadata": {
    "colab": {
      "provenance": [],
      "collapsed_sections": [
        "szp5flp1fA8-",
        "iNcDJ45bGtYk",
        "i1mBd8gGFvBV",
        "MYQL57cD2ejS",
        "jIHKROStFMcR",
        "wLDO_IRrFw7z",
        "ExVB2joZF0rk",
        "3MqIpFTOF1m9",
        "NKq_qwCsF3Dj",
        "wvdngkOTF4Hi",
        "Q19Wm90DF5zf",
        "YSY2k7S3F6d7",
        "ykj42UNeF7K5",
        "QSKeBTgXHRAv",
        "0epVLhL0F88U",
        "8FCFQaq1Hizh",
        "BhKPZQJZF9w0",
        "I0mklEluF-jI",
        "eFehWNexGASC",
        "WbqugasGGCKJ",
        "hN_fvENUGBAm",
        "vteEy9QFGD5I",
        "VXxx7RCVSs4j",
        "jpo7oASHGEu7"
      ],
      "include_colab_link": true
    },
    "kernelspec": {
      "name": "python3",
      "display_name": "Python 3"
    },
    "language_info": {
      "name": "python"
    },
    "widgets": {
      "application/vnd.jupyter.widget-state+json": {
        "faa19902e1d544b687fde4bbfab9bda4": {
          "model_module": "@jupyter-widgets/controls",
          "model_name": "VBoxModel",
          "model_module_version": "1.5.0",
          "state": {
            "_dom_classes": [
              "widget-interact"
            ],
            "_model_module": "@jupyter-widgets/controls",
            "_model_module_version": "1.5.0",
            "_model_name": "VBoxModel",
            "_view_count": null,
            "_view_module": "@jupyter-widgets/controls",
            "_view_module_version": "1.5.0",
            "_view_name": "VBoxView",
            "box_style": "",
            "children": [
              "IPY_MODEL_8298293228fa4f179e9291c04c2b006c",
              "IPY_MODEL_d8f153026c274937806893d7ecfdddf2",
              "IPY_MODEL_2ee88f1679c14b62825da2a2e779fd3e"
            ],
            "layout": "IPY_MODEL_68bcf1b1a8844c739e525ad7ea38ca22"
          }
        },
        "8298293228fa4f179e9291c04c2b006c": {
          "model_module": "@jupyter-widgets/controls",
          "model_name": "IntSliderModel",
          "model_module_version": "1.5.0",
          "state": {
            "_dom_classes": [],
            "_model_module": "@jupyter-widgets/controls",
            "_model_module_version": "1.5.0",
            "_model_name": "IntSliderModel",
            "_view_count": null,
            "_view_module": "@jupyter-widgets/controls",
            "_view_module_version": "1.5.0",
            "_view_name": "IntSliderView",
            "continuous_update": true,
            "description": "m",
            "description_tooltip": null,
            "disabled": false,
            "layout": "IPY_MODEL_6679117cb7ef4c86a7774aa01d363202",
            "max": 9,
            "min": -9,
            "orientation": "horizontal",
            "readout": true,
            "readout_format": "d",
            "step": 1,
            "style": "IPY_MODEL_5d9910d54c20463b956717d9e6bc2079",
            "value": 3
          }
        },
        "d8f153026c274937806893d7ecfdddf2": {
          "model_module": "@jupyter-widgets/controls",
          "model_name": "IntSliderModel",
          "model_module_version": "1.5.0",
          "state": {
            "_dom_classes": [],
            "_model_module": "@jupyter-widgets/controls",
            "_model_module_version": "1.5.0",
            "_model_name": "IntSliderModel",
            "_view_count": null,
            "_view_module": "@jupyter-widgets/controls",
            "_view_module_version": "1.5.0",
            "_view_name": "IntSliderView",
            "continuous_update": true,
            "description": "b",
            "description_tooltip": null,
            "disabled": false,
            "layout": "IPY_MODEL_33c23c345f7c46a380a44e960ff1205c",
            "max": 9,
            "min": -9,
            "orientation": "horizontal",
            "readout": true,
            "readout_format": "d",
            "step": 1,
            "style": "IPY_MODEL_1184a566739746bf8af10fb7bfae3d6a",
            "value": 0
          }
        },
        "2ee88f1679c14b62825da2a2e779fd3e": {
          "model_module": "@jupyter-widgets/output",
          "model_name": "OutputModel",
          "model_module_version": "1.0.0",
          "state": {
            "_dom_classes": [],
            "_model_module": "@jupyter-widgets/output",
            "_model_module_version": "1.0.0",
            "_model_name": "OutputModel",
            "_view_count": null,
            "_view_module": "@jupyter-widgets/output",
            "_view_module_version": "1.0.0",
            "_view_name": "OutputView",
            "layout": "IPY_MODEL_a24cef387c6a42d08b0d7cc201b4b6e8",
            "msg_id": "",
            "outputs": [
              {
                "output_type": "display_data",
                "data": {
                  "text/plain": "<Figure size 640x480 with 1 Axes>",
                  "image/png": "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\n"
                },
                "metadata": {}
              }
            ]
          }
        },
        "68bcf1b1a8844c739e525ad7ea38ca22": {
          "model_module": "@jupyter-widgets/base",
          "model_name": "LayoutModel",
          "model_module_version": "1.2.0",
          "state": {
            "_model_module": "@jupyter-widgets/base",
            "_model_module_version": "1.2.0",
            "_model_name": "LayoutModel",
            "_view_count": null,
            "_view_module": "@jupyter-widgets/base",
            "_view_module_version": "1.2.0",
            "_view_name": "LayoutView",
            "align_content": null,
            "align_items": null,
            "align_self": null,
            "border": null,
            "bottom": null,
            "display": null,
            "flex": null,
            "flex_flow": null,
            "grid_area": null,
            "grid_auto_columns": null,
            "grid_auto_flow": null,
            "grid_auto_rows": null,
            "grid_column": null,
            "grid_gap": null,
            "grid_row": null,
            "grid_template_areas": null,
            "grid_template_columns": null,
            "grid_template_rows": null,
            "height": null,
            "justify_content": null,
            "justify_items": null,
            "left": null,
            "margin": null,
            "max_height": null,
            "max_width": null,
            "min_height": null,
            "min_width": null,
            "object_fit": null,
            "object_position": null,
            "order": null,
            "overflow": null,
            "overflow_x": null,
            "overflow_y": null,
            "padding": null,
            "right": null,
            "top": null,
            "visibility": null,
            "width": null
          }
        },
        "6679117cb7ef4c86a7774aa01d363202": {
          "model_module": "@jupyter-widgets/base",
          "model_name": "LayoutModel",
          "model_module_version": "1.2.0",
          "state": {
            "_model_module": "@jupyter-widgets/base",
            "_model_module_version": "1.2.0",
            "_model_name": "LayoutModel",
            "_view_count": null,
            "_view_module": "@jupyter-widgets/base",
            "_view_module_version": "1.2.0",
            "_view_name": "LayoutView",
            "align_content": null,
            "align_items": null,
            "align_self": null,
            "border": null,
            "bottom": null,
            "display": null,
            "flex": null,
            "flex_flow": null,
            "grid_area": null,
            "grid_auto_columns": null,
            "grid_auto_flow": null,
            "grid_auto_rows": null,
            "grid_column": null,
            "grid_gap": null,
            "grid_row": null,
            "grid_template_areas": null,
            "grid_template_columns": null,
            "grid_template_rows": null,
            "height": null,
            "justify_content": null,
            "justify_items": null,
            "left": null,
            "margin": null,
            "max_height": null,
            "max_width": null,
            "min_height": null,
            "min_width": null,
            "object_fit": null,
            "object_position": null,
            "order": null,
            "overflow": null,
            "overflow_x": null,
            "overflow_y": null,
            "padding": null,
            "right": null,
            "top": null,
            "visibility": null,
            "width": null
          }
        },
        "5d9910d54c20463b956717d9e6bc2079": {
          "model_module": "@jupyter-widgets/controls",
          "model_name": "SliderStyleModel",
          "model_module_version": "1.5.0",
          "state": {
            "_model_module": "@jupyter-widgets/controls",
            "_model_module_version": "1.5.0",
            "_model_name": "SliderStyleModel",
            "_view_count": null,
            "_view_module": "@jupyter-widgets/base",
            "_view_module_version": "1.2.0",
            "_view_name": "StyleView",
            "description_width": "",
            "handle_color": null
          }
        },
        "33c23c345f7c46a380a44e960ff1205c": {
          "model_module": "@jupyter-widgets/base",
          "model_name": "LayoutModel",
          "model_module_version": "1.2.0",
          "state": {
            "_model_module": "@jupyter-widgets/base",
            "_model_module_version": "1.2.0",
            "_model_name": "LayoutModel",
            "_view_count": null,
            "_view_module": "@jupyter-widgets/base",
            "_view_module_version": "1.2.0",
            "_view_name": "LayoutView",
            "align_content": null,
            "align_items": null,
            "align_self": null,
            "border": null,
            "bottom": null,
            "display": null,
            "flex": null,
            "flex_flow": null,
            "grid_area": null,
            "grid_auto_columns": null,
            "grid_auto_flow": null,
            "grid_auto_rows": null,
            "grid_column": null,
            "grid_gap": null,
            "grid_row": null,
            "grid_template_areas": null,
            "grid_template_columns": null,
            "grid_template_rows": null,
            "height": null,
            "justify_content": null,
            "justify_items": null,
            "left": null,
            "margin": null,
            "max_height": null,
            "max_width": null,
            "min_height": null,
            "min_width": null,
            "object_fit": null,
            "object_position": null,
            "order": null,
            "overflow": null,
            "overflow_x": null,
            "overflow_y": null,
            "padding": null,
            "right": null,
            "top": null,
            "visibility": null,
            "width": null
          }
        },
        "1184a566739746bf8af10fb7bfae3d6a": {
          "model_module": "@jupyter-widgets/controls",
          "model_name": "SliderStyleModel",
          "model_module_version": "1.5.0",
          "state": {
            "_model_module": "@jupyter-widgets/controls",
            "_model_module_version": "1.5.0",
            "_model_name": "SliderStyleModel",
            "_view_count": null,
            "_view_module": "@jupyter-widgets/base",
            "_view_module_version": "1.2.0",
            "_view_name": "StyleView",
            "description_width": "",
            "handle_color": null
          }
        },
        "a24cef387c6a42d08b0d7cc201b4b6e8": {
          "model_module": "@jupyter-widgets/base",
          "model_name": "LayoutModel",
          "model_module_version": "1.2.0",
          "state": {
            "_model_module": "@jupyter-widgets/base",
            "_model_module_version": "1.2.0",
            "_model_name": "LayoutModel",
            "_view_count": null,
            "_view_module": "@jupyter-widgets/base",
            "_view_module_version": "1.2.0",
            "_view_name": "LayoutView",
            "align_content": null,
            "align_items": null,
            "align_self": null,
            "border": null,
            "bottom": null,
            "display": null,
            "flex": null,
            "flex_flow": null,
            "grid_area": null,
            "grid_auto_columns": null,
            "grid_auto_flow": null,
            "grid_auto_rows": null,
            "grid_column": null,
            "grid_gap": null,
            "grid_row": null,
            "grid_template_areas": null,
            "grid_template_columns": null,
            "grid_template_rows": null,
            "height": null,
            "justify_content": null,
            "justify_items": null,
            "left": null,
            "margin": null,
            "max_height": null,
            "max_width": null,
            "min_height": null,
            "min_width": null,
            "object_fit": null,
            "object_position": null,
            "order": null,
            "overflow": null,
            "overflow_x": null,
            "overflow_y": null,
            "padding": null,
            "right": null,
            "top": null,
            "visibility": null,
            "width": null
          }
        },
        "b1e4ece185b647b39dbd56a389c95e11": {
          "model_module": "@jupyter-widgets/controls",
          "model_name": "VBoxModel",
          "model_module_version": "1.5.0",
          "state": {
            "_dom_classes": [
              "widget-interact"
            ],
            "_model_module": "@jupyter-widgets/controls",
            "_model_module_version": "1.5.0",
            "_model_name": "VBoxModel",
            "_view_count": null,
            "_view_module": "@jupyter-widgets/controls",
            "_view_module_version": "1.5.0",
            "_view_name": "VBoxView",
            "box_style": "",
            "children": [
              "IPY_MODEL_7a8b6a0971d5441db96546e27a7cd73d",
              "IPY_MODEL_f57e39626a3a4751a35049fe0ffaed89",
              "IPY_MODEL_73a561fadad748748aba8d2a7b63c7ef",
              "IPY_MODEL_47b4f5b790494d4cb705ee73c7d6eb8e"
            ],
            "layout": "IPY_MODEL_2b9ccf31f29e4b8ea4d291c6523bed92"
          }
        },
        "7a8b6a0971d5441db96546e27a7cd73d": {
          "model_module": "@jupyter-widgets/controls",
          "model_name": "IntSliderModel",
          "model_module_version": "1.5.0",
          "state": {
            "_dom_classes": [],
            "_model_module": "@jupyter-widgets/controls",
            "_model_module_version": "1.5.0",
            "_model_name": "IntSliderModel",
            "_view_count": null,
            "_view_module": "@jupyter-widgets/controls",
            "_view_module_version": "1.5.0",
            "_view_name": "IntSliderView",
            "continuous_update": true,
            "description": "a",
            "description_tooltip": null,
            "disabled": false,
            "layout": "IPY_MODEL_4856a76d5223435a845007a87cdab3b0",
            "max": 9,
            "min": -9,
            "orientation": "horizontal",
            "readout": true,
            "readout_format": "d",
            "step": 1,
            "style": "IPY_MODEL_8556609554b646d7aa1b3be90d4a8bd5",
            "value": 4
          }
        },
        "f57e39626a3a4751a35049fe0ffaed89": {
          "model_module": "@jupyter-widgets/controls",
          "model_name": "IntSliderModel",
          "model_module_version": "1.5.0",
          "state": {
            "_dom_classes": [],
            "_model_module": "@jupyter-widgets/controls",
            "_model_module_version": "1.5.0",
            "_model_name": "IntSliderModel",
            "_view_count": null,
            "_view_module": "@jupyter-widgets/controls",
            "_view_module_version": "1.5.0",
            "_view_name": "IntSliderView",
            "continuous_update": true,
            "description": "b",
            "description_tooltip": null,
            "disabled": false,
            "layout": "IPY_MODEL_faa8300efee54c3d98fe94a1161fec77",
            "max": 9,
            "min": -9,
            "orientation": "horizontal",
            "readout": true,
            "readout_format": "d",
            "step": 1,
            "style": "IPY_MODEL_a77b6167c6e444a99547445654ef0fad",
            "value": -6
          }
        },
        "73a561fadad748748aba8d2a7b63c7ef": {
          "model_module": "@jupyter-widgets/controls",
          "model_name": "IntSliderModel",
          "model_module_version": "1.5.0",
          "state": {
            "_dom_classes": [],
            "_model_module": "@jupyter-widgets/controls",
            "_model_module_version": "1.5.0",
            "_model_name": "IntSliderModel",
            "_view_count": null,
            "_view_module": "@jupyter-widgets/controls",
            "_view_module_version": "1.5.0",
            "_view_name": "IntSliderView",
            "continuous_update": true,
            "description": "c",
            "description_tooltip": null,
            "disabled": false,
            "layout": "IPY_MODEL_bca995431f384dc6b13d5a5ed429d302",
            "max": 9,
            "min": -9,
            "orientation": "horizontal",
            "readout": true,
            "readout_format": "d",
            "step": 1,
            "style": "IPY_MODEL_537d3f1af56e41abafeb7282e987b137",
            "value": 4
          }
        },
        "47b4f5b790494d4cb705ee73c7d6eb8e": {
          "model_module": "@jupyter-widgets/output",
          "model_name": "OutputModel",
          "model_module_version": "1.0.0",
          "state": {
            "_dom_classes": [],
            "_model_module": "@jupyter-widgets/output",
            "_model_module_version": "1.0.0",
            "_model_name": "OutputModel",
            "_view_count": null,
            "_view_module": "@jupyter-widgets/output",
            "_view_module_version": "1.0.0",
            "_view_name": "OutputView",
            "layout": "IPY_MODEL_5d3253613839492b9a8632dd3a927bfc",
            "msg_id": "",
            "outputs": [
              {
                "output_type": "display_data",
                "data": {
                  "text/plain": "<Figure size 640x480 with 1 Axes>",
                  "image/png": "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\n"
                },
                "metadata": {}
              }
            ]
          }
        },
        "2b9ccf31f29e4b8ea4d291c6523bed92": {
          "model_module": "@jupyter-widgets/base",
          "model_name": "LayoutModel",
          "model_module_version": "1.2.0",
          "state": {
            "_model_module": "@jupyter-widgets/base",
            "_model_module_version": "1.2.0",
            "_model_name": "LayoutModel",
            "_view_count": null,
            "_view_module": "@jupyter-widgets/base",
            "_view_module_version": "1.2.0",
            "_view_name": "LayoutView",
            "align_content": null,
            "align_items": null,
            "align_self": null,
            "border": null,
            "bottom": null,
            "display": null,
            "flex": null,
            "flex_flow": null,
            "grid_area": null,
            "grid_auto_columns": null,
            "grid_auto_flow": null,
            "grid_auto_rows": null,
            "grid_column": null,
            "grid_gap": null,
            "grid_row": null,
            "grid_template_areas": null,
            "grid_template_columns": null,
            "grid_template_rows": null,
            "height": null,
            "justify_content": null,
            "justify_items": null,
            "left": null,
            "margin": null,
            "max_height": null,
            "max_width": null,
            "min_height": null,
            "min_width": null,
            "object_fit": null,
            "object_position": null,
            "order": null,
            "overflow": null,
            "overflow_x": null,
            "overflow_y": null,
            "padding": null,
            "right": null,
            "top": null,
            "visibility": null,
            "width": null
          }
        },
        "4856a76d5223435a845007a87cdab3b0": {
          "model_module": "@jupyter-widgets/base",
          "model_name": "LayoutModel",
          "model_module_version": "1.2.0",
          "state": {
            "_model_module": "@jupyter-widgets/base",
            "_model_module_version": "1.2.0",
            "_model_name": "LayoutModel",
            "_view_count": null,
            "_view_module": "@jupyter-widgets/base",
            "_view_module_version": "1.2.0",
            "_view_name": "LayoutView",
            "align_content": null,
            "align_items": null,
            "align_self": null,
            "border": null,
            "bottom": null,
            "display": null,
            "flex": null,
            "flex_flow": null,
            "grid_area": null,
            "grid_auto_columns": null,
            "grid_auto_flow": null,
            "grid_auto_rows": null,
            "grid_column": null,
            "grid_gap": null,
            "grid_row": null,
            "grid_template_areas": null,
            "grid_template_columns": null,
            "grid_template_rows": null,
            "height": null,
            "justify_content": null,
            "justify_items": null,
            "left": null,
            "margin": null,
            "max_height": null,
            "max_width": null,
            "min_height": null,
            "min_width": null,
            "object_fit": null,
            "object_position": null,
            "order": null,
            "overflow": null,
            "overflow_x": null,
            "overflow_y": null,
            "padding": null,
            "right": null,
            "top": null,
            "visibility": null,
            "width": null
          }
        },
        "8556609554b646d7aa1b3be90d4a8bd5": {
          "model_module": "@jupyter-widgets/controls",
          "model_name": "SliderStyleModel",
          "model_module_version": "1.5.0",
          "state": {
            "_model_module": "@jupyter-widgets/controls",
            "_model_module_version": "1.5.0",
            "_model_name": "SliderStyleModel",
            "_view_count": null,
            "_view_module": "@jupyter-widgets/base",
            "_view_module_version": "1.2.0",
            "_view_name": "StyleView",
            "description_width": "",
            "handle_color": null
          }
        },
        "faa8300efee54c3d98fe94a1161fec77": {
          "model_module": "@jupyter-widgets/base",
          "model_name": "LayoutModel",
          "model_module_version": "1.2.0",
          "state": {
            "_model_module": "@jupyter-widgets/base",
            "_model_module_version": "1.2.0",
            "_model_name": "LayoutModel",
            "_view_count": null,
            "_view_module": "@jupyter-widgets/base",
            "_view_module_version": "1.2.0",
            "_view_name": "LayoutView",
            "align_content": null,
            "align_items": null,
            "align_self": null,
            "border": null,
            "bottom": null,
            "display": null,
            "flex": null,
            "flex_flow": null,
            "grid_area": null,
            "grid_auto_columns": null,
            "grid_auto_flow": null,
            "grid_auto_rows": null,
            "grid_column": null,
            "grid_gap": null,
            "grid_row": null,
            "grid_template_areas": null,
            "grid_template_columns": null,
            "grid_template_rows": null,
            "height": null,
            "justify_content": null,
            "justify_items": null,
            "left": null,
            "margin": null,
            "max_height": null,
            "max_width": null,
            "min_height": null,
            "min_width": null,
            "object_fit": null,
            "object_position": null,
            "order": null,
            "overflow": null,
            "overflow_x": null,
            "overflow_y": null,
            "padding": null,
            "right": null,
            "top": null,
            "visibility": null,
            "width": null
          }
        },
        "a77b6167c6e444a99547445654ef0fad": {
          "model_module": "@jupyter-widgets/controls",
          "model_name": "SliderStyleModel",
          "model_module_version": "1.5.0",
          "state": {
            "_model_module": "@jupyter-widgets/controls",
            "_model_module_version": "1.5.0",
            "_model_name": "SliderStyleModel",
            "_view_count": null,
            "_view_module": "@jupyter-widgets/base",
            "_view_module_version": "1.2.0",
            "_view_name": "StyleView",
            "description_width": "",
            "handle_color": null
          }
        },
        "bca995431f384dc6b13d5a5ed429d302": {
          "model_module": "@jupyter-widgets/base",
          "model_name": "LayoutModel",
          "model_module_version": "1.2.0",
          "state": {
            "_model_module": "@jupyter-widgets/base",
            "_model_module_version": "1.2.0",
            "_model_name": "LayoutModel",
            "_view_count": null,
            "_view_module": "@jupyter-widgets/base",
            "_view_module_version": "1.2.0",
            "_view_name": "LayoutView",
            "align_content": null,
            "align_items": null,
            "align_self": null,
            "border": null,
            "bottom": null,
            "display": null,
            "flex": null,
            "flex_flow": null,
            "grid_area": null,
            "grid_auto_columns": null,
            "grid_auto_flow": null,
            "grid_auto_rows": null,
            "grid_column": null,
            "grid_gap": null,
            "grid_row": null,
            "grid_template_areas": null,
            "grid_template_columns": null,
            "grid_template_rows": null,
            "height": null,
            "justify_content": null,
            "justify_items": null,
            "left": null,
            "margin": null,
            "max_height": null,
            "max_width": null,
            "min_height": null,
            "min_width": null,
            "object_fit": null,
            "object_position": null,
            "order": null,
            "overflow": null,
            "overflow_x": null,
            "overflow_y": null,
            "padding": null,
            "right": null,
            "top": null,
            "visibility": null,
            "width": null
          }
        },
        "537d3f1af56e41abafeb7282e987b137": {
          "model_module": "@jupyter-widgets/controls",
          "model_name": "SliderStyleModel",
          "model_module_version": "1.5.0",
          "state": {
            "_model_module": "@jupyter-widgets/controls",
            "_model_module_version": "1.5.0",
            "_model_name": "SliderStyleModel",
            "_view_count": null,
            "_view_module": "@jupyter-widgets/base",
            "_view_module_version": "1.2.0",
            "_view_name": "StyleView",
            "description_width": "",
            "handle_color": null
          }
        },
        "5d3253613839492b9a8632dd3a927bfc": {
          "model_module": "@jupyter-widgets/base",
          "model_name": "LayoutModel",
          "model_module_version": "1.2.0",
          "state": {
            "_model_module": "@jupyter-widgets/base",
            "_model_module_version": "1.2.0",
            "_model_name": "LayoutModel",
            "_view_count": null,
            "_view_module": "@jupyter-widgets/base",
            "_view_module_version": "1.2.0",
            "_view_name": "LayoutView",
            "align_content": null,
            "align_items": null,
            "align_self": null,
            "border": null,
            "bottom": null,
            "display": null,
            "flex": null,
            "flex_flow": null,
            "grid_area": null,
            "grid_auto_columns": null,
            "grid_auto_flow": null,
            "grid_auto_rows": null,
            "grid_column": null,
            "grid_gap": null,
            "grid_row": null,
            "grid_template_areas": null,
            "grid_template_columns": null,
            "grid_template_rows": null,
            "height": null,
            "justify_content": null,
            "justify_items": null,
            "left": null,
            "margin": null,
            "max_height": null,
            "max_width": null,
            "min_height": null,
            "min_width": null,
            "object_fit": null,
            "object_position": null,
            "order": null,
            "overflow": null,
            "overflow_x": null,
            "overflow_y": null,
            "padding": null,
            "right": null,
            "top": null,
            "visibility": null,
            "width": null
          }
        }
      }
    }
  },
  "cells": [
    {
      "cell_type": "markdown",
      "metadata": {
        "id": "view-in-github",
        "colab_type": "text"
      },
      "source": [
        "<a href=\"https://colab.research.google.com/github/Chiomanwafor-ui/FreeCodeCamp_Projects/blob/main/Foundational_Math_2_(Learn).ipynb\" target=\"_parent\"><img src=\"https://colab.research.google.com/assets/colab-badge.svg\" alt=\"Open In Colab\"/></a>"
      ]
    },
    {
      "cell_type": "markdown",
      "metadata": {
        "id": "EsfO5Q92tL-6"
      },
      "source": [
        "[![freeCodeCamp](https://cdn.freecodecamp.org/testable-projects-fcc/images/fcc_secondary.svg)](https://freecodecamp.org/)"
      ]
    },
    {
      "cell_type": "markdown",
      "metadata": {
        "id": "7ECUmRBSGOb4"
      },
      "source": [
        "**Learn Foundational Math 2 by Building Cartesian Graphs**<br>\n",
        "Each of these steps will lead you toward the Certification Project. Once you complete a step, click to expand the next step."
      ]
    },
    {
      "cell_type": "markdown",
      "metadata": {
        "id": "szp5flp1fA8-"
      },
      "source": [
        "# &darr; **Do this first** &darr;\n",
        "Copy this notebook to your own account by clicking the `File` button at the top, and then click `Save a copy in Drive`. You will need to be logged in to Google. The file will be in a folder called \"Colab Notebooks\" in your Google Drive."
      ]
    },
    {
      "cell_type": "markdown",
      "source": [
        "# Step 0 - Acquire the testing library"
      ],
      "metadata": {
        "id": "iNcDJ45bGtYk"
      }
    },
    {
      "cell_type": "markdown",
      "source": [
        "Please run this code to get the library file from FreeCodeCamp. Each step will use this library to test your code. You do not need to edit anything; just run this code cell and wait a few seconds until it tells you to go on to the next step."
      ],
      "metadata": {
        "id": "2_U7sdv4zaww"
      }
    },
    {
      "cell_type": "code",
      "source": [
        "# You may need to run this cell at the beginning of each new session\n",
        "\n",
        "!pip install requests\n",
        "\n",
        "# This will just take a few seconds\n",
        "\n",
        "import requests\n",
        "\n",
        "# Get the library from GitHub\n",
        "url = 'https://raw.githubusercontent.com/edatfreecodecamp/python-math/main/math-code-test-b.py'\n",
        "r = requests.get(url)\n",
        "\n",
        "# Save the library in a local working directory\n",
        "with open('math_code_test_b.py', 'w') as f:\n",
        "    f.write(r.text)\n",
        "\n",
        "# Now you can import the library\n",
        "import math_code_test_b as test\n",
        "\n",
        "# This will tell you if the code works\n",
        "test.step01()"
      ],
      "metadata": {
        "id": "aDuDRHETG3Oy",
        "outputId": "b6e41f7e-75a1-401b-9e80-a5c454211f0e",
        "colab": {
          "base_uri": "https://localhost:8080/"
        }
      },
      "execution_count": null,
      "outputs": [
        {
          "output_type": "stream",
          "name": "stdout",
          "text": [
            "Requirement already satisfied: requests in /usr/local/lib/python3.11/dist-packages (2.32.3)\n",
            "Requirement already satisfied: charset-normalizer<4,>=2 in /usr/local/lib/python3.11/dist-packages (from requests) (3.4.2)\n",
            "Requirement already satisfied: idna<4,>=2.5 in /usr/local/lib/python3.11/dist-packages (from requests) (3.10)\n",
            "Requirement already satisfied: urllib3<3,>=1.21.1 in /usr/local/lib/python3.11/dist-packages (from requests) (2.5.0)\n",
            "Requirement already satisfied: certifi>=2017.4.17 in /usr/local/lib/python3.11/dist-packages (from requests) (2025.8.3)\n",
            "Code test Passed\n",
            "Go on to the next step\n"
          ]
        }
      ]
    },
    {
      "cell_type": "markdown",
      "metadata": {
        "id": "ZWDxpIPUFfda"
      },
      "source": [
        "# Step 1 - Cartesian Coordinates"
      ]
    },
    {
      "cell_type": "markdown",
      "metadata": {
        "id": "eTWzFpChFltm"
      },
      "source": [
        "Learn Cartesian coordinates by building a scatterplot game. The Cartesian plane is the classic x-y coordinate grid (invented by Ren$\\acute{e}$ DesCartes) where \"<i>x</i>\" is the horizontal axis and \"<i>y</i>\" is the vertical axis. Each (x,y) coordinate pair is a point on the graph. The point (0,0) is the \"origin.\" The x value tells how much to move right (positive) or left (negative) from the origin. The y value tells you how much you move up (positive) or down (negative) from the origin. Notice that you are importing `matplotlib` to create the graph. The following code just displays one quadrant of the Cartesian graph. Just run this code to see how Python displays a graph.\n"
      ]
    },
    {
      "cell_type": "code",
      "metadata": {
        "id": "OGdjnZw0Fmf7",
        "outputId": "d2054830-a358-403c-d34c-ff2ecf7f643e",
        "colab": {
          "base_uri": "https://localhost:8080/",
          "height": 471
        }
      },
      "source": [
        "import matplotlib.pyplot as plt\n",
        "\n",
        "fig, ax = plt.subplots()\n",
        "plt.show()\n",
        "\n",
        "# Just run this code to see a blank graph\n",
        "import math_code_test_b as test\n",
        "test.step01()"
      ],
      "execution_count": null,
      "outputs": [
        {
          "output_type": "display_data",
          "data": {
            "text/plain": [
              "<Figure size 640x480 with 1 Axes>"
            ],
            "image/png": "[encoded data removed]"
          },
          "metadata": {}
        },
        {
          "output_type": "stream",
          "name": "stdout",
          "text": [
            "Code test Passed\n",
            "Go on to the next step\n"
          ]
        }
      ]
    },
    {
      "cell_type": "markdown",
      "source": [],
      "metadata": {
        "id": "u1UPmsSzqcJT"
      }
    },
    {
      "cell_type": "markdown",
      "metadata": {
        "id": "i1mBd8gGFvBV"
      },
      "source": [
        "# Step 2 - Cartesian Coordinates (Part 2)"
      ]
    },
    {
      "cell_type": "markdown",
      "metadata": {
        "id": "aylg20IGFvBW"
      },
      "source": [
        "Here you will create a standard window but still not highlight each axis. Run this code once, then change the window size to 20 in each direction and run it again."
      ]
    },
    {
      "cell_type": "code",
      "metadata": {
        "id": "EKfFo4_EFvBX",
        "outputId": "f0ba0285-4e84-4afb-c0f2-5c69bfa38b10",
        "colab": {
          "base_uri": "https://localhost:8080/",
          "height": 490
        }
      },
      "source": [
        "import matplotlib.pyplot as plt\n",
        "\n",
        "fig, ax = plt.subplots()\n",
        "\n",
        "# Only change the numbers in the next line:\n",
        "plt.axis([-20,20,-20,20])\n",
        "\n",
        "plt.show()\n",
        "\n",
        "\n",
        "# Only change code above this line\n",
        "import math_code_test_b as test\n",
        "test.step02(In[-1].split('# Only change code above this line')[0])"
      ],
      "execution_count": null,
      "outputs": [
        {
          "output_type": "display_data",
          "data": {
            "text/plain": [
              "<Figure size 640x480 with 1 Axes>"
            ],
            "image/png": "[encoded data removed]"
          },
          "metadata": {}
        },
        {
          "output_type": "stream",
          "name": "stdout",
          "text": [
            " \n",
            "Code test passed\n",
            "Go on to the next step\n"
          ]
        }
      ]
    },
    {
      "cell_type": "markdown",
      "source": [
        "# Step 3 - Graph Dimensions"
      ],
      "metadata": {
        "id": "MYQL57cD2ejS"
      }
    },
    {
      "cell_type": "markdown",
      "source": [
        "When you look at this code, you can see how Python sets up window dimensions. You will also notice that it is easier and more organized to define the dimensions as variables. Run the code, then change just the `xmax` value to 20 and run it again to see the difference."
      ],
      "metadata": {
        "id": "b2k229tOz9YQ"
      }
    },
    {
      "cell_type": "code",
      "source": [
        "import matplotlib.pyplot as plt\n",
        "\n",
        "xmin = -20\n",
        "xmax = 20\n",
        "ymin = -20\n",
        "ymax = 20\n",
        "\n",
        "fig, ax = plt.subplots()\n",
        "plt.axis([xmin,xmax,ymin,ymax]) # window size\n",
        "plt.show()\n",
        "\n",
        "# Only change code above this line\n",
        "import math_code_test_b as test\n",
        "test.step03(In[-1].split('# Only change code above this line')[0])"
      ],
      "metadata": {
        "id": "uXvHo-5a2Zi_",
        "outputId": "0b1a7e70-e1d8-439e-c268-0aa4aa8b7bf8",
        "colab": {
          "base_uri": "https://localhost:8080/",
          "height": 490
        }
      },
      "execution_count": null,
      "outputs": [
        {
          "output_type": "display_data",
          "data": {
            "text/plain": [
              "<Figure size 640x480 with 1 Axes>"
            ],
            "image/png": "[encoded data removed]"
          },
          "metadata": {}
        },
        {
          "output_type": "stream",
          "name": "stdout",
          "text": [
            " \n",
            "Code test passed\n",
            "Go on to the next step\n"
          ]
        }
      ]
    },
    {
      "cell_type": "markdown",
      "source": [
        "# Step 4 - Displaying Axis Lines"
      ],
      "metadata": {
        "id": "jIHKROStFMcR"
      }
    },
    {
      "cell_type": "markdown",
      "source": [
        "Notice the code to `plot` a line for the x axis and a line for the y axis. The `'b'` makes the line blue. Run the code, then change each 'b' to 'g' to make the lines green."
      ],
      "metadata": {
        "id": "NhrHvY1YEndp"
      }
    },
    {
      "cell_type": "code",
      "source": [
        "import matplotlib.pyplot as plt\n",
        "\n",
        "xmin = -10\n",
        "xmax = 10\n",
        "ymin = -10\n",
        "ymax = 10\n",
        "\n",
        "fig, ax = plt.subplots()\n",
        "plt.axis([xmin,xmax,ymin,ymax]) # window size\n",
        "plt.plot([xmin,xmax],[0,0],'g') # green x axis\n",
        "plt.plot([0,0],[ymin,ymax], 'g') # green y axis\n",
        "\n",
        "plt.show()\n",
        "\n",
        "# Only change code above this line\n",
        "import math_code_test_b as test\n",
        "test.step04(In[-1].split('# Only change code above this line')[0])"
      ],
      "metadata": {
        "id": "mgWhRLtwFGOd",
        "outputId": "0a751fbb-e7f1-4c19-b230-26e1d9b62494",
        "colab": {
          "base_uri": "https://localhost:8080/",
          "height": 490
        }
      },
      "execution_count": null,
      "outputs": [
        {
          "output_type": "display_data",
          "data": {
            "text/plain": [
              "<Figure size 640x480 with 1 Axes>"
            ],
            "image/png": "[encoded data removed]"
          },
          "metadata": {}
        },
        {
          "output_type": "stream",
          "name": "stdout",
          "text": [
            " \n",
            "Code test passed\n",
            "Go on to the next step\n"
          ]
        }
      ]
    },
    {
      "cell_type": "markdown",
      "metadata": {
        "id": "wLDO_IRrFw7z"
      },
      "source": [
        "# Step 5 - Plotting a Point"
      ]
    },
    {
      "cell_type": "markdown",
      "metadata": {
        "id": "iOZ8TJISFw71"
      },
      "source": [
        "Now you will plot a point on the graph. Notice the `'ro'` makes the point a red dot. Run the code, then change the location of the point to (-5,1) and run it again. Keep the window size the same. Notice the difference between plotting a point and plotting a line."
      ]
    },
    {
      "cell_type": "code",
      "metadata": {
        "id": "N09NlV3DFw71",
        "outputId": "56c1df32-ff46-4604-9a5f-e6901861beaf",
        "colab": {
          "base_uri": "https://localhost:8080/",
          "height": 490
        }
      },
      "source": [
        "import matplotlib.pyplot as plt\n",
        "\n",
        "xmin = -10\n",
        "xmax = 10\n",
        "ymin = -10\n",
        "ymax = 10\n",
        "\n",
        "fig, ax = plt.subplots()\n",
        "plt.axis([xmin,xmax,ymin,ymax]) # window size\n",
        "plt.plot([xmin,xmax],[0,0],'b') # blue x axis\n",
        "plt.plot([0,0],[ymin,ymax], 'b') # blue y axis\n",
        "\n",
        "# Change only the numbers in the following line:\n",
        "plt.plot([-5],[1], 'ro')\n",
        "\n",
        "plt.show()\n",
        "\n",
        "\n",
        "# Only change code above this line\n",
        "import math_code_test_b as test\n",
        "test.step05(In[-1].split('# Only change code above this line')[0])"
      ],
      "execution_count": null,
      "outputs": [
        {
          "output_type": "display_data",
          "data": {
            "text/plain": [
              "<Figure size 640x480 with 1 Axes>"
            ],
            "image/png": "[encoded data removed]"
          },
          "metadata": {}
        },
        {
          "output_type": "stream",
          "name": "stdout",
          "text": [
            " \n",
            "Code test passed\n",
            "Go on to the next step\n"
          ]
        }
      ]
    },
    {
      "cell_type": "markdown",
      "metadata": {
        "id": "ExVB2joZF0rk"
      },
      "source": [
        "# Step 6 - Plotting Several Points"
      ]
    },
    {
      "cell_type": "markdown",
      "metadata": {
        "id": "G48kO0jcF0rl"
      },
      "source": [
        "You have actually been using arrays to plot each singular point so far. In this step, you will see an array of x values and an array of y values defined before the plot statement. Notice that these two short arrays create one point: (4,2). Add two numbers to each array so that it also plots points (1,1) and (2,5)."
      ]
    },
    {
      "cell_type": "code",
      "metadata": {
        "id": "YkRIMNimF0rm",
        "outputId": "1860f816-d5fc-4154-a166-8dc03836b9bc",
        "colab": {
          "base_uri": "https://localhost:8080/",
          "height": 490
        }
      },
      "source": [
        "import matplotlib.pyplot as plt\n",
        "\n",
        "# only change the next two lines:\n",
        "x = [4,1,2]\n",
        "y = [2,1,5]\n",
        "\n",
        "# Only change code above this line\n",
        "\n",
        "xmin = -10\n",
        "xmax = 10\n",
        "ymin = -10\n",
        "ymax = 10\n",
        "\n",
        "fig, ax = plt.subplots()\n",
        "plt.axis([xmin,xmax,ymin,ymax]) # window size\n",
        "plt.plot([xmin,xmax],[0,0],'b') # blue x axis\n",
        "plt.plot([0,0],[ymin,ymax],'b') # blue y axis\n",
        "\n",
        "plt.plot(x, y, 'ro') # red points\n",
        "plt.show()\n",
        "\n",
        "\n",
        "# Only change code above this line\n",
        "import math_code_test_b as test\n",
        "test.step06(In[-1].split('# Only change code above this line')[0])"
      ],
      "execution_count": null,
      "outputs": [
        {
          "output_type": "display_data",
          "data": {
            "text/plain": [
              "<Figure size 640x480 with 1 Axes>"
            ],
            "image/png": "[encoded data removed]"
          },
          "metadata": {}
        },
        {
          "output_type": "stream",
          "name": "stdout",
          "text": [
            " \n",
            "Code test passed\n",
            "Go on to the next step\n"
          ]
        }
      ]
    },
    {
      "cell_type": "markdown",
      "metadata": {
        "id": "3MqIpFTOF1m9"
      },
      "source": [
        "# Step 7 - Plotting Points and Lines"
      ]
    },
    {
      "cell_type": "markdown",
      "metadata": {
        "id": "1O1_p4BqF1m-"
      },
      "source": [
        "Notice the subtle difference between plotting points and lines. Each `plot()` statement takes an array of x values, an array of y values, and a third argument to tell what you are plotting. The default plot is a line. The letters `'r'` and `'b'` (and `'g'` and a few others) indicate common colors. The \"o\" in `'ro'` indicates a dot, where `'rs'` would indicate a red square and `'r^'` would indicate a red triangle. Plot a red line and two green squares."
      ]
    },
    {
      "cell_type": "code",
      "metadata": {
        "id": "oMRcOD7hF1m-",
        "outputId": "03369e24-116c-47d8-e43a-7ecf6a3ff339",
        "colab": {
          "base_uri": "https://localhost:8080/",
          "height": 490
        }
      },
      "source": [
        "import matplotlib.pyplot as plt\n",
        "\n",
        "# Use these numbers:\n",
        "linex = [2,4]\n",
        "liney = [1,5]\n",
        "pointx = [1,6]\n",
        "pointy = [6,3]\n",
        "\n",
        "# Keep these lines:\n",
        "xmin = -10\n",
        "xmax = 10\n",
        "ymin = -10\n",
        "ymax = 10\n",
        "\n",
        "fig, ax = plt.subplots()\n",
        "plt.axis([xmin,xmax,ymin,ymax]) # window size\n",
        "plt.plot([xmin,xmax],[0,0],'b') # blue x axis\n",
        "plt.plot([0,0],[ymin,ymax], 'b') # blue y axis\n",
        "\n",
        "# Change the next two lines:\n",
        "plt.plot(linex, liney, 'r')\n",
        "plt.plot(pointx, pointy, 'gs')\n",
        "\n",
        "plt.show()\n",
        "\n",
        "\n",
        "# Only change code above this line\n",
        "import math_code_test_b as test\n",
        "test.step07(In[-1].split('# Only change code above this line')[0])"
      ],
      "execution_count": null,
      "outputs": [
        {
          "output_type": "display_data",
          "data": {
            "text/plain": [
              "<Figure size 640x480 with 1 Axes>"
            ],
            "image/png": "[encoded data removed]"
          },
          "metadata": {}
        },
        {
          "output_type": "stream",
          "name": "stdout",
          "text": [
            " \n",
            "Code test passed\n",
            "Go on to the next step\n"
          ]
        }
      ]
    },
    {
      "cell_type": "markdown",
      "metadata": {
        "id": "NKq_qwCsF3Dj"
      },
      "source": [
        "# Step 8 - Making a Scatterplot Game"
      ]
    },
    {
      "cell_type": "markdown",
      "metadata": {
        "id": "sBh-rNyOF3Dk"
      },
      "source": [
        "To make the game, you can make a loop that plots a random point and asks the user to input the (x,y) coordinates. Notice the `for` loop that runs three rounds of the game. Run the code, play the game, then you can go on to the next step."
      ]
    },
    {
      "cell_type": "code",
      "metadata": {
        "id": "uR5TFWbLF3Dk",
        "outputId": "2bb5ff3d-74b4-46a3-e6ce-ca97cca111aa",
        "colab": {
          "base_uri": "https://localhost:8080/",
          "height": 1000
        }
      },
      "source": [
        "import matplotlib.pyplot as plt\n",
        "import random\n",
        "\n",
        "score = 0\n",
        "\n",
        "xmin = -8\n",
        "xmax = 8\n",
        "ymin = -8\n",
        "ymax = 8\n",
        "\n",
        "fig, ax = plt.subplots()\n",
        "\n",
        "for i in range(3):\n",
        "    xpoint = random.randint(xmin, xmax)\n",
        "    ypoint = random.randint(ymin, ymax)\n",
        "    x = [xpoint]\n",
        "    y = [ypoint]\n",
        "    plt.axis([xmin,xmax,ymin,ymax]) # window size\n",
        "    plt.plot([xmin,xmax],[0,0],'b') # blue x axis\n",
        "    plt.plot([0,0],[ymin,ymax], 'b') # blue y axis\n",
        "    plt.plot(x, y, 'ro')\n",
        "    print(\" \")\n",
        "    plt.grid() # displays grid lines on graph\n",
        "    plt.show()\n",
        "    guess = input(\"Enter the coordinates of the red point point: \\n\")\n",
        "    guess_array = guess.split(\",\")\n",
        "    xguess = int(guess_array[0])\n",
        "    yguess = int(guess_array[1])\n",
        "    if xguess == xpoint and yguess == ypoint:\n",
        "        score = score + 1\n",
        "\n",
        "print(\"Your score: \", score) # notice this is not in the loop\n",
        "\n",
        "\n",
        "# Only change code above this line\n",
        "import math_code_test_b as test\n",
        "test.step08(score)"
      ],
      "execution_count": null,
      "outputs": [
        {
          "output_type": "stream",
          "name": "stdout",
          "text": [
            " \n"
          ]
        },
        {
          "output_type": "display_data",
          "data": {
            "text/plain": [
              "<Figure size 640x480 with 1 Axes>"
            ],
            "image/png": "[encoded data removed]"
          },
          "metadata": {}
        },
        {
          "output_type": "stream",
          "name": "stdout",
          "text": [
            "Enter the coordinates of the red point point: \n",
            "6, 7\n",
            " \n"
          ]
        },
        {
          "output_type": "display_data",
          "data": {
            "text/plain": [
              "<Figure size 640x480 with 1 Axes>"
            ],
            "image/png": "[encoded data removed]"
          },
          "metadata": {}
        },
        {
          "output_type": "stream",
          "name": "stdout",
          "text": [
            "Enter the coordinates of the red point point: \n",
            "5, -6\n",
            " \n"
          ]
        },
        {
          "output_type": "display_data",
          "data": {
            "text/plain": [
              "<Figure size 640x480 with 1 Axes>"
            ],
            "image/png": "[encoded data removed]"
          },
          "metadata": {}
        },
        {
          "output_type": "stream",
          "name": "stdout",
          "text": [
            "Enter the coordinates of the red point point: \n",
            "0, -7\n",
            "Your score:  3\n",
            "You scored 3 out of 3. Good job!\n",
            "You can go on to the next step\n"
          ]
        }
      ]
    },
    {
      "cell_type": "markdown",
      "metadata": {
        "id": "wvdngkOTF4Hi"
      },
      "source": [
        "# Step 9 - Graphing Linear Equations"
      ]
    },
    {
      "cell_type": "markdown",
      "metadata": {
        "id": "fTzBZAmtF4Hj"
      },
      "source": [
        "Besides graphing points, you can graph <i>linear equations</i> (or <i>functions</i>). The graph will be a straight line, and the equation will not have any exponents. For these graphs, you will import `numpy` and use the `linspace()` function to define the x values. That function takes three arguments: starting number, ending number, and number of steps. Notice the `plot()` function only has two arguments: the x values and a function (y = 2x - 3) for the y values. Run this code, then use the same x values to graph `y = -x + 3`."
      ]
    },
    {
      "cell_type": "code",
      "metadata": {
        "id": "xJ0pkcFsF4Hj",
        "outputId": "214134fa-a795-4afd-c6f8-17757c225d02",
        "colab": {
          "base_uri": "https://localhost:8080/",
          "height": 490
        }
      },
      "source": [
        "import matplotlib.pyplot as plt\n",
        "import numpy as np\n",
        "\n",
        "xmin = -10\n",
        "xmax = 10\n",
        "ymin = -10\n",
        "ymax = 10\n",
        "\n",
        "fig, ax = plt.subplots()\n",
        "plt.axis([xmin,xmax,ymin,ymax]) # window size\n",
        "plt.plot([xmin,xmax],[0,0],'b') # blue x axis\n",
        "plt.plot([0,0],[ymin,ymax], 'b') # blue y axis\n",
        "\n",
        "x = np.linspace(-9,9,36)\n",
        "\n",
        "# Only change the next line to graph y = -x + 3\n",
        "plt.plot(x, -x + 3)\n",
        "\n",
        "\n",
        "\n",
        "plt.show()\n",
        "\n",
        "\n",
        "# Only change code above this line\n",
        "import math_code_test_b as test\n",
        "test.step09(In[-1].split('# Only change code above this line')[0])"
      ],
      "execution_count": null,
      "outputs": [
        {
          "output_type": "display_data",
          "data": {
            "text/plain": [
              "<Figure size 640x480 with 1 Axes>"
            ],
            "image/png": "[encoded data removed]"
          },
          "metadata": {}
        },
        {
          "output_type": "stream",
          "name": "stdout",
          "text": [
            " \n",
            "Code test passed\n",
            "Go on to the next step\n"
          ]
        }
      ]
    },
    {
      "cell_type": "markdown",
      "metadata": {
        "id": "Q19Wm90DF5zf"
      },
      "source": [
        "# Step 10 - Creating Interactive Graphs"
      ]
    },
    {
      "cell_type": "markdown",
      "metadata": {
        "id": "JNEjD9DxF5zh"
      },
      "source": [
        "Like the previous graphs, you will graph a line. This time, you will create two sliders to change the <i>slope</i> and the <i>y intecept</i>. Notice the additional imports and other changes: You define a function with two arguments. All of the graphing happens within that `f(m,b)` function. The `interactive()` function calls your defined function and sets the boundaries for the sliders. Run this code then adjust the sliders and notice how they affect the graph."
      ]
    },
    {
      "cell_type": "code",
      "metadata": {
        "id": "9lh41CENF5zh",
        "outputId": "c416284d-8794-4c33-a41b-c13c98d1101c",
        "colab": {
          "base_uri": "https://localhost:8080/",
          "height": 552,
          "referenced_widgets": [
            "faa19902e1d544b687fde4bbfab9bda4",
            "8298293228fa4f179e9291c04c2b006c",
            "d8f153026c274937806893d7ecfdddf2",
            "2ee88f1679c14b62825da2a2e779fd3e",
            "68bcf1b1a8844c739e525ad7ea38ca22",
            "6679117cb7ef4c86a7774aa01d363202",
            "5d9910d54c20463b956717d9e6bc2079",
            "33c23c345f7c46a380a44e960ff1205c",
            "1184a566739746bf8af10fb7bfae3d6a",
            "a24cef387c6a42d08b0d7cc201b4b6e8"
          ]
        }
      },
      "source": [
        "%matplotlib inline\n",
        "from ipywidgets import interactive\n",
        "import matplotlib.pyplot as plt\n",
        "import numpy as np\n",
        "\n",
        "# Define the graphing function\n",
        "def f(m, b):\n",
        "    xmin = -10\n",
        "    xmax = 10\n",
        "    ymin = -10\n",
        "    ymax = 10\n",
        "    plt.axis([xmin,xmax,ymin,ymax]) # window size\n",
        "    plt.plot([xmin,xmax],[0,0],'black') # black x axis\n",
        "    plt.plot([0,0],[ymin,ymax], 'black') # black y axis\n",
        "    plt.title('y = mx + b')\n",
        "    x = np.linspace(-10, 10, 1000)\n",
        "    plt.plot(x, m*x+b)\n",
        "    plt.show()\n",
        "\n",
        "# Set up the sliders\n",
        "interactive_plot = interactive(f, m=(-9, 9), b=(-9, 9))\n",
        "interactive_plot\n",
        "\n",
        "\n",
        "# Just run this code and use the sliders\n",
        "import math_code_test_b as test\n",
        "test.step01()\n",
        "interactive_plot"
      ],
      "execution_count": null,
      "outputs": [
        {
          "output_type": "stream",
          "name": "stdout",
          "text": [
            "Code test Passed\n",
            "Go on to the next step\n"
          ]
        },
        {
          "output_type": "display_data",
          "data": {
            "text/plain": [
              "interactive(children=(IntSlider(value=0, description='m', max=9, min=-9), IntSlider(value=0, description='b', …"
            ],
            "application/vnd.jupyter.widget-view+json": {
              "version_major": 2,
              "version_minor": 0,
              "model_id": "faa19902e1d544b687fde4bbfab9bda4"
            }
          },
          "metadata": {}
        }
      ]
    },
    {
      "cell_type": "markdown",
      "metadata": {
        "id": "YSY2k7S3F6d7"
      },
      "source": [
        "# Step 11 - Graphing Systems"
      ]
    },
    {
      "cell_type": "markdown",
      "metadata": {
        "id": "8MG28-VPF6d8"
      },
      "source": [
        "When you graph two equations on the same coordinate plane, they are a <i>system of equations</i>. Notice how the `points` variable defines the number of points and the `linspace()` function uses that variable. Run this code to see the graph, then change `y2` so that it graphs y = -x - 3."
      ]
    },
    {
      "cell_type": "code",
      "metadata": {
        "id": "wYHGm-PAF6d9",
        "outputId": "461881ad-fd31-4d0e-c8c8-70eb0810cf62",
        "colab": {
          "base_uri": "https://localhost:8080/",
          "height": 490
        }
      },
      "source": [
        "import matplotlib.pyplot as plt\n",
        "import numpy as np\n",
        "\n",
        "\n",
        "xmin = -10\n",
        "xmax = 10\n",
        "ymin = -10\n",
        "ymax = 10\n",
        "points = 2*(xmax-xmin)\n",
        "\n",
        "# Define the x values once\n",
        "x = np.linspace(xmin,xmax,points)\n",
        "\n",
        "fig, ax = plt.subplots()\n",
        "plt.axis([xmin,xmax,ymin,ymax]) # window size\n",
        "plt.plot([xmin,xmax],[0,0],'b') # blue x axis\n",
        "plt.plot([0,0],[ymin,ymax], 'b') # blue y axis\n",
        "\n",
        "# line 1\n",
        "y1 = 2*x\n",
        "plt.plot(x, y1)\n",
        "\n",
        "# line 2\n",
        "y2 = -x - 3\n",
        "plt.plot(x, y2)\n",
        "\n",
        "plt.show()\n",
        "\n",
        "\n",
        "# Only change code above this line\n",
        "import math_code_test_b as test\n",
        "test.step11(In[-1].split('# Only change code above this line')[0])"
      ],
      "execution_count": null,
      "outputs": [
        {
          "output_type": "display_data",
          "data": {
            "text/plain": [
              "<Figure size 640x480 with 1 Axes>"
            ],
            "image/png": "[encoded data removed]"
          },
          "metadata": {}
        },
        {
          "output_type": "stream",
          "name": "stdout",
          "text": [
            " \n",
            "Code test passed\n",
            "Go on to the next step\n"
          ]
        }
      ]
    },
    {
      "cell_type": "markdown",
      "metadata": {
        "id": "ykj42UNeF7K5"
      },
      "source": [
        "# Step 12 - Systems of Equations - Algebra"
      ]
    },
    {
      "cell_type": "markdown",
      "metadata": {
        "id": "n_-rpo6nF7K7"
      },
      "source": [
        "In a system of equations, the solution is the point where the two equations intersect, the (x,y) values that work in each equation. To work with algabraic expressions, you will import `sympy` and define x and y as symbols. If you have two equations and two variables, set each equation equal to zero. The `linsolve()` function takes the non-zero side of each equation and the variables used. Notice the syntax. Run the code, then change the two equations to solve 2x + y - 15 = 0 and 3x - y = 0."
      ]
    },
    {
      "cell_type": "code",
      "metadata": {
        "id": "6dFzZfqRF7K7",
        "outputId": "d8726a09-dec4-42ef-c90d-93492deda30a",
        "colab": {
          "base_uri": "https://localhost:8080/"
        }
      },
      "source": [
        "from sympy import *\n",
        "x,y = symbols('x y')\n",
        "\n",
        "\n",
        "# Change the equations in the following line:\n",
        "print(linsolve([2*x + y - 15, 3*x - y], (x, y)))\n",
        "\n",
        "\n",
        "# Only change code above this line\n",
        "import math_code_test_b as test\n",
        "test.step12(In[-1].split('# Only change code above this line')[0])"
      ],
      "execution_count": null,
      "outputs": [
        {
          "output_type": "stream",
          "name": "stdout",
          "text": [
            "{(3, 9)}\n",
            " \n",
            "Code test passed\n",
            "Go on to the next step\n"
          ]
        }
      ]
    },
    {
      "cell_type": "markdown",
      "source": [
        "# Step 13 - Solutions as Coordinates"
      ],
      "metadata": {
        "id": "QSKeBTgXHRAv"
      }
    },
    {
      "cell_type": "markdown",
      "source": [
        "The `linsolve()` function returns a <i>finite set</i>, and you can convert that \"finite set\" into (x,y) coordinates. Notice how the code parses the `solution` variable into two separate variables. Just run the code to see how this works."
      ],
      "metadata": {
        "id": "D2Ca3L-fHCzi"
      }
    },
    {
      "cell_type": "code",
      "source": [
        "from sympy import *\n",
        "x,y = symbols('x y')\n",
        "\n",
        "# Use variables for each equation\n",
        "first = x + y\n",
        "second = x - y\n",
        "\n",
        "# parse finite set answer as coordinate pair\n",
        "solution = linsolve([first, second], (x, y))\n",
        "x_solution = solution.args[0][0]\n",
        "y_solution = solution.args[0][1]\n",
        "\n",
        "print(\"x = \", x_solution)\n",
        "print(\"y = \", y_solution)\n",
        "print(\" \")\n",
        "print(\"Solution: (\",x_solution,\",\",y_solution,\")\")\n",
        "\n",
        "\n",
        "# Just run this code\n",
        "import math_code_test_b as test\n",
        "test.step01()"
      ],
      "metadata": {
        "id": "7uhBD85SHK3S",
        "outputId": "75fda021-333d-4795-b24f-01077b343ba1",
        "colab": {
          "base_uri": "https://localhost:8080/"
        }
      },
      "execution_count": null,
      "outputs": [
        {
          "output_type": "stream",
          "name": "stdout",
          "text": [
            "x =  0\n",
            "y =  0\n",
            " \n",
            "Solution: ( 0 , 0 )\n",
            "Code test Passed\n",
            "Go on to the next step\n"
          ]
        }
      ]
    },
    {
      "cell_type": "markdown",
      "metadata": {
        "id": "0epVLhL0F88U"
      },
      "source": [
        "# Step 14 - Systems from User Input"
      ]
    },
    {
      "cell_type": "markdown",
      "metadata": {
        "id": "VhoI5uNrF88V"
      },
      "source": [
        "For more flexibility, you can get each equation as user input (instead of defining them in the code). Run this code and try it out - to solve any system of two equations."
      ]
    },
    {
      "cell_type": "code",
      "metadata": {
        "id": "8irtXhucF88W",
        "outputId": "61cb13b1-5240-4dba-d017-e75c57175cb1",
        "colab": {
          "base_uri": "https://localhost:8080/"
        }
      },
      "source": [
        "from sympy import *\n",
        "\n",
        "x,y = symbols('x y')\n",
        "print(\"Remember to use Python syntax with x and y as variables\")\n",
        "print(\"Notice how each equation is already set equal to zero\")\n",
        "first = input(\"Enter the first equation: 0 = \")\n",
        "second = input(\"Enter the second equation: 0 = \")\n",
        "solution = linsolve([first, second], (x, y))\n",
        "x_solution = solution.args[0][0]\n",
        "y_solution = solution.args[0][1]\n",
        "\n",
        "print(\"x = \", x_solution)\n",
        "print(\"y = \", y_solution)\n",
        "\n",
        "\n",
        "# Just run this code and test it with different equations\n",
        "import math_code_test_b as test\n",
        "test.step14()"
      ],
      "execution_count": null,
      "outputs": [
        {
          "output_type": "stream",
          "name": "stdout",
          "text": [
            "Remember to use Python syntax with x and y as variables\n",
            "Notice how each equation is already set equal to zero\n",
            "Enter the first equation: 0 = 3*x+4-y\n",
            "Enter the second equation: 0 = 5*x+5-y\n",
            "x =  -1/2\n",
            "y =  5/2\n",
            " \n",
            "If you didn't get a syntax error, code test passed\n"
          ]
        }
      ]
    },
    {
      "cell_type": "markdown",
      "source": [
        "# Step 15 - Solve and graph a system"
      ],
      "metadata": {
        "id": "8FCFQaq1Hizh"
      }
    },
    {
      "cell_type": "markdown",
      "source": [
        "Now you can put it all together: solve a system of equations, graph the system, and plot a point where the two lines intersect. Notice how this code is not like the previous solving equations code or the graphing code or the user input code. Python uses `sympy` to get the (x,y) solution and `numpy` to get the values to graph, so the user inputs nummerical values and the code uses them in two different ways. Think about how you would do this if the user input values for ax + by = c."
      ],
      "metadata": {
        "id": "wMwKLQvyHaWp"
      }
    },
    {
      "cell_type": "code",
      "source": [
        "from sympy import *\n",
        "import matplotlib.pyplot as plt\n",
        "import numpy as np\n",
        "\n",
        "print(\"First equation: y = mx + b\")\n",
        "mb_1 = input(\"Enter m and b, separated by a comma: \")\n",
        "mb_in1 = mb_1.split(\",\")\n",
        "m1 = float(mb_in1[0])\n",
        "b1 = float(mb_in1[1])\n",
        "\n",
        "print(\"Second equation: y = mx + b\")\n",
        "mb_2 = input(\"Enter m and b, separated by a comma: \")\n",
        "mb_in2 = mb_2.split(\",\")\n",
        "m2 = float(mb_in2[0])\n",
        "b2 = float(mb_in2[1])\n",
        "\n",
        "# Solve the system of equations\n",
        "x,y = symbols('x y')\n",
        "first = m1*x + b1 - y\n",
        "second = m2*x + b2 - y\n",
        "solution = linsolve([first, second], (x, y))\n",
        "x_solution = round(float(solution.args[0][0]),3)\n",
        "y_solution = round(float(solution.args[0][1]),3)\n",
        "\n",
        "# Make sure the window includes the solution\n",
        "xmin = int(x_solution) - 20\n",
        "xmax = int(x_solution) + 20\n",
        "ymin = int(y_solution) - 20\n",
        "ymax = int(y_solution) + 20\n",
        "points = 2*(xmax-xmin)\n",
        "\n",
        "# Define the x values once for the graph\n",
        "graph_x = np.linspace(xmin,xmax,points)\n",
        "\n",
        "# Define the y values for the graph\n",
        "y1 = m1*graph_x + b1\n",
        "y2 = m2*graph_x + b2\n",
        "\n",
        "fig, ax = plt.subplots()\n",
        "plt.axis([xmin,xmax,ymin,ymax]) # window size\n",
        "plt.plot([xmin,xmax],[0,0],'b') # blue x axis\n",
        "plt.plot([0,0],[ymin,ymax], 'b') # blue y axis\n",
        "\n",
        "# line 1\n",
        "plt.plot(graph_x, y1)\n",
        "\n",
        "# line 2\n",
        "plt.plot(graph_x, y2)\n",
        "\n",
        "# point\n",
        "plt.plot([x_solution],[y_solution],'ro')\n",
        "\n",
        "plt.show()\n",
        "print(\" \")\n",
        "print(\"Solution: (\", x_solution, \",\", y_solution, \")\")\n",
        "\n",
        "\n",
        "# Run this code and test it with different equations\n"
      ],
      "metadata": {
        "id": "wLBNm5j6HffY",
        "outputId": "ba0fa0a3-b08c-4dff-e4d7-13c14d2f7b99",
        "colab": {
          "base_uri": "https://localhost:8080/",
          "height": 544
        }
      },
      "execution_count": null,
      "outputs": [
        {
          "name": "stdout",
          "output_type": "stream",
          "text": [
            "First equation: y = mx + b\n",
            "Enter m and b, separated by a comma: 3,5\n",
            "Second equation: y = mx + b\n",
            "Enter m and b, separated by a comma: -1,6\n"
          ]
        },
        {
          "output_type": "display_data",
          "data": {
            "text/plain": [
              "<Figure size 640x480 with 1 Axes>"
            ],
            "image/png": "[encoded data removed]"
          },
          "metadata": {}
        },
        {
          "output_type": "stream",
          "name": "stdout",
          "text": [
            " \n",
            "Solution: ( 0.25 , 5.75 )\n"
          ]
        }
      ]
    },
    {
      "cell_type": "markdown",
      "metadata": {
        "id": "BhKPZQJZF9w0"
      },
      "source": [
        "# Step 16 - Quadratic Functions"
      ]
    },
    {
      "cell_type": "markdown",
      "metadata": {
        "id": "BYmD2FYHF9w1"
      },
      "source": [
        "Any function that involves x<sup>2</sup> is a \"quadratic\" function because \"x squared\" could be the area of a square. The graph is a parabola. The formula is y = ax<sup>2</sup> + bx + c, where `b` and `c` can be zero but `a` has to be a number. Here is a graph of the simplest parabola."
      ]
    },
    {
      "cell_type": "code",
      "metadata": {
        "id": "sfQl_A1CF9w1",
        "outputId": "619a1bba-e899-45a6-cc47-0f865a81a5df",
        "colab": {
          "base_uri": "https://localhost:8080/",
          "height": 471
        }
      },
      "source": [
        "import matplotlib.pyplot as plt\n",
        "import numpy as np\n",
        "\n",
        "xmin = -10\n",
        "xmax = 10\n",
        "ymin = -10\n",
        "ymax = 10\n",
        "points = 2*(xmax-xmin)\n",
        "x = np.linspace(xmin,xmax,points)\n",
        "\n",
        "fig, ax = plt.subplots()\n",
        "plt.axis([xmin,xmax,ymin,ymax]) # window size\n",
        "plt.plot([xmin,xmax],[0,0],'b') # blue x axis\n",
        "plt.plot([0,0],[ymin,ymax], 'b') # blue y axis\n",
        "\n",
        "y = x**2\n",
        "\n",
        "plt.plot(x,y)\n",
        "plt.show()\n",
        "\n",
        "# Just run this code. The next step will transform the graph\n",
        "import math_code_test_b as test\n",
        "test.step01()"
      ],
      "execution_count": null,
      "outputs": [
        {
          "output_type": "display_data",
          "data": {
            "text/plain": [
              "<Figure size 640x480 with 1 Axes>"
            ],
            "image/png": "[encoded data removed]"
          },
          "metadata": {}
        },
        {
          "output_type": "stream",
          "name": "stdout",
          "text": [
            "Code test Passed\n",
            "Go on to the next step\n"
          ]
        }
      ]
    },
    {
      "cell_type": "markdown",
      "metadata": {
        "id": "I0mklEluF-jI"
      },
      "source": [
        "# Step 17 - Quadratic Function ABC's"
      ]
    },
    {
      "cell_type": "markdown",
      "metadata": {
        "id": "AJuHf8ySF-jJ"
      },
      "source": [
        "Using the parabola formula y = ax<sup>2</sup> + bx + c, you will change the values of `a`, `b`, and `c` to see how they affect the graph. Run the code and use the sliders to change the values of `a` and `b`. Then change the code in the three places indicated to add a slider for `c`. You may remember this type of interactive graph from an earlier step. Move each slider to see how it affects the graph."
      ]
    },
    {
      "cell_type": "code",
      "metadata": {
        "id": "9IVFnXxVF-jJ",
        "outputId": "4f948ae7-e52f-4da3-9204-1db97dffecd1",
        "colab": {
          "base_uri": "https://localhost:8080/",
          "height": 586,
          "referenced_widgets": [
            "b1e4ece185b647b39dbd56a389c95e11",
            "7a8b6a0971d5441db96546e27a7cd73d",
            "f57e39626a3a4751a35049fe0ffaed89",
            "73a561fadad748748aba8d2a7b63c7ef",
            "47b4f5b790494d4cb705ee73c7d6eb8e",
            "2b9ccf31f29e4b8ea4d291c6523bed92",
            "4856a76d5223435a845007a87cdab3b0",
            "8556609554b646d7aa1b3be90d4a8bd5",
            "faa8300efee54c3d98fe94a1161fec77",
            "a77b6167c6e444a99547445654ef0fad",
            "bca995431f384dc6b13d5a5ed429d302",
            "537d3f1af56e41abafeb7282e987b137",
            "5d3253613839492b9a8632dd3a927bfc"
          ]
        }
      },
      "source": [
        "%matplotlib inline\n",
        "from ipywidgets import interactive\n",
        "import matplotlib.pyplot as plt\n",
        "import numpy as np\n",
        "\n",
        "# Change the next line to include c:\n",
        "def f(a,b,c):\n",
        "    plt.axis([-10,10,-10,10]) # window size\n",
        "    plt.plot([-10,10],[0,0],'k') # blue x axis\n",
        "    plt.plot([0,0],[-10,10], 'k') # blue y axis\n",
        "    x = np.linspace(-10, 10, 1000)\n",
        "\n",
        "    # Change the next line to add c to the end of the function:\n",
        "    plt.plot(x, a*x**2 + b*x +c)\n",
        "    plt.show()\n",
        "\n",
        "# Change the next line to add a slider to change the c value\n",
        "interactive_plot = interactive(f, a=(-9, 9), b=(-9,9), c=(-9,9))\n",
        "interactive_plot\n",
        "\n",
        "\n",
        "# Run the code once, then change the code and run it again\n",
        "\n",
        "# Only change code above this line\n",
        "import math_code_test_b as test\n",
        "test.step17(In[-1].split('# Only change code above this line')[0])\n",
        "interactive_plot"
      ],
      "execution_count": null,
      "outputs": [
        {
          "output_type": "stream",
          "name": "stdout",
          "text": [
            "Code test passed\n",
            "Go on to the next step\n",
            " \n"
          ]
        },
        {
          "output_type": "display_data",
          "data": {
            "text/plain": [
              "interactive(children=(IntSlider(value=0, description='a', max=9, min=-9), IntSlider(value=0, description='b', …"
            ],
            "application/vnd.jupyter.widget-view+json": {
              "version_major": 2,
              "version_minor": 0,
              "model_id": "b1e4ece185b647b39dbd56a389c95e11"
            }
          },
          "metadata": {}
        }
      ]
    },
    {
      "cell_type": "markdown",
      "metadata": {
        "id": "eFehWNexGASC"
      },
      "source": [
        "# Step 18 - Quadratic Functions - Vertex"
      ]
    },
    {
      "cell_type": "markdown",
      "metadata": {
        "id": "p8hAZw_CGASD"
      },
      "source": [
        "The <i>vertex</i> is the point where the parabola turns around. The x value of the vertex is $\\frac{-b}{2a}$ (and then you would calculate the y value to get the point). Write the code to find the vertex, given `a`, `b`, and `c` as inputs. Remember the parabola forumula is y = ax<sup>2</sup> + bx + c"
      ]
    },
    {
      "cell_type": "code",
      "metadata": {
        "id": "cjMI5uZZGASD",
        "outputId": "9c2f2ab3-0837-42e0-f160-67a7049cf021",
        "colab": {
          "base_uri": "https://localhost:8080/",
          "height": 599
        }
      },
      "source": [
        "import matplotlib.pyplot as plt\n",
        "import numpy as np\n",
        "\n",
        "# \\u00b2 prints 2 as an exponent\n",
        "print(\"y = ax\\u00b2 + bx + c\")\n",
        "\n",
        "a = float(input(\"a = \"))\n",
        "b = float(input(\"b = \"))\n",
        "c = float(input(\"c = \"))\n",
        "\n",
        "# Write your code here, changing vx and vy\n",
        "vx = -b/(2*a)\n",
        "vy = a*vx**2 + b*vx + c\n",
        "\n",
        "\n",
        "# Only change the code above this line\n",
        "\n",
        "print(\" (\", vx, \" , \", vy, \")\")\n",
        "print(\" \")\n",
        "\n",
        "xmin = int(vx)-10\n",
        "xmax = int(vx)+10\n",
        "ymin = int(vy)-10\n",
        "ymax = int(vy)+10\n",
        "points = 2*(xmax-xmin)\n",
        "x = np.linspace(xmin,xmax,points)\n",
        "\n",
        "fig, ax = plt.subplots()\n",
        "plt.axis([xmin,xmax,ymin,ymax]) # window size\n",
        "plt.plot([xmin,xmax],[0,0],'b') # blue x axis\n",
        "plt.plot([0,0],[ymin,ymax], 'b') # blue y axis\n",
        "\n",
        "plt.plot([vx],[vy],'ro') # vertex\n",
        "\n",
        "x = np.linspace(vx-10,vx+10,100)\n",
        "y = a*x**2 + b*x + c\n",
        "plt.plot(x,y)\n",
        "\n",
        "plt.show()\n",
        "\n",
        "\n",
        "# Only change code above this line\n",
        "import math_code_test_b as test\n",
        "test.step18(In[-1].split('# Only change code above this line')[0])"
      ],
      "execution_count": null,
      "outputs": [
        {
          "output_type": "stream",
          "name": "stdout",
          "text": [
            "y = ax² + bx + c\n",
            "a = 1\n",
            "b = -5\n",
            "c = 6\n",
            " ( 2.5  ,  -0.25 )\n",
            " \n"
          ]
        },
        {
          "output_type": "display_data",
          "data": {
            "text/plain": [
              "<Figure size 640x480 with 1 Axes>"
            ],
            "image/png": "[encoded data removed]"
          },
          "metadata": {}
        },
        {
          "output_type": "stream",
          "name": "stdout",
          "text": [
            " \n",
            "Code test passed\n",
            "Go on to the next step\n"
          ]
        }
      ]
    },
    {
      "cell_type": "markdown",
      "metadata": {
        "id": "WbqugasGGCKJ"
      },
      "source": [
        "# Step 19 - Projectile Motion"
      ]
    },
    {
      "cell_type": "markdown",
      "metadata": {
        "id": "TtM_pFHaGCKK"
      },
      "source": [
        "The path of every projectile is a parabola. For something thrown or launched upward, the `a` value is -4.9 (meters per second squared); the `b` value is the initial velocity (in meters per second); the `c` value is the initial height (in meters); the `x` value is time (in seconds); and the `y` value is the height at that time. In this code, change `vx` and `vy` to represent the vertex. Plotting that (x,y) vertex point is already in the code."
      ]
    },
    {
      "cell_type": "code",
      "metadata": {
        "id": "FTNV_bjuGCKL",
        "outputId": "6798ef67-dd30-4b3a-d2d5-f0860b68e914",
        "colab": {
          "base_uri": "https://localhost:8080/",
          "height": 558
        }
      },
      "source": [
        "import matplotlib.pyplot as plt\n",
        "import numpy as np\n",
        "\n",
        "a = -4.9\n",
        "b = float(input(\"Initial velocity = \"))\n",
        "c = float(input(\"Initial height = \"))\n",
        "\n",
        "# Change vx and vy to represent the vertex\n",
        "vx = -b/(2*a)\n",
        "vy = a*vx**2 + b*vx + c\n",
        "\n",
        "\n",
        "# Also change the following dimensions to display the vertex\n",
        "xmin = -1\n",
        "xmax = int(2*vx + 20)\n",
        "ymin = -1\n",
        "ymax = int(vy + 10)\n",
        "\n",
        "# You do not need to change anything below this line\n",
        "points = 4*(xmax-xmin)\n",
        "x = np.linspace(xmin,xmax,points)\n",
        "y = a*x**2 + b*x + c\n",
        "\n",
        "fig, ax = plt.subplots()\n",
        "plt.axis([xmin,xmax,ymin,ymax]) # window size\n",
        "plt.plot([xmin,xmax],[0,0],'b') # blue x axis\n",
        "plt.plot([0,0],[ymin,ymax], 'b') # blue y axis\n",
        "\n",
        "plt.plot(x,y) # plot the line for the equation\n",
        "plt.plot([vx],[vy],'ro') # plot the vertex point\n",
        "\n",
        "print(\" (\", vx, \",\", vy, \")\")\n",
        "print(\" \")\n",
        "plt.show()\n",
        "\n",
        "\n",
        "# Only change code above this line\n",
        "import math_code_test_b as test\n",
        "test.step19(In[-1].split('# Only change code above this line')[0])"
      ],
      "execution_count": null,
      "outputs": [
        {
          "output_type": "stream",
          "name": "stdout",
          "text": [
            "Initial velocity = 40\n",
            "Initial height = 2\n",
            " ( 4.081632653061225 , 83.63265306122447 )\n",
            " \n"
          ]
        },
        {
          "output_type": "display_data",
          "data": {
            "text/plain": [
              "<Figure size 640x480 with 1 Axes>"
            ],
            "image/png": "[encoded data removed]"
          },
          "metadata": {}
        },
        {
          "output_type": "stream",
          "name": "stdout",
          "text": [
            " \n",
            "Code test passed\n",
            "Go on to the next step\n"
          ]
        }
      ]
    },
    {
      "cell_type": "markdown",
      "metadata": {
        "id": "hN_fvENUGBAm"
      },
      "source": [
        "# Step 20 - Quadratic Functions - C"
      ]
    },
    {
      "cell_type": "markdown",
      "metadata": {
        "id": "GrJNli5pGBAn"
      },
      "source": [
        "Like many other functions, the `c` value (also called the \"constant\" because it is not a variable) affects the vertical shift of the graph. Run the following code to see how changing the `c` value changes the graph."
      ]
    },
    {
      "cell_type": "code",
      "metadata": {
        "id": "hiSN0VexGBAn",
        "outputId": "6862bbd5-478d-464e-f62d-faf5de10e9e4",
        "colab": {
          "base_uri": "https://localhost:8080/",
          "height": 488
        }
      },
      "source": [
        "import matplotlib.pyplot as plt\n",
        "import numpy as np\n",
        "import time\n",
        "from IPython import display\n",
        "\n",
        "x = np.linspace(-4,4,16)\n",
        "fig, ax = plt.subplots()\n",
        "cvalue = \"c = \"\n",
        "\n",
        "for c in range(10):\n",
        "    y = -x**2+c\n",
        "    plt.plot(x,y)\n",
        "    cvalue = \"c = \", c\n",
        "    ax.set_title(cvalue)\n",
        "    display.display(plt.gcf())\n",
        "    time.sleep(0.5)\n",
        "    display.clear_output(wait=True)\n",
        "\n",
        "# Just run this code\n",
        "import math_code_test_b as test\n",
        "test.step01()"
      ],
      "execution_count": null,
      "outputs": [
        {
          "output_type": "stream",
          "name": "stdout",
          "text": [
            "Code test Passed\n",
            "Go on to the next step\n"
          ]
        },
        {
          "output_type": "display_data",
          "data": {
            "text/plain": [
              "<Figure size 640x480 with 1 Axes>"
            ],
            "image/png": "[encoded data removed]"
          },
          "metadata": {}
        }
      ]
    },
    {
      "cell_type": "markdown",
      "metadata": {
        "id": "vteEy9QFGD5I"
      },
      "source": [
        "# Step 21 - The Quadratic Formula"
      ]
    },
    {
      "cell_type": "markdown",
      "metadata": {
        "id": "xALyhEsNGD5J"
      },
      "source": [
        "For a projectile, you also need to find the point when it hits the ground. On a graph, you would call these points the \"roots\" or \"x intercepts\" or \"zeros\" (because y = 0 at these points). The <i>quadratic formula</i> gives you the x value when y = 0. Given `a`,`b` and `c`, here is the quadratic formula:<br> x = $\\frac{-b \\pm \\sqrt{b^2 - 4ac}}{2a}$ Notice it's the vertex plus or minus something: $\\frac{-b}{2a} + \\frac{\\sqrt{b^2 - 4ac}}{2a}$ and $\\frac{-b}{2a} - \\frac{\\sqrt{b^2 - 4ac}}{2a}$ <br>\n",
        "Write the code to output two x values, given a, b, and c as input. Use `math.sqrt()` for the square root."
      ]
    },
    {
      "cell_type": "code",
      "metadata": {
        "id": "R3OIh1pOGD5K",
        "outputId": "83c48957-35c7-4f7b-b288-89b000f59ece",
        "colab": {
          "base_uri": "https://localhost:8080/"
        }
      },
      "source": [
        "import math\n",
        "\n",
        "# \\u00b2 prints 2 as an exponent\n",
        "print(\"0 = ax\\u00b2 + bx + c\")\n",
        "a = float(input(\"a = \"))\n",
        "b = float(input(\"b = \"))\n",
        "c = float(input(\"c = \"))\n",
        "x1 = 0\n",
        "x2 = 0\n",
        "\n",
        "# Check for non-real answers:\n",
        "if b**2-4*a*c < 0:\n",
        "    print(\"No real roots\")\n",
        "else:\n",
        "    # Write your code here, changing x1 and x2\n",
        "    x1 = (-b + math.sqrt(b**2 - 4*a*c))/(2*a)\n",
        "    x2 = (-b - math.sqrt(b**2 - 4*a*c))/(2*a)\n",
        "    print(\"The roots are \", x1, \" and \", x2)\n",
        "\n",
        "\n",
        "\n",
        "# Only change code above this line\n",
        "import math_code_test_b as test\n",
        "test.step21(In[-1].split('# Only change code above this line')[0])"
      ],
      "execution_count": null,
      "outputs": [
        {
          "output_type": "stream",
          "name": "stdout",
          "text": [
            "0 = ax² + bx + c\n",
            "a = 1\n",
            "b = 5\n",
            "c = 5\n",
            "The roots are  -1.381966011250105  and  -3.618033988749895\n",
            " \n",
            "Code test passed\n",
            "Go on to the next step\n"
          ]
        }
      ]
    },
    {
      "cell_type": "markdown",
      "metadata": {
        "id": "VXxx7RCVSs4j"
      },
      "source": [
        "# Step 22 - Table of Values"
      ]
    },
    {
      "cell_type": "markdown",
      "metadata": {
        "id": "9Bd8bgPISiRH"
      },
      "source": [
        "In addition to graphing a function, you may need a table of values. This code shows how to make a simple table of (x,y) values. Run the code, then change the title to \"y = 3x + 2\" and change the function in the table."
      ]
    },
    {
      "cell_type": "code",
      "metadata": {
        "id": "e4dBSioJGGd3",
        "outputId": "42891a04-5d3e-4022-d99c-d87f94dc1e9e",
        "colab": {
          "base_uri": "https://localhost:8080/",
          "height": 483
        }
      },
      "source": [
        "import numpy as np\n",
        "import matplotlib.pyplot as plt\n",
        "\n",
        "ax = plt.subplot()\n",
        "ax.set_axis_off()\n",
        "title = \"y = 3x + 2\" # Change this title\n",
        "cols = ('x', 'y')\n",
        "rows = [[0,0]]\n",
        "for a in range(1,10):\n",
        "    rows.append([a, 3*a+2]) # Change only the function in this line\n",
        "\n",
        "ax.set_title(title)\n",
        "plt.table(cellText=rows, colLabels=cols, cellLoc='center', loc='upper left')\n",
        "plt.show()\n",
        "\n",
        "\n",
        "# Only change code above this line\n",
        "import math_code_test_b as test\n",
        "test.step22(In[-1].split('# Only change code above this line')[0])"
      ],
      "execution_count": null,
      "outputs": [
        {
          "output_type": "display_data",
          "data": {
            "text/plain": [
              "<Figure size 640x480 with 1 Axes>"
            ],
            "image/png": "[encoded data removed]"
          },
          "metadata": {}
        },
        {
          "output_type": "stream",
          "name": "stdout",
          "text": [
            " \n",
            "Code test passed\n",
            "Go on to the next step\n"
          ]
        }
      ]
    },
    {
      "cell_type": "markdown",
      "metadata": {
        "id": "jpo7oASHGEu7"
      },
      "source": [
        "# Step 23 - Projectile Game"
      ]
    },
    {
      "cell_type": "markdown",
      "metadata": {
        "id": "WHx9faGkGEu7"
      },
      "source": [
        "Learn quadratic functions by building a projectile game. Starting at (0,0) you launch a toy rocket that must clear a wall. You can randomize the height and location of the wall. The goal is to determine what initial velocity would get the rocket over the wall. Bonus: make an animation of the path of the rocket.\n"
      ]
    },
    {
      "cell_type": "code",
      "metadata": {
        "id": "-yFfSgoeWHN3",
        "outputId": "7baa18ef-7f56-4b4f-8676-60eca0dec22b",
        "colab": {
          "base_uri": "https://localhost:8080/",
          "height": 503
        }
      },
      "source": [
        "# Write your code here\n",
        "\n",
        "import matplotlib.pyplot as plt\n",
        "import numpy as np\n",
        "import random\n",
        "import math\n",
        "\n",
        "lock = random.randint(1,100)\n",
        "h = random.randint(1,1000)\n",
        "print(\"A toy rocket has to clear a wall \", loc, \"meters away\")\n",
        "a = -4.9\n",
        "b =  float(input(\"intial velocity in m/s = \"))\n",
        "c = 1\n",
        "\n",
        "# Change vx andy to represent the vertex\n",
        "vx = -b/(2*a)\n",
        "vy = a*vx**2 + b*vx + c\n",
        "\n",
        "\n",
        "# Alson change x max\n",
        "xmin = -1\n",
        "xmax = int(2*vx + 20)\n",
        "ymin = -1\n",
        "ymax = int(vy + 10)\n",
        "\n",
        "# You do not need to change anything below this line\n",
        "points = 2*(xmax-xmin)\n",
        "x = np.linspace(xmin,xmax,points)\n",
        "y = a*x*2 + b*x + c\n",
        "\n",
        "fig, ax = plt.subplots()\n",
        "plt.axis([xmin,xmax,ymin,ymax]) # Window size\n",
        "plt.plot([xmin,xmax],[0,0],'b')\n",
        "plt.plot([0,0],[ymin,ymax], 'b')\n",
        "\n",
        "# Line for target distance\n",
        "plt.plot([loc,loc],[0,h], 'r')\n",
        "\n",
        "plt.plot(x,y) # Plot the parabola\n",
        "\n",
        "root2 = round((-b - math.sqrt(b**2 - 4*a*c))/(2*a),2)\n",
        "if root2>=loc:\n",
        "    print(\"Distance: \", root2, \" Success! \")\n",
        "else:\n",
        "    print(\"Missed it by that much \")\n",
        "\n",
        "print(\" \")\n",
        "plt.show()"
      ],
      "execution_count": null,
      "outputs": [
        {
          "output_type": "stream",
          "name": "stdout",
          "text": [
            "A toy rocket has to clear a wall  1 meters away\n",
            "intial velocity in m/s = 250\n",
            "Distance:  51.02  Success! \n",
            " \n"
          ]
        },
        {
          "output_type": "display_data",
          "data": {
            "text/plain": [
              "<Figure size 640x480 with 1 Axes>"
            ],
            "image/png": "[encoded data removed]"
          },
          "metadata": {}
        }
      ]
    },
    {
      "cell_type": "markdown",
      "source": [
        "# Step 24 - Define Graphing Functions"
      ],
      "metadata": {
        "id": "pE5o0-VMaIy3"
      }
    },
    {
      "cell_type": "markdown",
      "source": [
        "Building on what you have already done, create a menu with the following options:<br>\n",
        "<ul>\n",
        "<li>Display the graph and a table of values for any \"y=\" equation input</li>\n",
        "<li>Solve a system of two equations without graphing</li>\n",
        "<li>Graph two equations and plot the point of intersection</li>\n",
        "<li>Given a, b and c in a quadratic equation, plot the roots and vertex</li>\n",
        "</ul>\n",
        "Then think about how you will define a function for each item."
      ],
      "metadata": {
        "id": "c5tXoITnag_P"
      }
    },
    {
      "cell_type": "code",
      "source": [
        "# Write your code here\n",
        "\n",
        "import matplotlib.pyplot as plt\n",
        "import numpy as np\n",
        "import random\n",
        "import math\n",
        "\n",
        "lock = random.randint(1,100)\n",
        "h = random.randint(1,500)\n",
        "print(\"A toy rocket has to clear a wall \", loc, \"meters away\")\n",
        "a = -4.9\n",
        "b =  float(input(\"intial velocity in m/s = \"))\n",
        "c = 1\n",
        "\n",
        "# Change vx andy to represent the vertex\n",
        "vx = -b/(2*a)\n",
        "vy = a*vx**2 + b*vx + c\n",
        "\n",
        "\n",
        "# Alson change x max\n",
        "xmin = -1\n",
        "xmax = int(2*vx + 20)\n",
        "ymin = -1\n",
        "ymax = int(vy + 10)\n",
        "\n",
        "# You do not need to change anything below this line\n",
        "points = 2*(xmax-xmin)\n",
        "x = np.linspace(xmin,xmax,points)\n",
        "y = a*x*2 + b*x + c\n",
        "\n",
        "fig, ax = plt.subplots()\n",
        "plt.axis([xmin,xmax,ymin,ymax]) # Window size\n",
        "plt.plot([xmin,xmax],[0,0],'b')\n",
        "plt.plot([0,0],[ymin,ymax], 'b')\n",
        "\n",
        "# Line for target distance\n",
        "plt.plot([loc,loc],[0,h], 'r')\n",
        "\n",
        "plt.plot(x,y) # Plot the parabola\n",
        "\n",
        "root2 = round((-b - math.sqrt(b**2 - 4*a*c))/(2*a),2)\n",
        "if root2>=loc:\n",
        "    print(\"Distance: \", root2, \" Success! \")\n",
        "else:\n",
        "    print(\"Missed it by that much \")\n",
        "\n",
        "print(\" \")\n",
        "plt.show()"
      ],
      "metadata": {
        "id": "lvuStaKYalPo",
        "outputId": "dfdc97ca-aaae-4abe-ed0d-e8adcbb3d8d7",
        "colab": {
          "base_uri": "https://localhost:8080/",
          "height": 503
        }
      },
      "execution_count": null,
      "outputs": [
        {
          "output_type": "stream",
          "name": "stdout",
          "text": [
            "A toy rocket has to clear a wall  1 meters away\n",
            "intial velocity in m/s = 50\n",
            "Distance:  10.22  Success! \n",
            " \n"
          ]
        },
        {
          "output_type": "display_data",
          "data": {
            "text/plain": [
              "<Figure size 640x480 with 1 Axes>"
            ],
            "image/png": "[encoded data removed]"
          },
          "metadata": {}
        }
      ]
    },
    {
      "cell_type": "markdown",
      "source": [
        "# Step 25 - Certification Project 2"
      ],
      "metadata": {
        "id": "D7ASvHg3b2Ph"
      }
    },
    {
      "cell_type": "markdown",
      "source": [
        "Build a graphing calculator that performs the functions mentioned in the previous step:\n",
        "<ul>\n",
        "<li>Graph one or more functions</li>\n",
        "<li>Create a table of (x,y) values</li>\n",
        "<li>Shade above or below the line</li>\n",
        "<li>Solve and graph a system of two equations</li>\n",
        "<li>Zoom in or out on a graph</li>\n",
        "<li>Solve quadratic equations (given a, b, and c)</li>\n",
        "</ul>"
      ],
      "metadata": {
        "id": "KBcTUf08cRy1"
      }
    },
    {
      "cell_type": "code",
      "source": [
        "# Write your code here\n",
        "\n",
        "import matplotlib.pyplot as plt\n",
        "import numpy as np\n",
        "import random\n",
        "import math\n",
        "\n",
        "lock = random.randint(1,100)\n",
        "h = random.randint(1,100)\n",
        "print(\"A toy rocket has to clear a wall \", loc, \"meters away\")\n",
        "a = -4.9\n",
        "b =  float(input(\"intial velocity in m/s = \"))\n",
        "c = 1\n",
        "\n",
        "# Change vx andy to represent the vertex\n",
        "vx = -b/(2*a)\n",
        "vy = a*vx**2 + b*vx + c\n",
        "\n",
        "\n",
        "# Alson change x max\n",
        "xmin = -1\n",
        "xmax = int(2*vx + 20)\n",
        "ymin = -1\n",
        "ymax = int(vy + 10)\n",
        "\n",
        "# You do not need to change anything below this line\n",
        "points = 2*(xmax-xmin)\n",
        "x = np.linspace(xmin,xmax,points)\n",
        "y = a*x*2 + b*x + c\n",
        "\n",
        "fig, ax = plt.subplots()\n",
        "plt.axis([xmin,xmax,ymin,ymax]) # Window size\n",
        "plt.plot([xmin,xmax],[0,0],'b')\n",
        "plt.plot([0,0],[ymin,ymax], 'b')\n",
        "\n",
        "# Line for target distance\n",
        "plt.plot([loc,loc],[0,h], 'r')\n",
        "\n",
        "plt.plot(x,y) # Plot the parabola\n",
        "\n",
        "root2 = round((-b - math.sqrt(b**2 - 4*a*c))/(2*a),2)\n",
        "if root2>=loc:\n",
        "    print(\"Distance: \", root2, \" Success! \")\n",
        "else:\n",
        "    print(\"Missed it by that much \")\n",
        "\n",
        "print(\" \")\n",
        "plt.show()"
      ],
      "metadata": {
        "id": "bmuz1zCecVCX",
        "outputId": "28c42819-dd30-4786-9aed-6ec4f1e99d3e",
        "colab": {
          "base_uri": "https://localhost:8080/",
          "height": 503
        }
      },
      "execution_count": null,
      "outputs": [
        {
          "output_type": "stream",
          "name": "stdout",
          "text": [
            "A toy rocket has to clear a wall  1 meters away\n",
            "intial velocity in m/s = 300\n",
            "Distance:  61.23  Success! \n",
            " \n"
          ]
        },
        {
          "output_type": "display_data",
          "data": {
            "text/plain": [
              "<Figure size 640x480 with 1 Axes>"
            ],
            "image/png": "[encoded data removed]"
          },
          "metadata": {}
        }
      ]
    },
    {
      "cell_type": "code",
      "source": [],
      "metadata": {
        "id": "V6BW1i9L3Yio"
      },
      "execution_count": null,
      "outputs": []
    }
  ]
}