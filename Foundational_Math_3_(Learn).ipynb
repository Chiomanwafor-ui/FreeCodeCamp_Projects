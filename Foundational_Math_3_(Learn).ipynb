{
  "nbformat": 4,
  "nbformat_minor": 0,
  "metadata": {
    "colab": {
      "provenance": [],
      "collapsed_sections": [
        "szp5flp1fA8-",
        "KDloBuvnHQTS",
        "r1AM-AcqkbyF",
        "8wXbGsoYkm60",
        "tBxuJtHck2Oo",
        "s3z_zaNWlet8",
        "yoavB8H_ljVn",
        "MlRfYVIylkQf",
        "NGH1FcttllvS",
        "Sx0kwIdalmmY",
        "S-DVSzwDvKvE",
        "H6LTAPYplxvi",
        "iaEBltZXln-Q",
        "l5GwlqRdlpEu",
        "U_7bv7aG4UJe",
        "B7DOz9nh4XAb",
        "cqvLtj7t4VMN",
        "GsLj1NhZl1ya",
        "d7Lc9KfMYU8Y",
        "VkD30ljxlyw9",
        "bJzxcKIfz8Qt",
        "8iWUAktvPLYp",
        "rzaQj8dEOfzb",
        "UptjjiCOTSS2"
      ],
      "include_colab_link": true
    },
    "kernelspec": {
      "name": "python3",
      "display_name": "Python 3"
    },
    "language_info": {
      "name": "python"
    },
    "widgets": {
      "application/vnd.jupyter.widget-state+json": {
        "d46c9afa4f144e828a63fe283106f5b6": {
          "model_module": "@jupyter-widgets/controls",
          "model_name": "VBoxModel",
          "model_module_version": "1.5.0",
          "state": {
            "_dom_classes": [
              "widget-interact"
            ],
            "_model_module": "@jupyter-widgets/controls",
            "_model_module_version": "1.5.0",
            "_model_name": "VBoxModel",
            "_view_count": null,
            "_view_module": "@jupyter-widgets/controls",
            "_view_module_version": "1.5.0",
            "_view_name": "VBoxView",
            "box_style": "",
            "children": [
              "IPY_MODEL_59fca8df25834c0e9dcc57028c39195e",
              "IPY_MODEL_cdd2156aa28444f2b0aa233c6393b5f8",
              "IPY_MODEL_32e930ea5eb14e52a155749820d81c13",
              "IPY_MODEL_cef4396ab8d04064b789d171b7784b03"
            ],
            "layout": "IPY_MODEL_48f7cece42804e2eb512bb7bcd483abc"
          }
        },
        "59fca8df25834c0e9dcc57028c39195e": {
          "model_module": "@jupyter-widgets/controls",
          "model_name": "IntSliderModel",
          "model_module_version": "1.5.0",
          "state": {
            "_dom_classes": [],
            "_model_module": "@jupyter-widgets/controls",
            "_model_module_version": "1.5.0",
            "_model_name": "IntSliderModel",
            "_view_count": null,
            "_view_module": "@jupyter-widgets/controls",
            "_view_module_version": "1.5.0",
            "_view_name": "IntSliderView",
            "continuous_update": true,
            "description": "a",
            "description_tooltip": null,
            "disabled": false,
            "layout": "IPY_MODEL_9f77d37e5dbc4464b34912bac1f88716",
            "max": 9,
            "min": -9,
            "orientation": "horizontal",
            "readout": true,
            "readout_format": "d",
            "step": 1,
            "style": "IPY_MODEL_e499db229bfc4eb3ae5efc0cd8fd9cff",
            "value": 3
          }
        },
        "cdd2156aa28444f2b0aa233c6393b5f8": {
          "model_module": "@jupyter-widgets/controls",
          "model_name": "IntSliderModel",
          "model_module_version": "1.5.0",
          "state": {
            "_dom_classes": [],
            "_model_module": "@jupyter-widgets/controls",
            "_model_module_version": "1.5.0",
            "_model_name": "IntSliderModel",
            "_view_count": null,
            "_view_module": "@jupyter-widgets/controls",
            "_view_module_version": "1.5.0",
            "_view_name": "IntSliderView",
            "continuous_update": true,
            "description": "b",
            "description_tooltip": null,
            "disabled": false,
            "layout": "IPY_MODEL_8db7fcd3ba7e420b84430e5319823f4d",
            "max": 9,
            "min": -9,
            "orientation": "horizontal",
            "readout": true,
            "readout_format": "d",
            "step": 1,
            "style": "IPY_MODEL_022f567dce204990bca32c880a92049e",
            "value": 0
          }
        },
        "32e930ea5eb14e52a155749820d81c13": {
          "model_module": "@jupyter-widgets/controls",
          "model_name": "IntSliderModel",
          "model_module_version": "1.5.0",
          "state": {
            "_dom_classes": [],
            "_model_module": "@jupyter-widgets/controls",
            "_model_module_version": "1.5.0",
            "_model_name": "IntSliderModel",
            "_view_count": null,
            "_view_module": "@jupyter-widgets/controls",
            "_view_module_version": "1.5.0",
            "_view_name": "IntSliderView",
            "continuous_update": true,
            "description": "c",
            "description_tooltip": null,
            "disabled": false,
            "layout": "IPY_MODEL_54381618a3584991a55af1f415cdaadd",
            "max": 9,
            "min": -9,
            "orientation": "horizontal",
            "readout": true,
            "readout_format": "d",
            "step": 1,
            "style": "IPY_MODEL_0f8e2216dbea4c0890e2bf60ff2311c8",
            "value": 0
          }
        },
        "cef4396ab8d04064b789d171b7784b03": {
          "model_module": "@jupyter-widgets/output",
          "model_name": "OutputModel",
          "model_module_version": "1.0.0",
          "state": {
            "_dom_classes": [],
            "_model_module": "@jupyter-widgets/output",
            "_model_module_version": "1.0.0",
            "_model_name": "OutputModel",
            "_view_count": null,
            "_view_module": "@jupyter-widgets/output",
            "_view_module_version": "1.0.0",
            "_view_name": "OutputView",
            "layout": "IPY_MODEL_396b23b76ae9471dae0fa4682831f6a0",
            "msg_id": "",
            "outputs": [
              {
                "output_type": "display_data",
                "data": {
                  "text/plain": "<Figure size 640x480 with 1 Axes>",
                  "image/png": "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\n"
                },
                "metadata": {}
              }
            ]
          }
        },
        "48f7cece42804e2eb512bb7bcd483abc": {
          "model_module": "@jupyter-widgets/base",
          "model_name": "LayoutModel",
          "model_module_version": "1.2.0",
          "state": {
            "_model_module": "@jupyter-widgets/base",
            "_model_module_version": "1.2.0",
            "_model_name": "LayoutModel",
            "_view_count": null,
            "_view_module": "@jupyter-widgets/base",
            "_view_module_version": "1.2.0",
            "_view_name": "LayoutView",
            "align_content": null,
            "align_items": null,
            "align_self": null,
            "border": null,
            "bottom": null,
            "display": null,
            "flex": null,
            "flex_flow": null,
            "grid_area": null,
            "grid_auto_columns": null,
            "grid_auto_flow": null,
            "grid_auto_rows": null,
            "grid_column": null,
            "grid_gap": null,
            "grid_row": null,
            "grid_template_areas": null,
            "grid_template_columns": null,
            "grid_template_rows": null,
            "height": null,
            "justify_content": null,
            "justify_items": null,
            "left": null,
            "margin": null,
            "max_height": null,
            "max_width": null,
            "min_height": null,
            "min_width": null,
            "object_fit": null,
            "object_position": null,
            "order": null,
            "overflow": null,
            "overflow_x": null,
            "overflow_y": null,
            "padding": null,
            "right": null,
            "top": null,
            "visibility": null,
            "width": null
          }
        },
        "9f77d37e5dbc4464b34912bac1f88716": {
          "model_module": "@jupyter-widgets/base",
          "model_name": "LayoutModel",
          "model_module_version": "1.2.0",
          "state": {
            "_model_module": "@jupyter-widgets/base",
            "_model_module_version": "1.2.0",
            "_model_name": "LayoutModel",
            "_view_count": null,
            "_view_module": "@jupyter-widgets/base",
            "_view_module_version": "1.2.0",
            "_view_name": "LayoutView",
            "align_content": null,
            "align_items": null,
            "align_self": null,
            "border": null,
            "bottom": null,
            "display": null,
            "flex": null,
            "flex_flow": null,
            "grid_area": null,
            "grid_auto_columns": null,
            "grid_auto_flow": null,
            "grid_auto_rows": null,
            "grid_column": null,
            "grid_gap": null,
            "grid_row": null,
            "grid_template_areas": null,
            "grid_template_columns": null,
            "grid_template_rows": null,
            "height": null,
            "justify_content": null,
            "justify_items": null,
            "left": null,
            "margin": null,
            "max_height": null,
            "max_width": null,
            "min_height": null,
            "min_width": null,
            "object_fit": null,
            "object_position": null,
            "order": null,
            "overflow": null,
            "overflow_x": null,
            "overflow_y": null,
            "padding": null,
            "right": null,
            "top": null,
            "visibility": null,
            "width": null
          }
        },
        "e499db229bfc4eb3ae5efc0cd8fd9cff": {
          "model_module": "@jupyter-widgets/controls",
          "model_name": "SliderStyleModel",
          "model_module_version": "1.5.0",
          "state": {
            "_model_module": "@jupyter-widgets/controls",
            "_model_module_version": "1.5.0",
            "_model_name": "SliderStyleModel",
            "_view_count": null,
            "_view_module": "@jupyter-widgets/base",
            "_view_module_version": "1.2.0",
            "_view_name": "StyleView",
            "description_width": "",
            "handle_color": null
          }
        },
        "8db7fcd3ba7e420b84430e5319823f4d": {
          "model_module": "@jupyter-widgets/base",
          "model_name": "LayoutModel",
          "model_module_version": "1.2.0",
          "state": {
            "_model_module": "@jupyter-widgets/base",
            "_model_module_version": "1.2.0",
            "_model_name": "LayoutModel",
            "_view_count": null,
            "_view_module": "@jupyter-widgets/base",
            "_view_module_version": "1.2.0",
            "_view_name": "LayoutView",
            "align_content": null,
            "align_items": null,
            "align_self": null,
            "border": null,
            "bottom": null,
            "display": null,
            "flex": null,
            "flex_flow": null,
            "grid_area": null,
            "grid_auto_columns": null,
            "grid_auto_flow": null,
            "grid_auto_rows": null,
            "grid_column": null,
            "grid_gap": null,
            "grid_row": null,
            "grid_template_areas": null,
            "grid_template_columns": null,
            "grid_template_rows": null,
            "height": null,
            "justify_content": null,
            "justify_items": null,
            "left": null,
            "margin": null,
            "max_height": null,
            "max_width": null,
            "min_height": null,
            "min_width": null,
            "object_fit": null,
            "object_position": null,
            "order": null,
            "overflow": null,
            "overflow_x": null,
            "overflow_y": null,
            "padding": null,
            "right": null,
            "top": null,
            "visibility": null,
            "width": null
          }
        },
        "022f567dce204990bca32c880a92049e": {
          "model_module": "@jupyter-widgets/controls",
          "model_name": "SliderStyleModel",
          "model_module_version": "1.5.0",
          "state": {
            "_model_module": "@jupyter-widgets/controls",
            "_model_module_version": "1.5.0",
            "_model_name": "SliderStyleModel",
            "_view_count": null,
            "_view_module": "@jupyter-widgets/base",
            "_view_module_version": "1.2.0",
            "_view_name": "StyleView",
            "description_width": "",
            "handle_color": null
          }
        },
        "54381618a3584991a55af1f415cdaadd": {
          "model_module": "@jupyter-widgets/base",
          "model_name": "LayoutModel",
          "model_module_version": "1.2.0",
          "state": {
            "_model_module": "@jupyter-widgets/base",
            "_model_module_version": "1.2.0",
            "_model_name": "LayoutModel",
            "_view_count": null,
            "_view_module": "@jupyter-widgets/base",
            "_view_module_version": "1.2.0",
            "_view_name": "LayoutView",
            "align_content": null,
            "align_items": null,
            "align_self": null,
            "border": null,
            "bottom": null,
            "display": null,
            "flex": null,
            "flex_flow": null,
            "grid_area": null,
            "grid_auto_columns": null,
            "grid_auto_flow": null,
            "grid_auto_rows": null,
            "grid_column": null,
            "grid_gap": null,
            "grid_row": null,
            "grid_template_areas": null,
            "grid_template_columns": null,
            "grid_template_rows": null,
            "height": null,
            "justify_content": null,
            "justify_items": null,
            "left": null,
            "margin": null,
            "max_height": null,
            "max_width": null,
            "min_height": null,
            "min_width": null,
            "object_fit": null,
            "object_position": null,
            "order": null,
            "overflow": null,
            "overflow_x": null,
            "overflow_y": null,
            "padding": null,
            "right": null,
            "top": null,
            "visibility": null,
            "width": null
          }
        },
        "0f8e2216dbea4c0890e2bf60ff2311c8": {
          "model_module": "@jupyter-widgets/controls",
          "model_name": "SliderStyleModel",
          "model_module_version": "1.5.0",
          "state": {
            "_model_module": "@jupyter-widgets/controls",
            "_model_module_version": "1.5.0",
            "_model_name": "SliderStyleModel",
            "_view_count": null,
            "_view_module": "@jupyter-widgets/base",
            "_view_module_version": "1.2.0",
            "_view_name": "StyleView",
            "description_width": "",
            "handle_color": null
          }
        },
        "396b23b76ae9471dae0fa4682831f6a0": {
          "model_module": "@jupyter-widgets/base",
          "model_name": "LayoutModel",
          "model_module_version": "1.2.0",
          "state": {
            "_model_module": "@jupyter-widgets/base",
            "_model_module_version": "1.2.0",
            "_model_name": "LayoutModel",
            "_view_count": null,
            "_view_module": "@jupyter-widgets/base",
            "_view_module_version": "1.2.0",
            "_view_name": "LayoutView",
            "align_content": null,
            "align_items": null,
            "align_self": null,
            "border": null,
            "bottom": null,
            "display": null,
            "flex": null,
            "flex_flow": null,
            "grid_area": null,
            "grid_auto_columns": null,
            "grid_auto_flow": null,
            "grid_auto_rows": null,
            "grid_column": null,
            "grid_gap": null,
            "grid_row": null,
            "grid_template_areas": null,
            "grid_template_columns": null,
            "grid_template_rows": null,
            "height": null,
            "justify_content": null,
            "justify_items": null,
            "left": null,
            "margin": null,
            "max_height": null,
            "max_width": null,
            "min_height": null,
            "min_width": null,
            "object_fit": null,
            "object_position": null,
            "order": null,
            "overflow": null,
            "overflow_x": null,
            "overflow_y": null,
            "padding": null,
            "right": null,
            "top": null,
            "visibility": null,
            "width": null
          }
        },
        "9c16401798054f1a818228e848a54dcb": {
          "model_module": "@jupyter-widgets/controls",
          "model_name": "VBoxModel",
          "model_module_version": "1.5.0",
          "state": {
            "_dom_classes": [
              "widget-interact"
            ],
            "_model_module": "@jupyter-widgets/controls",
            "_model_module_version": "1.5.0",
            "_model_name": "VBoxModel",
            "_view_count": null,
            "_view_module": "@jupyter-widgets/controls",
            "_view_module_version": "1.5.0",
            "_view_name": "VBoxView",
            "box_style": "",
            "children": [
              "IPY_MODEL_f9c08bd120bc45e8bd0b78928ab4868a",
              "IPY_MODEL_f98e20cbcb864e00a6253e4a5b78125f",
              "IPY_MODEL_e6b75ea9b14247daaccfcf8a572af0fb"
            ],
            "layout": "IPY_MODEL_545b157f380242a99dd4fa7f47a4343d"
          }
        },
        "f9c08bd120bc45e8bd0b78928ab4868a": {
          "model_module": "@jupyter-widgets/controls",
          "model_name": "IntSliderModel",
          "model_module_version": "1.5.0",
          "state": {
            "_dom_classes": [],
            "_model_module": "@jupyter-widgets/controls",
            "_model_module_version": "1.5.0",
            "_model_name": "IntSliderModel",
            "_view_count": null,
            "_view_module": "@jupyter-widgets/controls",
            "_view_module_version": "1.5.0",
            "_view_name": "IntSliderView",
            "continuous_update": true,
            "description": "a",
            "description_tooltip": null,
            "disabled": false,
            "layout": "IPY_MODEL_4d618233d87a4f84a0aeea1fa0e8ca8a",
            "max": -1,
            "min": -9,
            "orientation": "horizontal",
            "readout": true,
            "readout_format": "d",
            "step": 1,
            "style": "IPY_MODEL_51c84c67213845e7959209eb29c29b06",
            "value": -5
          }
        },
        "f98e20cbcb864e00a6253e4a5b78125f": {
          "model_module": "@jupyter-widgets/controls",
          "model_name": "IntSliderModel",
          "model_module_version": "1.5.0",
          "state": {
            "_dom_classes": [],
            "_model_module": "@jupyter-widgets/controls",
            "_model_module_version": "1.5.0",
            "_model_name": "IntSliderModel",
            "_view_count": null,
            "_view_module": "@jupyter-widgets/controls",
            "_view_module_version": "1.5.0",
            "_view_name": "IntSliderView",
            "continuous_update": true,
            "description": "b",
            "description_tooltip": null,
            "disabled": false,
            "layout": "IPY_MODEL_4303259153c64027b933f75e4efb3465",
            "max": 9,
            "min": 1,
            "orientation": "horizontal",
            "readout": true,
            "readout_format": "d",
            "step": 1,
            "style": "IPY_MODEL_c0f74f7f422f4dfa8addfa3cccc27d35",
            "value": 5
          }
        },
        "e6b75ea9b14247daaccfcf8a572af0fb": {
          "model_module": "@jupyter-widgets/output",
          "model_name": "OutputModel",
          "model_module_version": "1.0.0",
          "state": {
            "_dom_classes": [],
            "_model_module": "@jupyter-widgets/output",
            "_model_module_version": "1.0.0",
            "_model_name": "OutputModel",
            "_view_count": null,
            "_view_module": "@jupyter-widgets/output",
            "_view_module_version": "1.0.0",
            "_view_name": "OutputView",
            "layout": "IPY_MODEL_36f07aa7c44343d0ab6a5546580c71e0",
            "msg_id": "",
            "outputs": [
              {
                "output_type": "display_data",
                "data": {
                  "text/plain": "<Figure size 640x480 with 1 Axes>",
                  "image/png": "iVBORw0KGgoAAAANSUhEUgAAAkMAAAGiCAYAAADkycIhAAAAOnRFWHRTb2Z0d2FyZQBNYXRwbG90bGliIHZlcnNpb24zLjEwLjAsIGh0dHBzOi8vbWF0cGxvdGxpYi5vcmcvlHJYcgAAAAlwSFlzAAAPYQAAD2EBqD+naQAANJVJREFUeJzt3Xt8FPW9//H3hpCFXDYh90RCuCkgCuItB4qIJQWVU4u1tiKtoAhig61AVTiniuhpod6rtaK/KniOeFTO8W6PFFRQKlBEA4JACYZ7EgTMLglkc9nv74+QlZAL5LI7m53X8/GYB5mZ78x+hpHN2+98Z8ZhjDECAACwqQirCwAAALASYQgAANgaYQgAANgaYQgAANgaYQgAANgaYQgAANgaYQgAANgaYQgAANgaYQgAANgaYQgAANhaQMPQxx9/rB/+8IfKzMyUw+HQm2++WW+9MUb33XefMjIy1LVrV+Xm5mrHjh312hw5ckQTJkyQy+VSQkKCJk+erLKyskCWDQAAbCSgYai8vFyDBw/W008/3ej6hx56SE8++aQWLlyodevWKSYmRmPGjFFFRYW/zYQJE7RlyxYtX75c7777rj7++GNNnTo1kGUDAAAbcQTrRa0Oh0NvvPGGxo0bJ6m2VygzM1OzZs3Sb37zG0mS2+1WWlqaFi9erBtuuEFbt27Vueeeq/Xr1+viiy+WJL3//vu6+uqrtW/fPmVmZgajdAAAEMYirfrgwsJCFRcXKzc3178sPj5eOTk5WrNmjW644QatWbNGCQkJ/iAkSbm5uYqIiNC6det07bXXNrpvr9crr9frn/f5fDpy5IiSkpLkcDgCd1AAAKDdGGN09OhRZWZmKiIicBezLAtDxcXFkqS0tLR6y9PS0vzriouLlZqaWm99ZGSkEhMT/W0aM3/+fM2bN6+dKwYAAFbYu3evunfvHrD9WxaGAmnOnDmaOXOmf97tdqtHjx7au3evXC6XhZUBaE/l5eX+y+UHDhxQTEyMxRUBaE8ej0dZWVmKi4sL6OdYFobS09MlSSUlJcrIyPAvLykp0QUXXOBvc/DgwXrbVVdX68iRI/7tG+N0OuV0Ohssd7lchCEgjHTq1Mn/s8vlIgwBYSrQQ1wse85Qr169lJ6erg8++MC/zOPxaN26dRo6dKgkaejQoSotLdWGDRv8bT788EP5fD7l5OQEvWYAABB+AtozVFZWpoKCAv98YWGh8vPzlZiYqB49eujOO+/Uf/zHf+jss89Wr169dO+99yozM9N/x9mAAQN05ZVXasqUKVq4cKGqqqo0ffp03XDDDdxJBgAA2kVAw9Bnn32mK664wj9fN45n4sSJWrx4se6++26Vl5dr6tSpKi0t1fDhw/X++++rS5cu/m2WLFmi6dOna9SoUYqIiNB1112nJ598MpBlAwAAGwnac4as5PF4FB8fL7fbzZghIIyUl5crNjZWUm1PNGOGgPASrN/fvJsMAADYGmEIAADYGmEIAADYGmEIAADYGmEIAADYGmEIAADYGmEIAADYGmEIAADYGmEIAADYGmEIAADYGmEIAADYGmEIAADYGmEIAADYGmEIAADYGmEIAADYGmEIAADYGmEIAADYGmEIAADYGmEIAADYGmEIAADYGmEIAADYGmEIAADYGmEIAADYGmEIAADYGmEIAADYGmEIAADYGmEIAADYGmEIAADYGmEIAADYGmEIAADYGmEIAADYGmEIAADYGmEIAADYGmEIAADYGmEIAADYmuVhqGfPnnI4HA2mvLw8SdLIkSMbrJs2bZrFVQMAgHARaXUB69evV01NjX9+8+bN+sEPfqDrr7/ev2zKlCl64IEH/PPR0dFBrREAAIQvy8NQSkpKvfkFCxaoT58+uvzyy/3LoqOjlZ6eHuzSAACADVh+mexklZWVeumll3TLLbfI4XD4ly9ZskTJyck677zzNGfOHB07dqzZ/Xi9Xnk8nnoTAABAYyzvGTrZm2++qdLSUk2aNMm/7MYbb1R2drYyMzO1adMm3XPPPdq+fbtef/31Jvczf/58zZs3LwgVAwCAjs5hjDFWF1FnzJgxioqK0jvvvNNkmw8//FCjRo1SQUGB+vTp02gbr9crr9frn/d4PMrKypLb7ZbL5Wr3ugFYo7y8XLGxsZKksrIyxcTEWFwRgPbk8XgUHx8f8N/fIdMztHv3bq1YsaLZHh9JysnJkaRmw5DT6ZTT6Wz3GgEAQPgJmTFDixYtUmpqqsaOHdtsu/z8fElSRkZGEKoCAADhLiR6hnw+nxYtWqSJEycqMvK7knbu3KmXX35ZV199tZKSkrRp0ybNmDFDI0aM0KBBgyysGAAAhIuQCEMrVqzQnj17dMstt9RbHhUVpRUrVuiJJ55QeXm5srKydN111+m3v/2tRZUCAIBwExJhaPTo0WpsHHdWVpZWrVplQUUAAMAuQmbMEAAAgBUIQwAAwNYIQwAAwNYIQwAAwNYIQwAAwNYIQwAAwNYIQwAAwNYIQwAAwNYIQwAAwNYIQwAAwNYIQwAAwNYIQwAAwNYIQwAAwNYIQwAAwNYIQwAAwNYIQwAAwNYIQwAAwNYIQwAAwNYIQwAAwNYIQwAAwNYIQwAAwNYIQwAAwNYIQwAAwNYIQwAAwNYIQwAAwNYIQwAAwNYIQwAAwNYIQwAAwNYIQwAAwNYIQwAAwNYIQwAAwNYIQwAAwNYIQwAAwNYIQwAAwNYIQwAAwNYsD0P333+/HA5Hval///7+9RUVFcrLy1NSUpJiY2N13XXXqaSkxMKKAQBAOLE8DEnSwIEDVVRU5J9Wr17tXzdjxgy98847Wrp0qVatWqUDBw7oxz/+sYXVAgCAcBJpdQGSFBkZqfT09AbL3W63nn/+eb388sv6/ve/L0latGiRBgwYoLVr1+pf/uVfgl0qAAAIMyHRM7Rjxw5lZmaqd+/emjBhgvbs2SNJ2rBhg6qqqpSbm+tv279/f/Xo0UNr1qxpcn9er1cej6feBAAA0BjLw1BOTo4WL16s999/X88884wKCwt12WWX6ejRoyouLlZUVJQSEhLqbZOWlqbi4uIm9zl//nzFx8f7p6ysrAAfBQAA6Kgsv0x21VVX+X8eNGiQcnJylJ2drddee01du3Zt1T7nzJmjmTNn+uc9Hg+BCAAANMrynqFTJSQk6JxzzlFBQYHS09NVWVmp0tLSem1KSkoaHWNUx+l0yuVy1ZsAAAAaE3JhqKysTDt37lRGRoYuuugide7cWR988IF//fbt27Vnzx4NHTrUwioBAEC4sPwy2W9+8xv98Ic/VHZ2tg4cOKC5c+eqU6dOGj9+vOLj4zV58mTNnDlTiYmJcrlcuuOOOzR06FDuJAMAAO3C8jC0b98+jR8/XocPH1ZKSoqGDx+utWvXKiUlRZL0+OOPKyIiQtddd528Xq/GjBmjP//5zxZXDQAAwoXDGGOsLiLQPB6P4uPj5Xa7GT8EhJHy8nLFxsZKqr3EHhMTY3FFANpTsH5/h9yYIQAAgGAiDAEAAFsjDAEAAFsjDAEAAFsjDAEAAFsjDAEAAFsjDAEAAFsjDAEAAFsjDAEAAFsjDAEAAFsjDAEAAFsjDAEAAFsjDAEAAFsjDAEAAFsjDAEAAFsjDAEAAFsjDAEAAFsjDAEAAFsjDAEAAFsjDAEAAFsjDAEAAFsjDAEAAFsjDAEAAFsjDAEAAFsjDAEAAFsjDAEAAFsjDAEAAFsjDAEAAFsjDAEAAFsjDAEAAFsjDAEAAFsjDAEAAFsjDAEAAFsjDAEAAFsjDAEAAFsjDAEAAFuzPAzNnz9fl1xyieLi4pSamqpx48Zp+/bt9dqMHDlSDoej3jRt2jSLKgYAAOHE8jC0atUq5eXlae3atVq+fLmqqqo0evRolZeX12s3ZcoUFRUV+aeHHnrIoooBAEA4ibS6gPfff7/e/OLFi5WamqoNGzZoxIgR/uXR0dFKT08/o316vV55vV7/vMfjaZ9iAQBA2LG8Z+hUbrdbkpSYmFhv+ZIlS5ScnKzzzjtPc+bM0bFjx5rcx/z58xUfH++fsrKyAlozAADouBzGGGN1EXV8Pp+uueYalZaWavXq1f7lzz33nLKzs5WZmalNmzbpnnvu0aWXXqrXX3+90f001jOUlZUlt9stl8sV8OMAEBzl5eWKjY2VJJWVlSkmJsbiigC0J4/Ho/j4+ID//rb8MtnJ8vLytHnz5npBSJKmTp3q//n8889XRkaGRo0apZ07d6pPnz4N9uN0OuV0OgNeLwAA6PhC5jLZ9OnT9e677+qjjz5S9+7dm22bk5MjSSooKAhGaQAAIIxZ3jNkjNEdd9yhN954QytXrlSvXr1Ou01+fr4kKSMjI8DVAQCAcGd5GMrLy9PLL7+st956S3FxcSouLpYkxcfHq2vXrtq5c6defvllXX311UpKStKmTZs0Y8YMjRgxQoMGDbK4egAA0NFZPoDa4XA0unzRokWaNGmS9u7dq5///OfavHmzysvLlZWVpWuvvVa//e1vz3gwVbAGYAEILgZQA+HNNgOoT5fFsrKytGrVqiBVAwAA7CZkBlADAABYgTAEAABsjTAEAABsjTAEAABsjTAEAABsjTAEAABsjTAEAABsjTAEAABsjTAEAABsjTAEAABsjTAEAABsjTAEAABsjTAEAABsjTAEAABsjTAEAABsjTAEAABsjTAEAABsjTAEAABsjTAEAABsjTAEAABsjTAEAABsjTAEAABsjTAEAABsjTAEAABsjTAEAABsjTAEAABsjTAEAABsjTAEAABsjTAEAABsjTAEAABsjTAEAABsjTAEAABsjTAEAABsjTAEAABsjTAEAABsrcOEoaefflo9e/ZUly5dlJOTo3/84x9WlwQAAMJApNUFnIlXX31VM2fO1MKFC5WTk6MnnnhCY8aM0fbt25WamnrG+ykvL1enTp0CWCmAYCovL2/0ZwDhIVj/rh3GGBOUT2qDnJwcXXLJJfrTn/4kSfL5fMrKytIdd9yh2bNnN2jv9Xrl9Xr98x6PR1lZWUq4fKIckVENP6A1fwVNbGPUzL5a+jnNtm9iXbMf0dQ2TW3U9M6aXNOuNbfj32Uz23S8c2ZkfD7J+GR8NdLJPxvfiXW1y/3LjE/ynbKspkqmukqmulKmplKm6sSf1VWS8Z35MQNAgLndbrlcroDtP+R7hiorK7VhwwbNmTPHvywiIkK5ublas2ZNo9vMnz9f8+bNa7A8bshYRTijA1YrEC5MTXVtSDoRlHyVFTLeY/J5y09MtT/XLas55lZN+beqKS9VTfm3Ml56aQB0HCEfhg4dOqSamhqlpaXVW56WlqZt27Y1us2cOXM0c+ZM/3xdz9Ckf+muLtGx9do22SfSXGdBE1s1v03LNNdh17qaW/45Te6rFR0cTX1Oa46lpZ/Rms9pvrOmZcfS2s9p8u/MSD5jVOMzqjGq/dNn5DNG1Sf+rF2m75b5vlvn80nVxqiqxidvlU/e6tqp2vfd5zk6RcrRKVJq5f88RHVyKDk2SqlxTmV166ruCV1q/+zWRT2TopUU00gPbSuUl5f7vxtKSkoUExPTLvsFEBo8Ho8yMzMD/jkhH4Zaw+l0yul0Nlj+m6sGBrSbDejIanxG3uqakwJSjSqqfKqoqlG5t1qeimodrajS0YpqlXm/+9lTUaVDZZU6VObVN0e9OlpRrcoaowNurw64vcrf52nwWcmxTg3IiNOADJcGZMTpwh7d1CMxWg6Ho9X1x8TEEIaAMFNTUxOUzwn5MJScnKxOnTqppKSk3vKSkhKlp6dbVBUQfjpFOBQdFanoNnbaVFTV6JujXn1T5lVRaYX2HDmmPUfKtfvwMe0+fEwH3Md1qMyrT3Z49cmOQ/7t0lxOXdIzUTm9EnX5OanqkcQlbQDBEfJhKCoqShdddJE++OADjRs3TlLtAOoPPvhA06dPt7Y4AA106dxJWYnRykqMlno0XH+sslrbi49qa9FRbSv2aPN+t77c71aJx6t3NxXp3U1FkraoX1qccs9N1ZUDM3TeWa429RoBQHNCPgxJ0syZMzVx4kRdfPHFuvTSS/XEE0+ovLxcN998s9WlAWih6KhIDenRTUN6dPMvq6iq0Rd7SrV+1xH9veCQPtv9rbaXHNX2kqN6+qOdOictVj+5qLuuHdJdKXENL4EDQFt0iFvrJelPf/qTHn74YRUXF+uCCy7Qk08+qZycnDPa1uPxKD4+PuC35gFoH6XHKrVy+zf621fF+mDrQXmra2/1j+oUoXFDMjV1RG/1TY1TeXm5YmNrb4ooKytjzBAQZoL1+7vDhKG2IAwBHZf7eJXe21SkVz/bq417S/3LR5+bprwRPXRBr9q7yQhDQPghDLUjwhAQHjbsPqJnV32t5VtLZIwU4ZDc+ctU+vF/ynNwP2EICDPB+v3dYd5NBgAXZSfquZsu1vIZIzRmYJp8RoobPEaZtz6jNzcWt+q5WQBAGALQ4fRNjdOzv7hY/zVpiCpLvlanri79+9vbNHHReh0q855+BwBwEsIQgA7rwqx4Ff3nDH27cpGckRH6+J/f6Oo/fqK1Xx+2ujQAHQhhCEDH5quRZ93/6rVbL9LZqbE6eNSrG//fWi3+e6HVlQHoIAhDAMJC35QYvTX9e/rxhWfJZ6T73/lKv//rVvl8jCMC0DzCEICwER0VqUevH6y7r+wnSXru468147V8Vdf4LK4MQCgjDAEIKw6HQ78c2VeP/XSwIiMceiv/gGYt3agaeogANIEwBCAs/fjC7vrzhAv9geie/93ErfcAGkUYAhC2Rg9M11Pjh6hThEP/s2Gf/vjBDqtLAhCCCEMAwtpV52foP8adJ0l6YsUOvfHFPosrAhBqCEMAwt74S3to2uV9JEn3/O+X2nLAbXFFAEIJYQiALdw9pp9G9U9VZbVPeUs+l6eiyuqSAIQIwhAAW4iIcOjRnw7WWQldtevwMc353y8ZUA1AEmEIgI0kREfp6RN3mL33ZZHe2VRkdUkAQgBhCICtXJCVoDu+f7Ykae5bm/XNUV7sCtgdYQiA7fzyij46N8Olb49Vae7bm60uB4DFCEMAbKdzpwg9fP0gdYpw6K9fFuuTHd9YXRIACxGGANjSwMx43TQ0W5I0752vVMX7ywDbIgwBsK07c89RYkyUCg6W6T/X7La6HAAWIQwBsK34rp1115jaN9z/ccU/5T7Os4cAOyIMAbC1n16cpbNTY+WpqNbzqwutLgeABQhDAGytU4RDM39wjiTphdWFOlJeaXFFAIKNMATA9sYMTNe5GS6Veav17Mc7rS4HQJARhgDYXkSEQ7NG1/YO/dea3XIfY+wQYCeEIQCQ9P3+qeqfHqdjlTV6+R97rC4HQBARhgBAksPh0K2X9ZYkLf60UJXVPHcIsAvCEACccM3gTKW5nCrxePXOxgNWlwMgSAhDAHBCVGSEJg7rKUn6y+pCGWOsLQhAUBCGAOAkN17aQ87ICG0t8ih/b6nV5QAIAsIQAJwkITpKY8/PkCS98o+9FlcDIBgIQwBwivE5PSRJb288oKMV3GYPhDvCEACc4uLsbuqbGqvjVTV6K5+B1EC4IwwBwCkcDoduuCRLkvTqei6VAeGOMAQAjfjxhd0VGeHQl/vd2vlNmdXlAAggy8LQrl27NHnyZPXq1Utdu3ZVnz59NHfuXFVWVtZr43A4Gkxr1661qmwANpEYE6XhZydLkt7mUhkQ1iKt+uBt27bJ5/Pp2WefVd++fbV582ZNmTJF5eXleuSRR+q1XbFihQYOHOifT0pKCna5AGzoRxdkauX2b/TOxgO6M/dsORwOq0sCEACWhaErr7xSV155pX++d+/e2r59u5555pkGYSgpKUnp6enBLhGAzf3g3HQ5I7/U14fKtXm/R+d3j7e6JAABEFJjhtxutxITExssv+aaa5Samqrhw4fr7bffPu1+vF6vPB5PvQkAWirWGancAWmSpLc37re4GgCBEjJhqKCgQE899ZRuu+02/7LY2Fg9+uijWrp0qd577z0NHz5c48aNO20gmj9/vuLj4/1TVlZWoMsHEKauuSBTkvTepiJezwGEKYdp53/ds2fP1h/+8Idm22zdulX9+/f3z+/fv1+XX365Ro4cqb/85S/NbnvTTTepsLBQn3zySZNtvF6vvF6vf97j8SgrK0tut1sul+sMjwRAqCsvL1dsbKwkqaysTDExMe3+GRVVNRrywHIdr6rRu3cM13lncakMCBaPx6P4+PiA//5u9zFDs2bN0qRJk5pt07t3b//PBw4c0BVXXKFhw4bpueeeO+3+c3JytHz58mbbOJ1OOZ3OM6oXAJrTpXMnXXZ2sv72VYlWbC0hDAFhqN3DUEpKilJSUs6o7f79+3XFFVfooosu0qJFixQRcfqrdvn5+crIyGhrmQBwxnLPTdPfvirR8q9KdGfuOVaXA6CdWXY32f79+zVy5EhlZ2frkUce0TfffONfV3fn2IsvvqioqCgNGTJEkvT666/rhRdeOO2lNABoT6P6pyrCIW054NGB0uPKTOhqdUkA2pFlYWj58uUqKChQQUGBunfvXm/dycOYHnzwQe3evVuRkZHq37+/Xn31Vf3kJz8JdrkAbCwp1qmLsrtp/a5vtWJriW4a2tPqkgC0o3YfQB2KgjUAC0BwBWMAdZ1nV+3U/P/bpsvOTtZ/Tc4J2OcA+E6wfn+HzK31ABDKRp143tC6wiOqqKqxuBoA7YkwBABnoE9KjDLiu6iy2qd/FB6xuhwA7YgwBABnwOFwaHjf2he3ri44ZHE1ANoTYQgAzlDdW+w/2UEYAsIJYQgAztD3TvQMbS3y6Juj3tO0BtBREIYA4Awlxzp1bkbtHS2f7qR3CAgXhCEAaIHLuFQGhB3CEAC0QN24oTU7D1tcCYD2QhgCgBa4sEc3dYpwaH/pce0vPW51OQDaAWEIAFogxhmpgZm144Y+28XzhoBwQBgCgBa6pGeiJPHwRSBMEIYAoIXqwtBnu761uBIA7YEwBAAtdEnPbpKk7SVHVXqs0uJqALQVYQgAWigp1qneKTGS6B0CwgFhCABa4dITl8rWM4ga6PAIQwDQCpcQhoCwQRgCgFa4MLt23NCWAx5V1fgsrgZAWxCGAKAVeiZFy9UlUt5qn7YXH7W6HABtQBgCgFZwOBwa1D1BkrRpn9vaYgC0CWEIAFppcFa8JGnj3lJrCwHQJoQhAGilup6hjftKLa0DQNsQhgCglS7ISpAk/bPkqI5VVltbDIBWIwwBQCuluboozeWUz9TeVQagYyIMAUAb+C+VMW4I6LAIQwDQBnWXyjZyRxnQYRGGAKANzj+r9o6yLfsJQ0BHRRgCgDYYkOGSJBUeLmcQNdBBEYYAoA1S4pxKjnXKGPEkaqCDIgwBQBsNyIiTJG0tIgwBHRFhCADa6NwTl8q2FnF7PdAREYYAoI0GEIaADo0wBABtVBeGthUflc9nLK4GQEsRhgCgjXqnxCiqU4TKvNXa9+1xq8sB0EKEIQBoo86dInR2WqwkaWsxl8qAjoYwBADtgHFDQMdlaRjq2bOnHA5HvWnBggX12mzatEmXXXaZunTpoqysLD300EMWVQsATSMMAR1XpNUFPPDAA5oyZYp/Pi4uzv+zx+PR6NGjlZubq4ULF+rLL7/ULbfcooSEBE2dOtWKcgGgUf3Ta7+7/llSZnElAFrK8jAUFxen9PT0RtctWbJElZWVeuGFFxQVFaWBAwcqPz9fjz32GGEIQEjpm1o7Zmj34XJ5q2vkjOxkcUUAzpTlY4YWLFigpKQkDRkyRA8//LCqq797t8+aNWs0YsQIRUVF+ZeNGTNG27dv17ffftvkPr1erzweT70JAAIpNc6pOGekfEbadeiY1eUAaAFLw9CvfvUrvfLKK/roo49022236fe//73uvvtu//ri4mKlpaXV26Zuvri4uMn9zp8/X/Hx8f4pKysrMAcAACc4HA71PXFHWcFBLpUBHUm7h6HZs2c3GBR96rRt2zZJ0syZMzVy5EgNGjRI06ZN06OPPqqnnnpKXq+3TTXMmTNHbrfbP+3du7c9Dg0AmtU3pTYM7TjIO8qAjqTdxwzNmjVLkyZNarZN7969G12ek5Oj6upq7dq1S/369VN6erpKSkrqtambb2qckSQ5nU45nc6WFQ4AbVQ3boieIaBjafcwlJKSopSUlFZtm5+fr4iICKWmpkqShg4dqn//939XVVWVOnfuLElavny5+vXrp27durVbzQDQHghDQMdk2ZihNWvW6IknntDGjRv19ddfa8mSJZoxY4Z+/vOf+4POjTfeqKioKE2ePFlbtmzRq6++qj/+8Y+aOXOmVWUDQJPOTq29vf7rQ+Wq4R1lQIdh2a31TqdTr7zyiu6//355vV716tVLM2bMqBd04uPj9be//U15eXm66KKLlJycrPvuu4/b6gGEpLO6dZUzMkLeap/2HjmmnskxVpcE4AxYFoYuvPBCrV279rTtBg0apE8++SQIFQFA23SKcKh3Sqy2FnlUcLCMMAR0EJY/ZwgAwknduKEdjBsCOgzCEAC0o7rb6xlEDXQchCEAaEd1PUM7vyEMAR0FYQgA2lHP5GhJte8oA9AxEIYAoB31TKodNP3tsSq5j1VZXA2AM0EYAoB2FOOMVEpc7RPwdx+hdwjoCAhDANDOeibVXiorPEQYAjoCwhAAtLO6S2W7Dx+zuBIAZ4IwBADtrO5hi7sYRA10CIQhAGhn2Scuk+3iMhnQIRCGAKCdcZkM6FgIQwDQzup6hg6XV8pTwe31QKgjDAFAO4vr0lnJsVGSpD30DgEhjzAEAAGQfeJSGbfXA6GPMAQAAfDduCHCEBDqCEMAEAB1D17cxWUyIOQRhgAgAHok8cJWoKMgDAFAAGQl1oah/d8et7gSAKdDGAKAAOjeraskqdhTocpqn8XVAGgOYQgAAiAl1ilnZIR8Rip2V1hdDoBmEIYAIAAcDofOOtE7tO9bBlEDoYwwBAAB0r1b7bihfYwbAkIaYQgAAqQ7PUNAh0AYAoAA8YehUnqGgFBGGAKAADkroa5niDAEhDLCEAAESN2YIZ41BIQ2whAABEjWictkRe7jqqrhWUNAqCIMAUCAJMc6FcWzhoCQRxgCgACJiHCo+4lxQ3u5owwIWYQhAAig7x68yLghIFQRhgAggHjwIhD6CEMAEEA8eBEIfYQhAAigujDE7fVA6CIMAUAAZcTXhqESD3eTAaGKMAQAAZQR30WSVOSukDHG4moANMayMLRy5Uo5HI5Gp/Xr10uSdu3a1ej6tWvXWlU2ALRIqsspSfJW+1R6rMriagA0JtKqDx42bJiKiorqLbv33nv1wQcf6OKLL663fMWKFRo4cKB/PikpKSg1AkBbOSM7KTk2SofKKlXkrlC3mCirSwJwCsvCUFRUlNLT0/3zVVVVeuutt3THHXfI4XDUa5uUlFSvLQB0JOnxXXSorFLFnuM6N9NldTkAThEyY4befvttHT58WDfffHODdddcc41SU1M1fPhwvf3226fdl9frlcfjqTcBgFXSXbWDqA+UMogaCEUhE4aef/55jRkzRt27d/cvi42N1aOPPqqlS5fqvffe0/DhwzVu3LjTBqL58+crPj7eP2VlZQW6fABoUt0gat5PBoSmdg9Ds2fPbnJgdN20bdu2etvs27dPy5Yt0+TJk+stT05O1syZM5WTk6NLLrlECxYs0M9//nM9/PDDzdYwZ84cud1u/7R37972PkwAOGPpJ91RBiD0tPuYoVmzZmnSpEnNtundu3e9+UWLFikpKUnXXHPNafefk5Oj5cuXN9vG6XTK6XSedl8AEAz+niEPD14EQlG7h6GUlBSlpKSccXtjjBYtWqSbbrpJnTt3Pm37/Px8ZWRktKVEAAgqeoaA0GbZ3WR1PvzwQxUWFurWW29tsO7FF19UVFSUhgwZIkl6/fXX9cILL+gvf/lLsMsEgFarewp18YkHL556xywAa1kehp5//nkNGzZM/fv3b3T9gw8+qN27dysyMlL9+/fXq6++qp/85CdBrhIAWi/dVdszdKyyRp6KasV3PX0vOIDgsTwMvfzyy02umzhxoiZOnBjEagCg/XWN6qSE6M4qPValYncFYQgIMSFzaz0AhLO63qEiN4OogVBDGAKAIOBZQ0DoIgwBQBCknxhEzR1lQOghDAFAENAzBIQuwhAABIH/WUMewhAQaghDABAEqXG1T8X/5qjX4koAnIowBABBkOIPQ/QMAaGGMAQAQZAaV3uZ7HB5paprfBZXA+BkhCEACILEmCh1inDImNpABCB0EIYAIAg6RTiUFBMlSTroYdwQEEoIQwAQJKmu2nFDBxk3BIQUwhAABEnduCHuKANCC2EIAIIkJbauZ4gwBIQSwhAABEndZTJ6hoDQQhgCgCCpe9YQY4aA0EIYAoAgSY3jMhkQighDABAkKQygBkISYQgAguTkniFjjMXVAKhDGAKAIKkbM1RZ7ZOnotriagDUIQwBQJB06dxJri6RknhhKxBKCEMAEET+O8p4JQcQMghDABBE/qdQlxGGgFBBGAKAIKJnCAg9hCEACKK6O8roGQJCB2EIAILI/+Z6DwOogVBBGAKAIEqhZwgIOYQhAAiixJjaMHS4rNLiSgDUIQwBQBAlxURJko6UE4aAUEEYAoAgSo6t7Rk6Ul4pn49XcgChgDAEAEHULaazJKnaZ+SpqLK4GgASYQgAgsoZ2UlxJ17JcZhLZUBIIAwBQJDVXSpjEDUQGghDABBkiScGUR/m9nogJBCGACDI6u4o4zIZEBoIQwAQZElcJgNCCmEIAILsu54hLpMBoSBgYeh3v/udhg0bpujoaCUkJDTaZs+ePRo7dqyio6OVmpqqu+66S9XV1fXarFy5UhdeeKGcTqf69u2rxYsXB6pkAAiKpFgukwGhJGBhqLKyUtdff71uv/32RtfX1NRo7Nixqqys1KeffqoXX3xRixcv1n333edvU1hYqLFjx+qKK65Qfn6+7rzzTt16661atmxZoMoGgID77jIZPUNAKIgM1I7nzZsnSU325Pztb3/TV199pRUrVigtLU0XXHCBHnzwQd1zzz26//77FRUVpYULF6pXr1569NFHJUkDBgzQ6tWr9fjjj2vMmDFNfrbX65XX+92XjNvtliR5PJ52OjoAoaC8vNz/s8fjUU1NjYXVnLmuPq983mMqOeTgewloRt2/D2MC/LR2E2CLFi0y8fHxDZbfe++9ZvDgwfWWff3110aS+fzzz40xxlx22WXm17/+db02L7zwgnG5XM1+5ty5c40kJiYmJiYmpjCYdu7c2ZYocloB6xk6neLiYqWlpdVbVjdfXFzcbBuPx6Pjx4+ra9euje57zpw5mjlzpn++tLRU2dnZ2rNnj+Lj49vzMEKax+NRVlaW9u7dK5fLZXU5QcNxc9x2wHFz3HbgdrvVo0cPJSYmBvRzWhSGZs+erT/84Q/Nttm6dav69+/fpqLayul0yul0NlgeHx9vq/+I6rhcLo7bRjhue+G47cWuxx0REdib31sUhmbNmqVJkyY126Z3795ntK/09HT94x//qLespKTEv67uz7plJ7dxuVxN9goBAAC0RIvCUEpKilJSUtrlg4cOHarf/e53OnjwoFJTUyVJy5cvl8vl0rnnnutv89e//rXedsuXL9fQoUPbpQYAAICA9Tvt2bNH+fn52rNnj2pqapSfn6/8/HyVlZVJkkaPHq1zzz1Xv/jFL7Rx40YtW7ZMv/3tb5WXl+e/xDVt2jR9/fXXuvvuu7Vt2zb9+c9/1muvvaYZM2a0qBan06m5c+c2euksnHHcHLcdcNwctx1w3IE9bocxgblfbdKkSXrxxRcbLP/oo480cuRISdLu3bt1++23a+XKlYqJidHEiRO1YMECRUZ+12G1cuVKzZgxQ1999ZW6d++ue++997SX6gAAAM5UwMIQAABAR8C7yQAAgK0RhgAAgK0RhgAAgK0RhgAAgK2FRRj63e9+p2HDhik6OloJCQmNttmzZ4/Gjh2r6Ohopaam6q677lJ1dXWz+z1y5IgmTJggl8ulhIQETZ482f9ogFCzcuVKORyORqf169c3ud3IkSMbtJ82bVoQK2+7nj17NjiGBQsWNLtNRUWF8vLylJSUpNjYWF133XUNHvAZynbt2qXJkyerV69e6tq1q/r06aO5c+eqsrKy2e066vl++umn1bNnT3Xp0kU5OTkNHth6qqVLl6p///7q0qWLzj///AbPKwt18+fP1yWXXKK4uDilpqZq3Lhx2r59e7PbLF68uMG57dKlS5Aqbh/3339/g2M43RsNOvq5lhr/DnM4HMrLy2u0fUc91x9//LF++MMfKjMzUw6HQ2+++Wa99cYY3XfffcrIyFDXrl2Vm5urHTt2nHa/Lf1+aExYhKHKykpdf/31uv322xtdX1NTo7Fjx6qyslKffvqpXnzxRS1evFj33Xdfs/udMGGCtmzZouXLl+vdd9/Vxx9/rKlTpwbiENps2LBhKioqqjfdeuut6tWrly6++OJmt50yZUq97R566KEgVd1+HnjggXrHcMcddzTbfsaMGXrnnXe0dOlSrVq1SgcOHNCPf/zjIFXbdtu2bZPP59Ozzz6rLVu26PHHH9fChQv1b//2b6fdtqOd71dffVUzZ87U3Llz9fnnn2vw4MEaM2aMDh482Gj7Tz/9VOPHj9fkyZP1xRdfaNy4cRo3bpw2b94c5Mpbb9WqVcrLy9PatWu1fPlyVVVVafTo0SovL292O5fLVe/c7t69O0gVt5+BAwfWO4bVq1c32TYczrUkrV+/vt4xL1++XJJ0/fXXN7lNRzzX5eXlGjx4sJ5++ulG1z/00EN68skntXDhQq1bt04xMTEaM2aMKioqmtxnS78fmhTQ18AG2aJFi0x8fHyD5X/9619NRESEKS4u9i975plnjMvlMl6vt9F9ffXVV0aSWb9+vX/Z//3f/xmHw2H279/f7rW3t8rKSpOSkmIeeOCBZttdfvnl5te//nVwigqQ7Oxs8/jjj59x+9LSUtO5c2ezdOlS/7KtW7caSWbNmjUBqDA4HnroIdOrV69m23TE833ppZeavLw8/3xNTY3JzMw08+fPb7T9T3/6UzN27Nh6y3Jycsxtt90W0DoD6eDBg0aSWbVqVZNtmvr+60jmzp1rBg8efMbtw/FcG2PMr3/9a9OnTx/j8/kaXR8O51qSeeONN/zzPp/PpKenm4cffti/rLS01DidTvPf//3fTe6npd8PTQmLnqHTWbNmjc4//3ylpaX5l40ZM0Yej0dbtmxpcpuEhIR6vSq5ubmKiIjQunXrAl5zW7399ts6fPiwbr755tO2XbJkiZKTk3Xeeedpzpw5OnbsWBAqbF8LFixQUlKShgwZoocffrjZS6AbNmxQVVWVcnNz/cv69++vHj16aM2aNcEoNyDcbvcZvdm5I53vyspKbdiwod65ioiIUG5ubpPnas2aNfXaS7X/3jv6uZV02vNbVlam7OxsZWVl6Uc/+lGT32+hbMeOHcrMzFTv3r01YcIE7dmzp8m24XiuKysr9dJLL+mWW26Rw+Fosl04nOuTFRYWqri4uN75jI+PV05OTpPnszXfD01p0bvJOqri4uJ6QUiSf764uLjJberemVYnMjJSiYmJTW4TSp5//nmNGTNG3bt3b7bdjTfeqOzsbGVmZmrTpk265557tH37dr3++utBqrTtfvWrX+nCCy9UYmKiPv30U82ZM0dFRUV67LHHGm1fXFysqKioBuPL0tLSOsS5bUxBQYGeeuopPfLII82262jn+9ChQ6qpqWn03++2bdsa3aapf+8d9dz6fD7deeed+t73vqfzzjuvyXb9+vXTCy+8oEGDBsntduuRRx7RsGHDtGXLltN+D4SKnJwcLV68WP369VNRUZHmzZunyy67TJs3b1ZcXFyD9uF2riXpzTffVGlpabNvWgiHc32qunPWkvPZmu+HpoRsGJo9e7b+8Ic/NNtm69atpx1c19G15u9h3759WrZsmV577bXT7v/kMVDnn3++MjIyNGrUKO3cuVN9+vRpfeFt1JLjnjlzpn/ZoEGDFBUVpdtuu03z58/vcO/xac353r9/v6688kpdf/31mjJlSrPbhur5RtPy8vK0efPmZsfOSLUvtj75JdbDhg3TgAED9Oyzz+rBBx8MdJnt4qqrrvL/PGjQIOXk5Cg7O1uvvfaaJk+ebGFlwfP888/rqquuUmZmZpNtwuFch5qQDUOzZs067TvIevfufUb7Sk9PbzC6vO7OofT09Ca3OXUAVnV1tY4cOdLkNoHQmr+HRYsWKSkpSddcc02LPy8nJ0dSbU+Dlb8c23L+c3JyVF1drV27dqlfv34N1qenp6uyslKlpaX1eodKSkqCem4b09LjPnDggK644goNGzZMzz33XIs/L1TOd1OSk5PVqVOnBnf6NXeu0tPTW9Q+lE2fPt1/80ZL/4+/c+fOGjJkiAoKCgJUXeAlJCTonHPOafIYwulcS7Xv61yxYkWLe2rD4VzXnbOSkhJlZGT4l5eUlOiCCy5odJvWfD80qUUjjELc6QZQl5SU+Jc9++yzxuVymYqKikb3VTeA+rPPPvMvW7ZsWcgPoPb5fKZXr15m1qxZrdp+9erVRpLZuHFjO1cWPC+99JKJiIgwR44caXR93QDq//mf//Ev27ZtW4cbQL1v3z5z9tlnmxtuuMFUV1e3ah8d4XxfeumlZvr06f75mpoac9ZZZzU7gPpf//Vf6y0bOnRohxpU6/P5TF5ensnMzDT//Oc/W7WP6upq069fPzNjxox2ri54jh49arp162b++Mc/Nro+HM71yebOnWvS09NNVVVVi7briOdaTQygfuSRR/zL3G73GQ2gbsn3Q5P1tKh1iNq9e7f54osvzLx580xsbKz54osvzBdffGGOHj1qjKn9D+W8884zo0ePNvn5+eb99983KSkpZs6cOf59rFu3zvTr18/s27fPv+zKK680Q4YMMevWrTOrV682Z599thk/fnzQj68lVqxYYSSZrVu3Nli3b98+069fP7Nu3TpjjDEFBQXmgQceMJ999pkpLCw0b731lundu7cZMWJEsMtutU8//dQ8/vjjJj8/3+zcudO89NJLJiUlxdx0003+NqcetzHGTJs2zfTo0cN8+OGH5rPPPjNDhw41Q4cOteIQWmXfvn2mb9++ZtSoUWbfvn2mqKjIP53cJhzO9yuvvGKcTqdZvHix+eqrr8zUqVNNQkKC/+7QX/ziF2b27Nn+9n//+99NZGSkeeSRR8zWrVvN3LlzTefOnc2XX35p1SG02O23327i4+PNypUr653bY8eO+ducetzz5s0zy5YtMzt37jQbNmwwN9xwg+nSpYvZsmWLFYfQKrNmzTIrV640hYWF5u9//7vJzc01ycnJ5uDBg8aY8DzXdWpqakyPHj3MPffc02BduJzro0eP+n8/SzKPPfaY+eKLL8zu3buNMcYsWLDAJCQkmLfeests2rTJ/OhHPzK9evUyx48f9+/j+9//vnnqqaf886f7fjhTYRGGJk6caCQ1mD766CN/m127dpmrrrrKdO3a1SQnJ5tZs2bVS98fffSRkWQKCwv9yw4fPmzGjx9vYmNjjcvlMjfffLM/YIWq8ePHm2HDhjW6rrCwsN7fy549e8yIESNMYmKicTqdpm/fvuauu+4ybrc7iBW3zYYNG0xOTo6Jj483Xbp0MQMGDDC///3v6/X4nXrcxhhz/Phx88tf/tJ069bNREdHm2uvvbZekAh1ixYtavS/+ZM7e8PpfD/11FOmR48eJioqylx66aVm7dq1/nWXX365mThxYr32r732mjnnnHNMVFSUGThwoHnvvfeCXHHbNHVuFy1a5G9z6nHfeeed/r+jtLQ0c/XVV5vPP/88+MW3wc9+9jOTkZFhoqKizFlnnWV+9rOfmYKCAv/6cDzXdZYtW2Ykme3btzdYFy7nuu737KlT3bH5fD5z7733mrS0NON0Os2oUaMa/H1kZ2ebuXPn1lvW3PfDmXIYY0zLLqwBAACED1s8ZwgAAKAphCEAAGBrhCEAAGBrhCEAAGBrhCEAAGBrhCEAAGBrhCEAAGBrhCEAAGBrhCEAAGBrhCEAAGBrhCEAAGBr/x/vMI0QIINFzQAAAABJRU5ErkJggg==\n"
                },
                "metadata": {}
              }
            ]
          }
        },
        "545b157f380242a99dd4fa7f47a4343d": {
          "model_module": "@jupyter-widgets/base",
          "model_name": "LayoutModel",
          "model_module_version": "1.2.0",
          "state": {
            "_model_module": "@jupyter-widgets/base",
            "_model_module_version": "1.2.0",
            "_model_name": "LayoutModel",
            "_view_count": null,
            "_view_module": "@jupyter-widgets/base",
            "_view_module_version": "1.2.0",
            "_view_name": "LayoutView",
            "align_content": null,
            "align_items": null,
            "align_self": null,
            "border": null,
            "bottom": null,
            "display": null,
            "flex": null,
            "flex_flow": null,
            "grid_area": null,
            "grid_auto_columns": null,
            "grid_auto_flow": null,
            "grid_auto_rows": null,
            "grid_column": null,
            "grid_gap": null,
            "grid_row": null,
            "grid_template_areas": null,
            "grid_template_columns": null,
            "grid_template_rows": null,
            "height": null,
            "justify_content": null,
            "justify_items": null,
            "left": null,
            "margin": null,
            "max_height": null,
            "max_width": null,
            "min_height": null,
            "min_width": null,
            "object_fit": null,
            "object_position": null,
            "order": null,
            "overflow": null,
            "overflow_x": null,
            "overflow_y": null,
            "padding": null,
            "right": null,
            "top": null,
            "visibility": null,
            "width": null
          }
        },
        "4d618233d87a4f84a0aeea1fa0e8ca8a": {
          "model_module": "@jupyter-widgets/base",
          "model_name": "LayoutModel",
          "model_module_version": "1.2.0",
          "state": {
            "_model_module": "@jupyter-widgets/base",
            "_model_module_version": "1.2.0",
            "_model_name": "LayoutModel",
            "_view_count": null,
            "_view_module": "@jupyter-widgets/base",
            "_view_module_version": "1.2.0",
            "_view_name": "LayoutView",
            "align_content": null,
            "align_items": null,
            "align_self": null,
            "border": null,
            "bottom": null,
            "display": null,
            "flex": null,
            "flex_flow": null,
            "grid_area": null,
            "grid_auto_columns": null,
            "grid_auto_flow": null,
            "grid_auto_rows": null,
            "grid_column": null,
            "grid_gap": null,
            "grid_row": null,
            "grid_template_areas": null,
            "grid_template_columns": null,
            "grid_template_rows": null,
            "height": null,
            "justify_content": null,
            "justify_items": null,
            "left": null,
            "margin": null,
            "max_height": null,
            "max_width": null,
            "min_height": null,
            "min_width": null,
            "object_fit": null,
            "object_position": null,
            "order": null,
            "overflow": null,
            "overflow_x": null,
            "overflow_y": null,
            "padding": null,
            "right": null,
            "top": null,
            "visibility": null,
            "width": null
          }
        },
        "51c84c67213845e7959209eb29c29b06": {
          "model_module": "@jupyter-widgets/controls",
          "model_name": "SliderStyleModel",
          "model_module_version": "1.5.0",
          "state": {
            "_model_module": "@jupyter-widgets/controls",
            "_model_module_version": "1.5.0",
            "_model_name": "SliderStyleModel",
            "_view_count": null,
            "_view_module": "@jupyter-widgets/base",
            "_view_module_version": "1.2.0",
            "_view_name": "StyleView",
            "description_width": "",
            "handle_color": null
          }
        },
        "4303259153c64027b933f75e4efb3465": {
          "model_module": "@jupyter-widgets/base",
          "model_name": "LayoutModel",
          "model_module_version": "1.2.0",
          "state": {
            "_model_module": "@jupyter-widgets/base",
            "_model_module_version": "1.2.0",
            "_model_name": "LayoutModel",
            "_view_count": null,
            "_view_module": "@jupyter-widgets/base",
            "_view_module_version": "1.2.0",
            "_view_name": "LayoutView",
            "align_content": null,
            "align_items": null,
            "align_self": null,
            "border": null,
            "bottom": null,
            "display": null,
            "flex": null,
            "flex_flow": null,
            "grid_area": null,
            "grid_auto_columns": null,
            "grid_auto_flow": null,
            "grid_auto_rows": null,
            "grid_column": null,
            "grid_gap": null,
            "grid_row": null,
            "grid_template_areas": null,
            "grid_template_columns": null,
            "grid_template_rows": null,
            "height": null,
            "justify_content": null,
            "justify_items": null,
            "left": null,
            "margin": null,
            "max_height": null,
            "max_width": null,
            "min_height": null,
            "min_width": null,
            "object_fit": null,
            "object_position": null,
            "order": null,
            "overflow": null,
            "overflow_x": null,
            "overflow_y": null,
            "padding": null,
            "right": null,
            "top": null,
            "visibility": null,
            "width": null
          }
        },
        "c0f74f7f422f4dfa8addfa3cccc27d35": {
          "model_module": "@jupyter-widgets/controls",
          "model_name": "SliderStyleModel",
          "model_module_version": "1.5.0",
          "state": {
            "_model_module": "@jupyter-widgets/controls",
            "_model_module_version": "1.5.0",
            "_model_name": "SliderStyleModel",
            "_view_count": null,
            "_view_module": "@jupyter-widgets/base",
            "_view_module_version": "1.2.0",
            "_view_name": "StyleView",
            "description_width": "",
            "handle_color": null
          }
        },
        "36f07aa7c44343d0ab6a5546580c71e0": {
          "model_module": "@jupyter-widgets/base",
          "model_name": "LayoutModel",
          "model_module_version": "1.2.0",
          "state": {
            "_model_module": "@jupyter-widgets/base",
            "_model_module_version": "1.2.0",
            "_model_name": "LayoutModel",
            "_view_count": null,
            "_view_module": "@jupyter-widgets/base",
            "_view_module_version": "1.2.0",
            "_view_name": "LayoutView",
            "align_content": null,
            "align_items": null,
            "align_self": null,
            "border": null,
            "bottom": null,
            "display": null,
            "flex": null,
            "flex_flow": null,
            "grid_area": null,
            "grid_auto_columns": null,
            "grid_auto_flow": null,
            "grid_auto_rows": null,
            "grid_column": null,
            "grid_gap": null,
            "grid_row": null,
            "grid_template_areas": null,
            "grid_template_columns": null,
            "grid_template_rows": null,
            "height": null,
            "justify_content": null,
            "justify_items": null,
            "left": null,
            "margin": null,
            "max_height": null,
            "max_width": null,
            "min_height": null,
            "min_width": null,
            "object_fit": null,
            "object_position": null,
            "order": null,
            "overflow": null,
            "overflow_x": null,
            "overflow_y": null,
            "padding": null,
            "right": null,
            "top": null,
            "visibility": null,
            "width": null
          }
        },
        "af0b78febbd74384a8b28cba096fe26d": {
          "model_module": "@jupyter-widgets/controls",
          "model_name": "VBoxModel",
          "model_module_version": "1.5.0",
          "state": {
            "_dom_classes": [
              "widget-interact"
            ],
            "_model_module": "@jupyter-widgets/controls",
            "_model_module_version": "1.5.0",
            "_model_name": "VBoxModel",
            "_view_count": null,
            "_view_module": "@jupyter-widgets/controls",
            "_view_module_version": "1.5.0",
            "_view_name": "VBoxView",
            "box_style": "",
            "children": [
              "IPY_MODEL_68bfcdc48eaa4289ad55c0016a61f4ff",
              "IPY_MODEL_c90f1b5fd6524cce9737b52613656d8c",
              "IPY_MODEL_14ab101bc8c347d3b265acd8aa70c19a",
              "IPY_MODEL_1ee53134c4ae496c90fb214fbc6c10d3"
            ],
            "layout": "IPY_MODEL_d0eb10e9c561483c9a16ade1731cfa79"
          }
        },
        "68bfcdc48eaa4289ad55c0016a61f4ff": {
          "model_module": "@jupyter-widgets/controls",
          "model_name": "FloatSliderModel",
          "model_module_version": "1.5.0",
          "state": {
            "_dom_classes": [],
            "_model_module": "@jupyter-widgets/controls",
            "_model_module_version": "1.5.0",
            "_model_name": "FloatSliderModel",
            "_view_count": null,
            "_view_module": "@jupyter-widgets/controls",
            "_view_module_version": "1.5.0",
            "_view_name": "FloatSliderView",
            "continuous_update": true,
            "description": "a",
            "description_tooltip": null,
            "disabled": false,
            "layout": "IPY_MODEL_b3068adb4a0b4476ab35fdd0afd671fc",
            "max": 5,
            "min": -5,
            "orientation": "horizontal",
            "readout": true,
            "readout_format": ".2f",
            "step": 0.1,
            "style": "IPY_MODEL_63661895890b4be98145dae8ca19e0b4",
            "value": 1
          }
        },
        "c90f1b5fd6524cce9737b52613656d8c": {
          "model_module": "@jupyter-widgets/controls",
          "model_name": "FloatSliderModel",
          "model_module_version": "1.5.0",
          "state": {
            "_dom_classes": [],
            "_model_module": "@jupyter-widgets/controls",
            "_model_module_version": "1.5.0",
            "_model_name": "FloatSliderModel",
            "_view_count": null,
            "_view_module": "@jupyter-widgets/controls",
            "_view_module_version": "1.5.0",
            "_view_name": "FloatSliderView",
            "continuous_update": true,
            "description": "b",
            "description_tooltip": null,
            "disabled": false,
            "layout": "IPY_MODEL_5665d9b9234b46e9ab4398d26bde793d",
            "max": 10,
            "min": -10,
            "orientation": "horizontal",
            "readout": true,
            "readout_format": ".2f",
            "step": 0.1,
            "style": "IPY_MODEL_f08f40158d9140f1bf1a7038386bcb14",
            "value": -3.6
          }
        },
        "14ab101bc8c347d3b265acd8aa70c19a": {
          "model_module": "@jupyter-widgets/controls",
          "model_name": "FloatSliderModel",
          "model_module_version": "1.5.0",
          "state": {
            "_dom_classes": [],
            "_model_module": "@jupyter-widgets/controls",
            "_model_module_version": "1.5.0",
            "_model_name": "FloatSliderModel",
            "_view_count": null,
            "_view_module": "@jupyter-widgets/controls",
            "_view_module_version": "1.5.0",
            "_view_name": "FloatSliderView",
            "continuous_update": true,
            "description": "c",
            "description_tooltip": null,
            "disabled": false,
            "layout": "IPY_MODEL_381f70d2b26f4f97bc1292a900cb117d",
            "max": 20,
            "min": -20,
            "orientation": "horizontal",
            "readout": true,
            "readout_format": ".2f",
            "step": 0.1,
            "style": "IPY_MODEL_44bd6d5220e6465dbd254cee44e4fc68",
            "value": 3.7
          }
        },
        "1ee53134c4ae496c90fb214fbc6c10d3": {
          "model_module": "@jupyter-widgets/output",
          "model_name": "OutputModel",
          "model_module_version": "1.0.0",
          "state": {
            "_dom_classes": [],
            "_model_module": "@jupyter-widgets/output",
            "_model_module_version": "1.0.0",
            "_model_name": "OutputModel",
            "_view_count": null,
            "_view_module": "@jupyter-widgets/output",
            "_view_module_version": "1.0.0",
            "_view_name": "OutputView",
            "layout": "IPY_MODEL_1f40b4cc9f614dda98835cdef83ffc46",
            "msg_id": "",
            "outputs": [
              {
                "output_type": "display_data",
                "data": {
                  "text/plain": "<Figure size 800x500 with 1 Axes>",
                  "image/png": "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\n"
                },
                "metadata": {}
              }
            ]
          }
        },
        "d0eb10e9c561483c9a16ade1731cfa79": {
          "model_module": "@jupyter-widgets/base",
          "model_name": "LayoutModel",
          "model_module_version": "1.2.0",
          "state": {
            "_model_module": "@jupyter-widgets/base",
            "_model_module_version": "1.2.0",
            "_model_name": "LayoutModel",
            "_view_count": null,
            "_view_module": "@jupyter-widgets/base",
            "_view_module_version": "1.2.0",
            "_view_name": "LayoutView",
            "align_content": null,
            "align_items": null,
            "align_self": null,
            "border": null,
            "bottom": null,
            "display": null,
            "flex": null,
            "flex_flow": null,
            "grid_area": null,
            "grid_auto_columns": null,
            "grid_auto_flow": null,
            "grid_auto_rows": null,
            "grid_column": null,
            "grid_gap": null,
            "grid_row": null,
            "grid_template_areas": null,
            "grid_template_columns": null,
            "grid_template_rows": null,
            "height": null,
            "justify_content": null,
            "justify_items": null,
            "left": null,
            "margin": null,
            "max_height": null,
            "max_width": null,
            "min_height": null,
            "min_width": null,
            "object_fit": null,
            "object_position": null,
            "order": null,
            "overflow": null,
            "overflow_x": null,
            "overflow_y": null,
            "padding": null,
            "right": null,
            "top": null,
            "visibility": null,
            "width": null
          }
        },
        "b3068adb4a0b4476ab35fdd0afd671fc": {
          "model_module": "@jupyter-widgets/base",
          "model_name": "LayoutModel",
          "model_module_version": "1.2.0",
          "state": {
            "_model_module": "@jupyter-widgets/base",
            "_model_module_version": "1.2.0",
            "_model_name": "LayoutModel",
            "_view_count": null,
            "_view_module": "@jupyter-widgets/base",
            "_view_module_version": "1.2.0",
            "_view_name": "LayoutView",
            "align_content": null,
            "align_items": null,
            "align_self": null,
            "border": null,
            "bottom": null,
            "display": null,
            "flex": null,
            "flex_flow": null,
            "grid_area": null,
            "grid_auto_columns": null,
            "grid_auto_flow": null,
            "grid_auto_rows": null,
            "grid_column": null,
            "grid_gap": null,
            "grid_row": null,
            "grid_template_areas": null,
            "grid_template_columns": null,
            "grid_template_rows": null,
            "height": null,
            "justify_content": null,
            "justify_items": null,
            "left": null,
            "margin": null,
            "max_height": null,
            "max_width": null,
            "min_height": null,
            "min_width": null,
            "object_fit": null,
            "object_position": null,
            "order": null,
            "overflow": null,
            "overflow_x": null,
            "overflow_y": null,
            "padding": null,
            "right": null,
            "top": null,
            "visibility": null,
            "width": null
          }
        },
        "63661895890b4be98145dae8ca19e0b4": {
          "model_module": "@jupyter-widgets/controls",
          "model_name": "SliderStyleModel",
          "model_module_version": "1.5.0",
          "state": {
            "_model_module": "@jupyter-widgets/controls",
            "_model_module_version": "1.5.0",
            "_model_name": "SliderStyleModel",
            "_view_count": null,
            "_view_module": "@jupyter-widgets/base",
            "_view_module_version": "1.2.0",
            "_view_name": "StyleView",
            "description_width": "",
            "handle_color": null
          }
        },
        "5665d9b9234b46e9ab4398d26bde793d": {
          "model_module": "@jupyter-widgets/base",
          "model_name": "LayoutModel",
          "model_module_version": "1.2.0",
          "state": {
            "_model_module": "@jupyter-widgets/base",
            "_model_module_version": "1.2.0",
            "_model_name": "LayoutModel",
            "_view_count": null,
            "_view_module": "@jupyter-widgets/base",
            "_view_module_version": "1.2.0",
            "_view_name": "LayoutView",
            "align_content": null,
            "align_items": null,
            "align_self": null,
            "border": null,
            "bottom": null,
            "display": null,
            "flex": null,
            "flex_flow": null,
            "grid_area": null,
            "grid_auto_columns": null,
            "grid_auto_flow": null,
            "grid_auto_rows": null,
            "grid_column": null,
            "grid_gap": null,
            "grid_row": null,
            "grid_template_areas": null,
            "grid_template_columns": null,
            "grid_template_rows": null,
            "height": null,
            "justify_content": null,
            "justify_items": null,
            "left": null,
            "margin": null,
            "max_height": null,
            "max_width": null,
            "min_height": null,
            "min_width": null,
            "object_fit": null,
            "object_position": null,
            "order": null,
            "overflow": null,
            "overflow_x": null,
            "overflow_y": null,
            "padding": null,
            "right": null,
            "top": null,
            "visibility": null,
            "width": null
          }
        },
        "f08f40158d9140f1bf1a7038386bcb14": {
          "model_module": "@jupyter-widgets/controls",
          "model_name": "SliderStyleModel",
          "model_module_version": "1.5.0",
          "state": {
            "_model_module": "@jupyter-widgets/controls",
            "_model_module_version": "1.5.0",
            "_model_name": "SliderStyleModel",
            "_view_count": null,
            "_view_module": "@jupyter-widgets/base",
            "_view_module_version": "1.2.0",
            "_view_name": "StyleView",
            "description_width": "",
            "handle_color": null
          }
        },
        "381f70d2b26f4f97bc1292a900cb117d": {
          "model_module": "@jupyter-widgets/base",
          "model_name": "LayoutModel",
          "model_module_version": "1.2.0",
          "state": {
            "_model_module": "@jupyter-widgets/base",
            "_model_module_version": "1.2.0",
            "_model_name": "LayoutModel",
            "_view_count": null,
            "_view_module": "@jupyter-widgets/base",
            "_view_module_version": "1.2.0",
            "_view_name": "LayoutView",
            "align_content": null,
            "align_items": null,
            "align_self": null,
            "border": null,
            "bottom": null,
            "display": null,
            "flex": null,
            "flex_flow": null,
            "grid_area": null,
            "grid_auto_columns": null,
            "grid_auto_flow": null,
            "grid_auto_rows": null,
            "grid_column": null,
            "grid_gap": null,
            "grid_row": null,
            "grid_template_areas": null,
            "grid_template_columns": null,
            "grid_template_rows": null,
            "height": null,
            "justify_content": null,
            "justify_items": null,
            "left": null,
            "margin": null,
            "max_height": null,
            "max_width": null,
            "min_height": null,
            "min_width": null,
            "object_fit": null,
            "object_position": null,
            "order": null,
            "overflow": null,
            "overflow_x": null,
            "overflow_y": null,
            "padding": null,
            "right": null,
            "top": null,
            "visibility": null,
            "width": null
          }
        },
        "44bd6d5220e6465dbd254cee44e4fc68": {
          "model_module": "@jupyter-widgets/controls",
          "model_name": "SliderStyleModel",
          "model_module_version": "1.5.0",
          "state": {
            "_model_module": "@jupyter-widgets/controls",
            "_model_module_version": "1.5.0",
            "_model_name": "SliderStyleModel",
            "_view_count": null,
            "_view_module": "@jupyter-widgets/base",
            "_view_module_version": "1.2.0",
            "_view_name": "StyleView",
            "description_width": "",
            "handle_color": null
          }
        },
        "1f40b4cc9f614dda98835cdef83ffc46": {
          "model_module": "@jupyter-widgets/base",
          "model_name": "LayoutModel",
          "model_module_version": "1.2.0",
          "state": {
            "_model_module": "@jupyter-widgets/base",
            "_model_module_version": "1.2.0",
            "_model_name": "LayoutModel",
            "_view_count": null,
            "_view_module": "@jupyter-widgets/base",
            "_view_module_version": "1.2.0",
            "_view_name": "LayoutView",
            "align_content": null,
            "align_items": null,
            "align_self": null,
            "border": null,
            "bottom": null,
            "display": null,
            "flex": null,
            "flex_flow": null,
            "grid_area": null,
            "grid_auto_columns": null,
            "grid_auto_flow": null,
            "grid_auto_rows": null,
            "grid_column": null,
            "grid_gap": null,
            "grid_row": null,
            "grid_template_areas": null,
            "grid_template_columns": null,
            "grid_template_rows": null,
            "height": null,
            "justify_content": null,
            "justify_items": null,
            "left": null,
            "margin": null,
            "max_height": null,
            "max_width": null,
            "min_height": null,
            "min_width": null,
            "object_fit": null,
            "object_position": null,
            "order": null,
            "overflow": null,
            "overflow_x": null,
            "overflow_y": null,
            "padding": null,
            "right": null,
            "top": null,
            "visibility": null,
            "width": null
          }
        }
      }
    }
  },
  "cells": [
    {
      "cell_type": "markdown",
      "metadata": {
        "id": "view-in-github",
        "colab_type": "text"
      },
      "source": [
        "<a href=\"https://colab.research.google.com/github/Chiomanwafor-ui/FreeCodeCamp_Projects/blob/main/Foundational_Math_3_(Learn).ipynb\" target=\"_parent\"><img src=\"https://colab.research.google.com/assets/colab-badge.svg\" alt=\"Open In Colab\"/></a>"
      ]
    },
    {
      "cell_type": "markdown",
      "metadata": {
        "id": "EsfO5Q92tL-6"
      },
      "source": [
        "[![freeCodeCamp](https://cdn.freecodecamp.org/testable-projects-fcc/images/fcc_secondary.svg)](https://freecodecamp.org/)"
      ]
    },
    {
      "cell_type": "markdown",
      "metadata": {
        "id": "57mlyO58UfN0"
      },
      "source": [
        "**Learn Foundational Math 3 by Building a Financial App**<br>\n",
        "Each of these steps will lead you toward the Certification Project. Once you complete a step, click to expand the next step."
      ]
    },
    {
      "cell_type": "markdown",
      "metadata": {
        "id": "szp5flp1fA8-"
      },
      "source": [
        "# &darr; **Do this first** &darr;\n",
        "Copy this notebook to your own account by clicking the `File` button at the top, and then click `Save a copy in Drive`. You will need to be logged in to Google. The file will be in a folder called \"Colab Notebooks\" in your Google Drive."
      ]
    },
    {
      "cell_type": "markdown",
      "source": [
        "# Step 0 - Acquire the Testing Library"
      ],
      "metadata": {
        "id": "KDloBuvnHQTS"
      }
    },
    {
      "cell_type": "markdown",
      "source": [
        "Please run this code to get the library file from FreeCodeCamp. Each step will use this library to test your code. You do not need to edit anything; just run this code cell and wait a few seconds until it tells you to go on to the next step."
      ],
      "metadata": {
        "id": "JiW6TlNezZKS"
      }
    },
    {
      "cell_type": "code",
      "source": [
        "# You may need to run this cell at the beginning of each new session\n",
        "\n",
        "!pip install requests\n",
        "\n",
        "# This will just take a few seconds\n",
        "\n",
        "import requests\n",
        "\n",
        "# Get the library from GitHub\n",
        "url = 'https://raw.githubusercontent.com/edatfreecodecamp/python-math/main/math-code-test-c.py'\n",
        "r = requests.get(url)\n",
        "\n",
        "# Save the library in a local working directory\n",
        "with open('math_code_test_c.py', 'w') as f:\n",
        "    f.write(r.text)\n",
        "\n",
        "# Now you can import the library\n",
        "import math_code_test_c as test\n",
        "\n",
        "# This will tell you if the code works\n",
        "test.step00()"
      ],
      "metadata": {
        "id": "eTlHceacGa1C",
        "outputId": "07528615-fac4-4372-cb85-57e2276a85ac",
        "colab": {
          "base_uri": "https://localhost:8080/"
        }
      },
      "execution_count": 1,
      "outputs": [
        {
          "output_type": "stream",
          "name": "stdout",
          "text": [
            "Requirement already satisfied: requests in /usr/local/lib/python3.11/dist-packages (2.32.3)\n",
            "Requirement already satisfied: charset-normalizer<4,>=2 in /usr/local/lib/python3.11/dist-packages (from requests) (3.4.2)\n",
            "Requirement already satisfied: idna<4,>=2.5 in /usr/local/lib/python3.11/dist-packages (from requests) (3.10)\n",
            "Requirement already satisfied: urllib3<3,>=1.21.1 in /usr/local/lib/python3.11/dist-packages (from requests) (2.5.0)\n",
            "Requirement already satisfied: certifi>=2017.4.17 in /usr/local/lib/python3.11/dist-packages (from requests) (2025.8.3)\n",
            "Code test passed\n",
            "Go on to the next step\n"
          ]
        }
      ]
    },
    {
      "cell_type": "markdown",
      "metadata": {
        "id": "r1AM-AcqkbyF"
      },
      "source": [
        "# Step 1 - Graphing Inequalities"
      ]
    },
    {
      "cell_type": "markdown",
      "metadata": {
        "id": "K8rdL_OEkd-t"
      },
      "source": [
        "Learn Inequalities by Building Shaded Graphs. Notice how you set up the plot, like you learned in the last certification. Run the following code and you will see that the graph of y <u>></u> 2x is not quite right. Because y is greater, the shading should be above the line. The second two arguments in the `fill_between()` function give a range of y values to shade. Change just that part of the code to make the graph correct. (Hint: Think about the top of the graph.)\n"
      ]
    },
    {
      "cell_type": "code",
      "metadata": {
        "id": "QAVgVP3xUd4J",
        "outputId": "8c0a9c39-eef1-47ba-e3f7-8a76b17ed0c2",
        "colab": {
          "base_uri": "https://localhost:8080/",
          "height": 507
        }
      },
      "source": [
        "import matplotlib.pyplot as plt\n",
        "import numpy as np\n",
        "\n",
        "xmin = -10\n",
        "xmax = 10\n",
        "ymin = - 10\n",
        "ymax = 10\n",
        "points = 2*(xmax-xmin)\n",
        "x = np.linspace(xmin,xmax,points)\n",
        "\n",
        "fig, ax = plt.subplots()\n",
        "plt.axis([xmin,xmax,ymin,ymax]) # window size\n",
        "plt.plot([xmin,xmax],[0,0],'b') # blue x axis\n",
        "plt.plot([0,0],[ymin,ymax], 'b') # blue y axis\n",
        "\n",
        "plt.title(\"y > 2x\")\n",
        "\n",
        "y1 = 2*x\n",
        "plt.plot(x, y1)\n",
        "\n",
        "# Only change code below this line\n",
        "plt.fill_between(x, y1, ymax)\n",
        "\n",
        "plt.show()\n",
        "\n",
        "\n",
        "# Only change code above this line\n",
        "import math_code_test_c as test\n",
        "test.step01(In[-1].split('# Only change code above this line')[0])"
      ],
      "execution_count": 3,
      "outputs": [
        {
          "output_type": "display_data",
          "data": {
            "text/plain": [
              "<Figure size 640x480 with 1 Axes>"
            ],
            "image/png": "[encoded data removed]"
          },
          "metadata": {}
        },
        {
          "output_type": "stream",
          "name": "stdout",
          "text": [
            " \n",
            "Code test passed\n",
            "Go on to the next step\n"
          ]
        }
      ]
    },
    {
      "cell_type": "markdown",
      "metadata": {
        "id": "8wXbGsoYkm60"
      },
      "source": [
        "# Step 2 - Graphing inequalities - Part 2"
      ]
    },
    {
      "cell_type": "markdown",
      "metadata": {
        "id": "ehY1G02Dkv7r"
      },
      "source": [
        "The default graph will give you a solid line, but you can change the type of line and the color. As `'b'` is for a solid blue line, `'b--'` will be a dashed blue line and `'r--'` will display a dashed red line. Change the code to graph a dashed red line."
      ]
    },
    {
      "cell_type": "code",
      "metadata": {
        "id": "3Pp_SmUikwgy",
        "outputId": "823b2313-74d5-4798-e7fe-22c120a28b16",
        "colab": {
          "base_uri": "https://localhost:8080/",
          "height": 490
        }
      },
      "source": [
        "import matplotlib.pyplot as plt\n",
        "import numpy as np\n",
        "\n",
        "xmin = -10\n",
        "xmax = 10\n",
        "ymin = - 10\n",
        "ymax = 10\n",
        "points = 2*(xmax-xmin)\n",
        "x = np.linspace(xmin,xmax,points)\n",
        "\n",
        "fig, ax = plt.subplots()\n",
        "plt.axis([xmin,xmax,ymin,ymax]) # window size\n",
        "plt.plot([xmin,xmax],[0,0],'b') # blue x axis\n",
        "plt.plot([0,0],[ymin,ymax], 'b') # blue y axis\n",
        "\n",
        "y1 = 2*x\n",
        "\n",
        "# Only change the next line:\n",
        "plt.plot(x, y1, 'r--')\n",
        "\n",
        "plt.fill_between(x, y1, ymin)\n",
        "plt.show()\n",
        "\n",
        "\n",
        "\n",
        "# Only change code above this line\n",
        "import math_code_test_c as test\n",
        "test.step02(In[-1].split('# Only change code above this line')[0])"
      ],
      "execution_count": 7,
      "outputs": [
        {
          "output_type": "display_data",
          "data": {
            "text/plain": [
              "<Figure size 640x480 with 1 Axes>"
            ],
            "image/png": "[encoded data removed]"
          },
          "metadata": {}
        },
        {
          "output_type": "stream",
          "name": "stdout",
          "text": [
            " \n",
            "Code test passed\n",
            "Go on to the next step\n"
          ]
        }
      ]
    },
    {
      "cell_type": "markdown",
      "metadata": {
        "id": "tBxuJtHck2Oo"
      },
      "source": [
        "# Step 3 - Making Art with Graphs"
      ]
    },
    {
      "cell_type": "markdown",
      "metadata": {
        "id": "PTr63nCrlTiM"
      },
      "source": [
        "Now plot four inequalities on the graph, in a pattern. Notice how you only need to define the x values once. In the `fill_between()` function notice a fourth argument, `facecolor=`, to indicate a different color for the shaded area. The color name in single quotes, like 'green' or 'yellow' or any common color name. Run the code to see the pattern, then reverse the order of the colors and run it again."
      ]
    },
    {
      "cell_type": "code",
      "metadata": {
        "id": "Iyoq1h3vlV-a",
        "outputId": "a5f2c274-e18d-43a9-da6d-b6ee8ec40df1",
        "colab": {
          "base_uri": "https://localhost:8080/",
          "height": 490
        }
      },
      "source": [
        "import matplotlib.pyplot as plt\n",
        "import numpy as np\n",
        "\n",
        "xmin = -10\n",
        "xmax = 10\n",
        "ymin = - 10\n",
        "ymax = 10\n",
        "points = 2*(xmax-xmin)\n",
        "x = np.linspace(xmin,xmax,points)\n",
        "\n",
        "fig, ax = plt.subplots()\n",
        "plt.axis([xmin,xmax,ymin,ymax]) # window size\n",
        "plt.plot([xmin,xmax],[0,0],'b') # blue x axis\n",
        "plt.plot([0,0],[ymin,ymax], 'b') # blue y axis\n",
        "\n",
        "# Only change the lines indicated below\n",
        "\n",
        "# line 1\n",
        "y1 = x+6\n",
        "plt.plot(x, y1)\n",
        "plt.fill_between(x, y1, 10, facecolor='blue') # change this line\n",
        "\n",
        "# line 2\n",
        "y2 = x+3\n",
        "plt.plot(x, y2)\n",
        "plt.fill_between(x, y2, y1, facecolor='green') # change this line\n",
        "\n",
        "# line 3\n",
        "y3 = x-1\n",
        "plt.plot(x, y3)\n",
        "plt.fill_between(x, y3, y2, facecolor='yellow') # change this line\n",
        "\n",
        "# line 4\n",
        "y4 = x-4\n",
        "plt.plot(x, y4)\n",
        "plt.fill_between(x, y4, y3, facecolor='red') # change this line\n",
        "\n",
        "plt.show()\n",
        "\n",
        "\n",
        "\n",
        "# Only change code above this line\n",
        "import math_code_test_c as test\n",
        "test.step03(In[-1].split('# Only change code above this line')[0])"
      ],
      "execution_count": 9,
      "outputs": [
        {
          "output_type": "display_data",
          "data": {
            "text/plain": [
              "<Figure size 640x480 with 1 Axes>"
            ],
            "image/png": "[encoded data removed]"
          },
          "metadata": {}
        },
        {
          "output_type": "stream",
          "name": "stdout",
          "text": [
            " \n",
            "Code test passed\n",
            "Go on to the next step\n"
          ]
        }
      ]
    },
    {
      "cell_type": "markdown",
      "metadata": {
        "id": "s3z_zaNWlet8"
      },
      "source": [
        "# Step 4 - Monomials"
      ]
    },
    {
      "cell_type": "markdown",
      "metadata": {
        "id": "BTOGQIpElet-"
      },
      "source": [
        "A <i>monomial</i> means \"one thing\" or one term. In a math equation, each term has a sign, a coefficient, and a variable to an exponent. Here are some examples: In the term -3x<sup>2</sup> you can see that the sign is negative, the coefficient is 3, the variable is x, the exponent is 2. The term x also has all of these parts: the sign is positive, the coefficient is 1, the variable is x, and the exponent is 1. In the term 5, the sign is positive, the coefficient is 5, the variable is still x, and the exponent is zero (notice that you don't need to write some of these parts, like x<sup>0</sup>). You can use `sympy` to display monomials nicely. Just run the code to see how this looks.  "
      ]
    },
    {
      "cell_type": "code",
      "metadata": {
        "id": "oAPKmzeblet_",
        "outputId": "137587df-5e9a-4931-e413-5ee115598485",
        "colab": {
          "base_uri": "https://localhost:8080/",
          "height": 75
        }
      },
      "source": [
        "from sympy import symbols, Eq\n",
        "\n",
        "x = symbols('x')\n",
        "eq1 = Eq(-2*x**3 , -16)\n",
        "display(eq1)\n",
        "\n",
        "\n",
        "# Just run this code\n",
        "import math_code_test_c as test\n",
        "test.step00()"
      ],
      "execution_count": 10,
      "outputs": [
        {
          "output_type": "display_data",
          "data": {
            "text/plain": [
              "Eq(-2*x**3, -16)"
            ],
            "text/latex": "$\\displaystyle - 2 x^{3} = -16$"
          },
          "metadata": {}
        },
        {
          "output_type": "stream",
          "name": "stdout",
          "text": [
            "Code test passed\n",
            "Go on to the next step\n"
          ]
        }
      ]
    },
    {
      "cell_type": "markdown",
      "metadata": {
        "id": "lnP9BOpPlhdK"
      },
      "source": [
        "# Step 5 - Polynomials"
      ]
    },
    {
      "cell_type": "markdown",
      "metadata": {
        "id": "ABF6PI7TlhdL"
      },
      "source": [
        "A \"monomial\" is one thing. A \"binomial\" is two things. A \"trinomial\" is three things. A \"polynomial\" is many things. In standard form, `x` is the variable; you put your terms in order from highest exponent to lowest; refer to the coefficients with letters in alphabetical order; and set all of this equal to `y` (because it is a function that you can graph). Example: y = ax<sup>4</sup> + bx<sup>3</sup> + cx<sup>2</sup> + dx + e <br>\n",
        "Write code to prompt for integer input and display a polynomial. Remember to use the `**` for exponents. Parts of this are already done for you."
      ]
    },
    {
      "cell_type": "code",
      "metadata": {
        "id": "USVAJRualhdL",
        "outputId": "65ca2c16-1e6c-4989-bc09-b2174f05456e",
        "colab": {
          "base_uri": "https://localhost:8080/",
          "height": 184
        }
      },
      "source": [
        "from IPython.display import display, Math\n",
        "from sympy import *\n",
        "\n",
        "x,y = symbols('x y')\n",
        "\n",
        "a = int(input(\"Enter coefficient A: \"))\n",
        "b = int(input(\"Enter coefficient B: \"))\n",
        "c = int(input(\"Enter coefficient C: \"))\n",
        "d = int(input(\"Enter coefficient D: \"))\n",
        "# continue this to prompt for variables c and d\n",
        "\n",
        "# change the next line to display the full polynomial\n",
        "y = a*x**3 + b*x**2 + c*x + d\n",
        "\n",
        "print(\"Here is your equation:\")\n",
        "display(Math(\"y = \" + latex(y)))\n",
        "\n",
        "\n",
        "# Only change code above this line\n",
        "import math_code_test_c as test\n",
        "test.step05(In[-1].split('# Only change code above this line')[0])"
      ],
      "execution_count": 12,
      "outputs": [
        {
          "output_type": "stream",
          "name": "stdout",
          "text": [
            "Enter coefficient A: 2\n",
            "Enter coefficient B: 3\n",
            "Enter coefficient C: 4\n",
            "Enter coefficient D: 5\n",
            "Here is your equation:\n"
          ]
        },
        {
          "output_type": "display_data",
          "data": {
            "text/plain": [
              "<IPython.core.display.Math object>"
            ],
            "text/latex": "$\\displaystyle y = 2 x^{3} + 3 x^{2} + 4 x + 5$"
          },
          "metadata": {}
        },
        {
          "output_type": "stream",
          "name": "stdout",
          "text": [
            " \n",
            "Code test passed\n",
            "Go on to the next step\n"
          ]
        }
      ]
    },
    {
      "cell_type": "markdown",
      "metadata": {
        "id": "yoavB8H_ljVn"
      },
      "source": [
        "# Step 6 - Interactive Polynomial Graph"
      ]
    },
    {
      "cell_type": "markdown",
      "metadata": {
        "id": "3yk-TKO6ljVo"
      },
      "source": [
        "For this polynomial, y = ax<sup>2</sup> + bx + c, you can move the sliders to adjust the coefficients and see how that affects the graph. Notice how the `f()` function takes two arguments and the `interactive()` function defines two sliders. Run this code and interact with it. Then add the third coefficient (\"c\") by changing three things: the `def` line so that the function takes three arguments, the `plt.plot` line so that it includes \"+ c\", and the `interactive` line to include a third slider."
      ]
    },
    {
      "cell_type": "code",
      "metadata": {
        "id": "sOecWXLOljVo",
        "outputId": "3c80686e-9869-4b5b-b885-bdb6ef8e6791",
        "colab": {
          "base_uri": "https://localhost:8080/",
          "height": 586,
          "referenced_widgets": [
            "d46c9afa4f144e828a63fe283106f5b6",
            "59fca8df25834c0e9dcc57028c39195e",
            "cdd2156aa28444f2b0aa233c6393b5f8",
            "32e930ea5eb14e52a155749820d81c13",
            "cef4396ab8d04064b789d171b7784b03",
            "48f7cece42804e2eb512bb7bcd483abc",
            "9f77d37e5dbc4464b34912bac1f88716",
            "e499db229bfc4eb3ae5efc0cd8fd9cff",
            "8db7fcd3ba7e420b84430e5319823f4d",
            "022f567dce204990bca32c880a92049e",
            "54381618a3584991a55af1f415cdaadd",
            "0f8e2216dbea4c0890e2bf60ff2311c8",
            "396b23b76ae9471dae0fa4682831f6a0"
          ]
        }
      },
      "source": [
        "%matplotlib inline\n",
        "from ipywidgets import interactive\n",
        "import matplotlib.pyplot as plt\n",
        "import numpy as np\n",
        "\n",
        "# Change the next line:\n",
        "def f(a, b, c):\n",
        "    plt.axis([-10,10,-10,10]) # window size\n",
        "    plt.plot([-10,10],[0,0],'k') # blue x axis\n",
        "    plt.plot([0,0],[-10,10], 'k') # blue y axis\n",
        "    x = np.linspace(-10, 10, 200)\n",
        "    plt.plot(x, a*x**2+b*x+c) # Change this line\n",
        "    plt.show()\n",
        "\n",
        "# Change the next line:\n",
        "interactive_plot = interactive(f, a=(-9, 9), b=(-9, 9), c=(-9,9))\n",
        "display(interactive_plot)\n",
        "\n",
        "\n",
        "# Only change code above this line\n",
        "import math_code_test_c as test\n",
        "test.step06(In[-1].split('# Only change code above this line')[0])"
      ],
      "execution_count": 14,
      "outputs": [
        {
          "output_type": "display_data",
          "data": {
            "text/plain": [
              "interactive(children=(IntSlider(value=0, description='a', max=9, min=-9), IntSlider(value=0, description='b', …"
            ],
            "application/vnd.jupyter.widget-view+json": {
              "version_major": 2,
              "version_minor": 0,
              "model_id": "d46c9afa4f144e828a63fe283106f5b6"
            }
          },
          "metadata": {}
        },
        {
          "output_type": "stream",
          "name": "stdout",
          "text": [
            " \n",
            "Code test passed\n",
            "Go on to the next step\n"
          ]
        }
      ]
    },
    {
      "cell_type": "markdown",
      "metadata": {
        "id": "MlRfYVIylkQf"
      },
      "source": [
        "# Step 7 - Exponential Functions"
      ]
    },
    {
      "cell_type": "markdown",
      "metadata": {
        "id": "H16dtXc0lkQg"
      },
      "source": [
        "The general formula for an `exponential function` is $y = a*b^{x}$ (where `a` and `b` are constants and `x` is the variable in the exponent). The shape of exponential graphs, especially when not drawn to scale, are very consistent, so the numerical values are more important to calculate. Things that grow exponentially include populations, investments, and other \"percent increase\" situations. Run this code and use the sliders to see the slight changes. Notice the scale. Then change the slider so that `a` has negative values from -9 to -1 and see how that changes the graph."
      ]
    },
    {
      "cell_type": "code",
      "metadata": {
        "id": "8KIMFu7LlkQg",
        "outputId": "4c34d78b-cdde-41a8-fca3-09ef062338f4",
        "colab": {
          "base_uri": "https://localhost:8080/",
          "height": 554,
          "referenced_widgets": [
            "9c16401798054f1a818228e848a54dcb",
            "f9c08bd120bc45e8bd0b78928ab4868a",
            "f98e20cbcb864e00a6253e4a5b78125f",
            "e6b75ea9b14247daaccfcf8a572af0fb",
            "545b157f380242a99dd4fa7f47a4343d",
            "4d618233d87a4f84a0aeea1fa0e8ca8a",
            "51c84c67213845e7959209eb29c29b06",
            "4303259153c64027b933f75e4efb3465",
            "c0f74f7f422f4dfa8addfa3cccc27d35",
            "36f07aa7c44343d0ab6a5546580c71e0"
          ]
        }
      },
      "source": [
        "%matplotlib inline\n",
        "from ipywidgets import interactive\n",
        "import matplotlib.pyplot as plt\n",
        "import numpy as np\n",
        "\n",
        "xmin = -10\n",
        "xmax = 10\n",
        "ymin = -100\n",
        "ymax = 100\n",
        "\n",
        "def f(a, b):\n",
        "    plt.axis([xmin,xmax,ymin,ymax]) # window size\n",
        "    plt.plot([xmin,xmax],[0,0],'k') # x axis\n",
        "    plt.plot([0,0],[ymin,ymax], 'k') # y axis\n",
        "    x = np.linspace(xmin, xmax, 1000)\n",
        "    plt.plot(x, a*b**x)\n",
        "    plt.show()\n",
        "\n",
        "# Only change the next line:\n",
        "interactive_plot = interactive(f, a=(-9, -1), b=(1, 9))\n",
        "display(interactive_plot)\n",
        "\n",
        "\n",
        "# Only change code above this line\n",
        "import math_code_test_c as test\n",
        "test.step07(In[-1].split('# Only change code above this line')[0])"
      ],
      "execution_count": 17,
      "outputs": [
        {
          "output_type": "display_data",
          "data": {
            "text/plain": [
              "interactive(children=(IntSlider(value=-5, description='a', max=-1, min=-9), IntSlider(value=5, description='b'…"
            ],
            "application/vnd.jupyter.widget-view+json": {
              "version_major": 2,
              "version_minor": 0,
              "model_id": "9c16401798054f1a818228e848a54dcb"
            }
          },
          "metadata": {}
        },
        {
          "output_type": "stream",
          "name": "stdout",
          "text": [
            " \n",
            "Code test passed\n",
            "Go on to the next step\n"
          ]
        }
      ]
    },
    {
      "cell_type": "markdown",
      "metadata": {
        "id": "NGH1FcttllvS"
      },
      "source": [
        "# Step 8 - Percent Increase"
      ]
    },
    {
      "cell_type": "markdown",
      "metadata": {
        "id": "KLKYiioGllvT"
      },
      "source": [
        "One formula for calculating a percent increase is <b>A = P(1 + r)<sup>t</sup></b> where `A` would be the `y` value on a graph and `t` would be the `x` value. `A` is the <i>annuity</i>, which is the amount you have at the end. `P` is the <i>principle</i>, which is the amount you have at the beginning. `R` (usually not capitalized) is the <i>rate</i>, a percent converted to a decimal. The exponent `t` represents <i>time</i>, usually in years. The code already prompts for `P`, `r` and `t`, so use those variables to calculate the annuity value."
      ]
    },
    {
      "cell_type": "code",
      "metadata": {
        "id": "Vkp6zmxIllvT",
        "outputId": "971a9803-a27b-4460-c44d-737a1b8e520b",
        "colab": {
          "base_uri": "https://localhost:8080/"
        }
      },
      "source": [
        "p = float(input(\"Starting amount = \"))\n",
        "r = float(input(\"Enter the percentage rate, converted to a decimal: \"))\n",
        "t = float(input(\"How many years will this investment grow? \"))\n",
        "\n",
        "# Change the next line to calculate the annuity\n",
        "a =  p*(1+r)**t\n",
        "\n",
        "print(\"The annuity is \", a)\n",
        "\n",
        "\n",
        "# Only change code above this line\n",
        "import math_code_test_c as test\n",
        "test.step08(In[-1].split('# Only change code above this line')[0])"
      ],
      "execution_count": 20,
      "outputs": [
        {
          "output_type": "stream",
          "name": "stdout",
          "text": [
            "Starting amount = 1000\n",
            "Enter the percentage rate, converted to a decimal: .05\n",
            "How many years will this investment grow? 7\n",
            "The annuity is  1407.1004226562504\n",
            " \n",
            "Code test passed\n",
            "Go on to the next step\n"
          ]
        }
      ]
    },
    {
      "cell_type": "markdown",
      "metadata": {
        "id": "Sx0kwIdalmmY"
      },
      "source": [
        "# Step 9 - Percent Decrease"
      ]
    },
    {
      "cell_type": "markdown",
      "metadata": {
        "id": "Wx7fXQDKlmmZ"
      },
      "source": [
        "The percent decrease formula is very similar, except you subtract the rate, so the formula is <b>A = P(1 - r)<sup>t</sup></b>. Some things that decrease by a percent include car values, decay of some elements, and sales discounts. Use the existing variables to calculate the final value (`a`)."
      ]
    },
    {
      "cell_type": "code",
      "metadata": {
        "id": "zJmQoa6YlmmZ",
        "outputId": "d6264ef8-137e-498f-b7e8-12c2e3f57c38",
        "colab": {
          "base_uri": "https://localhost:8080/"
        }
      },
      "source": [
        "p = float(input(\"Starting amount = \"))\n",
        "r = float(input(\"Enter the percentage rate, converted to a decimal: \"))\n",
        "t = float(input(\"How many years will this decrease continue? \"))\n",
        "\n",
        "# Change the next line to calculate the final amount\n",
        "a =  p*(1-r)**t\n",
        "\n",
        "print(\"The final amount is \", a)\n",
        "\n",
        "# Only change code above this line\n",
        "import math_code_test_c as test\n",
        "test.step09(In[-1].split('# Only change code above this line')[0])"
      ],
      "execution_count": 22,
      "outputs": [
        {
          "output_type": "stream",
          "name": "stdout",
          "text": [
            "Starting amount = 200000\n",
            "Enter the percentage rate, converted to a decimal: .09\n",
            "How many years will this decrease continue? 10\n",
            "The final amount is  77883.22362362152\n",
            " \n",
            "Code test passed\n",
            "Go on to the next step\n"
          ]
        }
      ]
    },
    {
      "cell_type": "markdown",
      "source": [
        "#Step 10 - Compound Interest"
      ],
      "metadata": {
        "id": "S-DVSzwDvKvE"
      }
    },
    {
      "cell_type": "markdown",
      "source": [
        "When you use percent increase formulas for money in the bank, it's called <i>compound interest</i>. The amount of money you earn beyond the original principle is the interest. When the bank calculates the interest and adds it to the principle, that process is called <i>compounding</i> and it can happen any number of times per year. The formula is <b> A = P(1 + $\\frac{r}{n}$)<sup>nt</sup></b> where <i>n</i> is the number of times the bank compounds the money per year. Notice that if n = 1 then this formula is the same as the formula from an earlier step. Write the code to calculate the annuity (hint: use extra parentheses)."
      ],
      "metadata": {
        "id": "qf181QFOvCgd"
      }
    },
    {
      "cell_type": "code",
      "source": [
        "p = float(input(\"Starting amount: \"))\n",
        "r = float(input(\"Percentage rate, converted to a decimal: \"))\n",
        "t = float(input(\"Number of years this investment will grow: \"))\n",
        "n = int(input(\"Number of times compounded per year: \"))\n",
        "\n",
        "# Change the next line to calculate the annuity\n",
        "annuity =  p*(1+(r/n))**(n*t)\n",
        "\n",
        "print(\"The annuity is \", annuity)\n",
        "\n",
        "\n",
        "# Only change code above this line\n",
        "import math_code_test_c as test\n",
        "test.step10(In[-1].split('# Only change code above this line')[0])"
      ],
      "metadata": {
        "id": "O0FAXixVvGXh",
        "outputId": "9f89e468-5ac5-43bc-c94d-6e0fd6ccf24e",
        "colab": {
          "base_uri": "https://localhost:8080/"
        }
      },
      "execution_count": 23,
      "outputs": [
        {
          "output_type": "stream",
          "name": "stdout",
          "text": [
            "Starting amount: 1000\n",
            "Percentage rate, converted to a decimal: 0.5\n",
            "Number of years this investment will grow: 7\n",
            "Number of times compounded per year: 52\n",
            "The annuity is  32566.37029500719\n",
            " \n",
            "Code test passed\n",
            "Go on to the next step\n"
          ]
        }
      ]
    },
    {
      "cell_type": "markdown",
      "metadata": {
        "id": "H6LTAPYplxvi"
      },
      "source": [
        "# Step 11 - Continuous Growth"
      ]
    },
    {
      "cell_type": "markdown",
      "metadata": {
        "id": "5oRPxD6olxvi"
      },
      "source": [
        "In the first formula, A = P(1 + r)<sup>t</sup>, money is compounded annually.<br>\n",
        "In the second formula, A = P(1 + $\\frac{r}{n})^{nt}$, money is compounded `n` times per year.<br>\n",
        "As `n` gets to be a really big number, you get a different formula, A = Pe$^{rt}$, for continuous growth.<br>\n",
        "In this formula, `e` is a constant, about equal to 2.718281828. The following code already prompts for the four variables once. Use those variables to compare the annuity from the three formulas. Notice you need to `import math` to use `math.e` (the best approximation of e)."
      ]
    },
    {
      "cell_type": "code",
      "metadata": {
        "id": "kf3Q0Yg7lxvk",
        "outputId": "bbbd649c-000d-4e58-f941-2f42cc60181d",
        "colab": {
          "base_uri": "https://localhost:8080/"
        }
      },
      "source": [
        "import math\n",
        "\n",
        "p = float(input(\"Principle: \"))\n",
        "r = float(input(\"Rate: \"))\n",
        "t = int(input(\"Time: \"))\n",
        "n = int(input(\"N: \"))\n",
        "\n",
        "# Only change the following three formulas:\n",
        "a_annual = p*(1+r)**t\n",
        "a_n_times = p*(1+r/n)**(n*t)\n",
        "a_continuous = p*math.e**(r*t)\n",
        "\n",
        "# Only change the code above this line\n",
        "\n",
        "print(\"Compounded annually, anuity = \", a_annual)\n",
        "print(\"Compounded \", n, \"times per year, anuity = \", a_n_times)\n",
        "print(\"Compounded continuously, anuity = \", a_continuous)\n",
        "\n",
        "\n",
        "# Only change code above this line\n",
        "import math_code_test_c as test\n",
        "test.step11(In[-1].split('# Only change code above this line')[0])"
      ],
      "execution_count": 25,
      "outputs": [
        {
          "output_type": "stream",
          "name": "stdout",
          "text": [
            "Principle: 11000\n",
            "Rate: .06\n",
            "Time: 15\n",
            "N: 12\n",
            "Compounded annually, anuity =  26362.140124096608\n",
            "Compounded  12 times per year, anuity =  26995.02918471883\n",
            "Compounded continuously, anuity =  27055.634222726443\n",
            " \n",
            "Code test passed\n",
            "Go on to the next step\n"
          ]
        }
      ]
    },
    {
      "cell_type": "markdown",
      "metadata": {
        "id": "iaEBltZXln-Q"
      },
      "source": [
        "# Step 12 - Investments"
      ]
    },
    {
      "cell_type": "markdown",
      "source": [
        "If you have an investment where you contrubute money every month and the value also increases by a consistent percentage, you can create a loop to calculate the accumulated value. In each iteration, use the <i>simple interest</i> formula: interest = principle * rate * time. (Hint: for one month, t = $\\frac{1}{12}$ or you can just divide by 12.)"
      ],
      "metadata": {
        "id": "JTQ9uZw3UeGT"
      }
    },
    {
      "cell_type": "code",
      "metadata": {
        "id": "t7sRzH5Oln-R",
        "outputId": "83f65199-d5a7-47b1-fa99-7aaffbac44c1",
        "colab": {
          "base_uri": "https://localhost:8080/"
        }
      },
      "source": [
        "p = float(input(\"Starting amount: \"))\n",
        "r = float(input(\"Annual percentage rate: \"))\n",
        "t = int(input(\"Number of years: \"))\n",
        "monthly = float(input(\"Monthly contribution: \"))\n",
        "\n",
        "# Hint: keep updating this annuity variable in the loop\n",
        "annuity = p\n",
        "\n",
        "# Each iteration of the loop represents one month\n",
        "for a in range(12*t):\n",
        "    annuity = annuity + monthly\n",
        "    # Change the next line to calculate the interest\n",
        "    interest = annuity*r/12\n",
        "    annuity = annuity + interest\n",
        "\n",
        "# Keep this line:\n",
        "print(\"Annuity = \", annuity)\n",
        "\n",
        "\n",
        "# Only change code above this line\n",
        "import math_code_test_c as test\n",
        "test.step12(p,r,t,monthly,annuity)"
      ],
      "execution_count": 26,
      "outputs": [
        {
          "output_type": "stream",
          "name": "stdout",
          "text": [
            "Starting amount: 5000\n",
            "Annual percentage rate: .08\n",
            "Number of years: 35\n",
            "Monthly contribution: 400\n",
            "Annuity =  1005132.7633131231\n",
            " \n",
            "Code test passed\n",
            "Go on to the next step\n"
          ]
        }
      ]
    },
    {
      "cell_type": "markdown",
      "metadata": {
        "id": "l5GwlqRdlpEu"
      },
      "source": [
        "# Step 13 - Mortgage Payments"
      ]
    },
    {
      "cell_type": "markdown",
      "metadata": {
        "id": "50OH4hj8lpEv"
      },
      "source": [
        "When borrowing a large amount of money over a long period of time, the formula to calculate monthly payments gets complicated. Here it is:<br>\n",
        " monthly payment = P$\\frac{\\frac{r}{12}(1 + \\frac{r}{12})^{12t}}{(1 + \\frac{r}{12})^{12t} - 1}$ where, as usual, `P` is the principle, `r` is the annual interest rate (as a decimal), and  `t` is the time in years. Write the code to prompt for these variables and calculate the monthly payment. Hint: Use other variables and do this in steps."
      ]
    },
    {
      "cell_type": "code",
      "metadata": {
        "id": "E5X8_WbnlpEv",
        "outputId": "8d3b47c6-0b03-47ad-fd05-21c0826185cd",
        "colab": {
          "base_uri": "https://localhost:8080/"
        }
      },
      "source": [
        "p = float(input(\"Amount borrowed: \"))\n",
        "r = float(input(\"Annual percentage rate: \"))\n",
        "t = float(input(\"Number of years: \"))\n",
        "\n",
        "# Write your code here and change the pmt variable\n",
        "n = (r/12)*(1+r/12)**(12*t)\n",
        "d =(1+r/12)**(12*t)-1\n",
        "pmt = p*n/d\n",
        "\n",
        "\n",
        "print(\"Monthly payment = $\", pmt)\n",
        "\n",
        "\n",
        "# Only change code above this line\n",
        "import math_code_test_c as test\n",
        "test.step13(p,r,t,pmt)"
      ],
      "execution_count": 27,
      "outputs": [
        {
          "output_type": "stream",
          "name": "stdout",
          "text": [
            "Amount borrowed: 200000\n",
            "Annual percentage rate: .07\n",
            "Number of years: 30\n",
            "Monthly payment = $ 1330.6049903583646\n",
            " \n",
            "Code test passed\n",
            "Go on to the next step\n"
          ]
        }
      ]
    },
    {
      "cell_type": "markdown",
      "metadata": {
        "id": "8vdTo36Pl0yv"
      },
      "source": [
        "# Step 14 - Exponents and Logarithms"
      ]
    },
    {
      "cell_type": "markdown",
      "metadata": {
        "id": "gyMju8CVl0yw"
      },
      "source": [
        "Exponential functions and logarithmic functions are inverses of each other. Here is an example: <b>2<sup>4</sup> = 16</b> and <b>log<sub>2</sub>16 = 4</b>. Both have the same information rearranged in different ways. If you had 2<sup>4</sup> = x you would be able to do that easily, but if you had 2<sup>x</sup> = 16 it would be more difficult. You could write that last equation as a logarithm: log<sub>2</sub>16 = x. In Python, you would write this as `math.log(16,2)`. In both cases, you would read it as \"the log, base 2, of 16\" and the answer would be an exponent. The logarithm is especially useful when the exponent is not a nice integer. Write code to prompt for the base and the result, then use logarithms to calculate the exponent."
      ]
    },
    {
      "cell_type": "code",
      "metadata": {
        "id": "ehtA_ATbl0yw",
        "outputId": "f20a588a-62b5-4d40-e9b4-763cc020298e",
        "colab": {
          "base_uri": "https://localhost:8080/"
        }
      },
      "source": [
        "import math\n",
        "\n",
        "base = float(input(\"base: \"))\n",
        "result = float(input(\"result: \"))\n",
        "\n",
        "# Just change the next line:\n",
        "exp = math.log(result,base)\n",
        "\n",
        "print(\"exponent = \", exp)\n",
        "\n",
        "\n",
        "# Only change code above this line\n",
        "import math_code_test_c as test\n",
        "test.step14(In[-1].split('# Only change code above this line')[0])"
      ],
      "execution_count": 29,
      "outputs": [
        {
          "output_type": "stream",
          "name": "stdout",
          "text": [
            "base: 3\n",
            "result: 81\n",
            "exponent =  4.0\n",
            " \n",
            "Code test passed\n",
            "Go on to the next step\n"
          ]
        }
      ]
    },
    {
      "cell_type": "markdown",
      "metadata": {
        "id": "U_7bv7aG4UJe"
      },
      "source": [
        "# Step 15 - Natural Logs"
      ]
    },
    {
      "cell_type": "markdown",
      "metadata": {
        "id": "uKjifZw04UJe"
      },
      "source": [
        "If you know the rate, how long will it take for something to double?\n",
        "Start with the continuous growth formula:<br>\n",
        "A = Pe<sup>rt</sup><br>\n",
        "If annuity is two times the principle, divide both sides by P\n",
        "and get this:<br>\n",
        "2 = e<sup>rt</sup><br>\n",
        "Because of the base <i>e</i>, take the natural log of both sides and get this:<br>\n",
        "ln(2) = rt<br>\n",
        "Then divide by r to solve for t or divide by t to solve for r. In Python, use `math.log()` with one argument and no base to calculate natural log (which is a logarithm with base e). So the natural log of 2 is `math.log(2)`. Just run the code to see this example."
      ]
    },
    {
      "cell_type": "code",
      "metadata": {
        "id": "dM3RxByK4UJe",
        "outputId": "5b5e716c-0b91-4c6b-a5d0-e648b8d6c614",
        "colab": {
          "base_uri": "https://localhost:8080/"
        }
      },
      "source": [
        "import math\n",
        "\n",
        "r = float(input(\"Enter the annual rate as a decimal: \\n\"))\n",
        "t = math.log(2)/r\n",
        "print(\"Your money will double in \", t, \" years\")\n",
        "\n",
        "\n",
        "# Just run this code\n",
        "import math_code_test_c as test\n",
        "test.step00()"
      ],
      "execution_count": 30,
      "outputs": [
        {
          "output_type": "stream",
          "name": "stdout",
          "text": [
            "Enter the annual rate as a decimal: \n",
            ".08\n",
            "Your money will double in  8.664339756999317  years\n",
            "Code test passed\n",
            "Go on to the next step\n"
          ]
        }
      ]
    },
    {
      "cell_type": "markdown",
      "metadata": {
        "id": "B7DOz9nh4XAb"
      },
      "source": [
        "# Step 16 - Common Logs"
      ]
    },
    {
      "cell_type": "markdown",
      "metadata": {
        "id": "MD3dH5yF4XAb"
      },
      "source": [
        "The <i>common log</i> is base 10, because that is our number system. Run this code a few times to see how the exponents relate to moving the decimal point to get the resulting number. Notice the floor function. Then take out the floor function to see the exact logarithm."
      ]
    },
    {
      "cell_type": "code",
      "metadata": {
        "id": "n390hG0GcEXI",
        "outputId": "7f87db55-1be6-4080-ce46-323ab6ebc4f7",
        "colab": {
          "base_uri": "https://localhost:8080/"
        }
      },
      "source": [
        "import math\n",
        "\n",
        "n = input('Enter a number with several digits or several decimal places: ')\n",
        "n = float(n)\n",
        "\n",
        "\n",
        "# Rund the code then change the next line:\n",
        "exp = math.log(n, 10)\n",
        "\n",
        "# This avoids a weird Python quirk:\n",
        "if n==1000:\n",
        "    exp = 3;\n",
        "\n",
        "print(\"exponent = \", exp)\n",
        "\n",
        "\n",
        "# Only change code above this line\n",
        "import math_code_test_c as test\n",
        "test.step16(In[-1].split('# Only change code above this line')[0])"
      ],
      "execution_count": 36,
      "outputs": [
        {
          "output_type": "stream",
          "name": "stdout",
          "text": [
            "Enter a number with several digits or several decimal places: .005\n",
            "exponent =  -2.301029995663981\n",
            " \n",
            "Code test passed\n",
            "Go on to the next step\n"
          ]
        }
      ]
    },
    {
      "cell_type": "markdown",
      "metadata": {
        "id": "cqvLtj7t4VMN"
      },
      "source": [
        "# Step 17 - Scientific Notation"
      ]
    },
    {
      "cell_type": "markdown",
      "metadata": {
        "id": "-Uh4YmRt4VMN"
      },
      "source": [
        "<i>Scientific Notation</i> is a way of writing very large or very small numbers without all of the zeros or decimal places. For example, 45,000,000 could be written as 4.5 x 10<sup>7</sup> in scientific notation and 0.00000045 could be written as 4.5 x 10<sup>-7</sup>. The notation requires base 10, so it will always use the structure <b>n $*$ 10<sup>x</sup></b> where n is one digit then the decimal point. Change the code below to print each number in scientific notation. Determine the value of each variable by counting (not writing code). You will automate this process in the next step."
      ]
    },
    {
      "cell_type": "code",
      "metadata": {
        "id": "UyPF6dKz4VMO",
        "outputId": "b4741bb4-4528-489f-e170-d672c8affb2b",
        "colab": {
          "base_uri": "https://localhost:8080/"
        }
      },
      "source": [
        "a = 156000000000\n",
        "b = 0.000000000413\n",
        "\n",
        "# Change the code below this line\n",
        "\n",
        "a1 = 1.56\n",
        "a2 = 11\n",
        "b1 = 4.13\n",
        "b2 = -10\n",
        "\n",
        "print(a, \" = \", a1, \"* 10^\", a2)\n",
        "\n",
        "print(b, \" = \", b1, \"* 10^\", b2)\n",
        "\n",
        "\n",
        "# Only change code above this line\n",
        "import math_code_test_c as test\n",
        "test.step17(b1,b2)"
      ],
      "execution_count": 37,
      "outputs": [
        {
          "output_type": "stream",
          "name": "stdout",
          "text": [
            "156000000000  =  1.56 * 10^ 11\n",
            "4.13e-10  =  4.13 * 10^ -10\n",
            " \n",
            "Code test passed\n",
            "Go on to the next step\n"
          ]
        }
      ]
    },
    {
      "cell_type": "markdown",
      "metadata": {
        "id": "GsLj1NhZl1ya"
      },
      "source": [
        "#Step 18 - Logs and Scientific Notation"
      ]
    },
    {
      "cell_type": "markdown",
      "metadata": {
        "id": "uhWbIGVml1yb"
      },
      "source": [
        "Writing code for scientific notation, you will make use of logarithms with base 10. Remember that scientific notation is in the form n $*$ 10<sup>x</sup> where `n` is one digit and then a decimal. To convert a number to scientific notation, take the log of the number and use the `floor()` function to get the expoenent (just as you did in a previous step). Divide the original number by 10 to that exponent and you get `n` (hint: dividing by 10<sup>x</sup> is the same as multiplying by 10<sup>-x</sup>). Rounding is usually necessary. Write the code to convert numbers to scientific notation."
      ]
    },
    {
      "cell_type": "code",
      "metadata": {
        "id": "y8PXrFCYl1yb",
        "outputId": "6951c6a8-80e3-415b-a3c5-65cf44518b01",
        "colab": {
          "base_uri": "https://localhost:8080/"
        }
      },
      "source": [
        "import math\n",
        "\n",
        "a = .00000000000234\n",
        "b = 12300000000000\n",
        "\n",
        "# Use these three lines as a model\n",
        "x1 = math.floor(math.log(a,10))\n",
        "n1 = round(a*10**(-x1),2)\n",
        "print(\"a = \", n1, \"* 10^\", x1)\n",
        "\n",
        "# Change the next two lines to match the model\n",
        "x2 = math.floor(math.log(b,10))\n",
        "n2 = round(b*10**(-x2),2)\n",
        "print(\"b = \", n2, \"* 10^\", x2)\n",
        "\n",
        "\n",
        "\n",
        "# Only change code above this line\n",
        "import math_code_test_c as test\n",
        "test.step18(In[-1].split('# Only change code above this line')[0])"
      ],
      "execution_count": 39,
      "outputs": [
        {
          "output_type": "stream",
          "name": "stdout",
          "text": [
            "a =  2.34 * 10^ -12\n",
            "b =  1.23 * 10^ 13\n",
            " \n",
            "Code test passed\n",
            "Go on to the next step\n"
          ]
        }
      ]
    },
    {
      "cell_type": "markdown",
      "metadata": {
        "id": "d7Lc9KfMYU8Y"
      },
      "source": [
        "# Step 19 - Scientific Notation Conversion"
      ]
    },
    {
      "cell_type": "markdown",
      "metadata": {
        "id": "21gdVKfeYc5R"
      },
      "source": [
        "Now ask for a number as input, and write the code to convert that number into scientific notation. You can re-use code you used in the previous step, using `n` and `x` as variables to print n * 10^x."
      ]
    },
    {
      "cell_type": "code",
      "metadata": {
        "id": "VkOkpmrP4XAb",
        "outputId": "7d449d4e-9a42-40c3-b1b9-29a6f204da25",
        "colab": {
          "base_uri": "https://localhost:8080/"
        }
      },
      "source": [
        "import math\n",
        "\n",
        "a = float(input('Enter a number to convert to scientific notation: '))\n",
        "\n",
        "# write your code here\n",
        "x = math.floor(math.log(a,10))\n",
        "n = round(a*10**(-x),2)\n",
        "print(\"a = \", n, \"* 10^\", x)\n",
        "\n",
        "# Only change code above this line\n",
        "import math_code_test_c as test\n",
        "test.step19(In[-1].split('# Only change code above this line')[0])"
      ],
      "execution_count": 42,
      "outputs": [
        {
          "output_type": "stream",
          "name": "stdout",
          "text": [
            "Enter a number to convert to scientific notation: 1230000\n",
            "a =  1.23 * 10^ 6\n",
            " \n",
            "Code test passed\n",
            "Go on to the next step\n"
          ]
        }
      ]
    },
    {
      "cell_type": "markdown",
      "metadata": {
        "id": "VkD30ljxlyw9"
      },
      "source": [
        "# Step 20 - Graphing Exponents and Logs"
      ]
    },
    {
      "cell_type": "markdown",
      "metadata": {
        "id": "A7YL0fIdlyw-"
      },
      "source": [
        "When not writing code, the <i>natural log</i> is written as \"ln\" and it means a logarithm with base e. Like any pair of inverse functions, the line y = e<sup>x</sup> and the line y = ln(x) are mirrored over the line y = x.  Because of the `np.linspace()` function in this code, `np.log()` works, but `math.log()` does not work here. Both log() functions in Python use e as the base by default. When using the `numpy` library, use `np.log10()` for base 10, `np.log2()` for base 2, etc. Because log functions can only have positive x values, the np.linspace() function will define a positive range for the log() function. Run this code, then change the blue line function to graph y = 2<sup>x</sup> and change the green line function to graph y = log<sub>2</sub>x and notice the similarities between the graphs."
      ]
    },
    {
      "cell_type": "code",
      "metadata": {
        "id": "fJiDmoW1lyw_",
        "outputId": "074aa554-c016-413f-b922-125adac9c528",
        "colab": {
          "base_uri": "https://localhost:8080/",
          "height": 490
        }
      },
      "source": [
        "import matplotlib.pyplot as plt\n",
        "import numpy as np\n",
        "import math\n",
        "\n",
        "xmin = -10\n",
        "xmax = 10\n",
        "ymin = -10\n",
        "ymax = 10\n",
        "plt.axis([xmin,xmax,ymin,ymax]) # window size\n",
        "plt.plot([xmin,xmax],[0,0],'k') # x axis\n",
        "plt.plot([0,0],[ymin,ymax], 'k') # y axis\n",
        "\n",
        "# Same x values for two lines\n",
        "x1 = np.linspace(xmin, xmax, 1000)\n",
        "\n",
        "# Blue line for y = e^x\n",
        "plt.plot(x1, 2**x1, 'b')  # Change this line\n",
        "\n",
        "# Red line for y = x\n",
        "plt.plot(x1, x1, 'r')\n",
        "\n",
        "# Different x values for y = log(x) because x > 0\n",
        "x2 = np.linspace(.001, xmax, 500)\n",
        "\n",
        "# Green line for y = log(x)\n",
        "plt.plot(x2, np.log2(x2), 'g')  # Change this line\n",
        "\n",
        "plt.show()\n",
        "\n",
        "\n",
        "# Only change code above this line\n",
        "import math_code_test_c as test\n",
        "test.step20(In[-1].split('# Only change code above this line')[0])"
      ],
      "execution_count": 44,
      "outputs": [
        {
          "output_type": "display_data",
          "data": {
            "text/plain": [
              "<Figure size 640x480 with 1 Axes>"
            ],
            "image/png": "[encoded data removed]"
          },
          "metadata": {}
        },
        {
          "output_type": "stream",
          "name": "stdout",
          "text": [
            " \n",
            "Code test passed\n",
            "Go on to the next step\n"
          ]
        }
      ]
    },
    {
      "cell_type": "markdown",
      "metadata": {
        "id": "bJzxcKIfz8Qt"
      },
      "source": [
        "# Step 21 - Log Application - pH Scale"
      ]
    },
    {
      "cell_type": "markdown",
      "metadata": {
        "id": "pfF3voqSz8Q9"
      },
      "source": [
        "The pH scale, for measuring acids and bases, is a logarithmic scale. The negative log of the hydrogen concentration is the pH. Example: if the hydrogen concentration is .007 then that would be 7 * 10<sup>-3</sup> and therefore a pH of 3. Write the code to prompt for hydrogen concentration and then print the pH. Hint: the <i>ceiling</i> function (`math.ceil()`) works better than rounding here."
      ]
    },
    {
      "cell_type": "code",
      "metadata": {
        "id": "tepkvSubz8Q9",
        "outputId": "3046a962-7516-457e-c404-091a60147a81",
        "colab": {
          "base_uri": "https://localhost:8080/"
        }
      },
      "source": [
        "import math\n",
        "\n",
        "decimal = float(input(\"Enter the hydrogen concentration as a decimal number: \"))\n",
        "\n",
        "# Write your code here\n",
        "h = math.ceil(-math.log(decimal, 10))\n",
        "\n",
        "print(\"pH = \", h)\n",
        "\n",
        "# Only change code above this line\n",
        "import math_code_test_c as test\n",
        "test.step21(In[-1].split('# Only change code above this line')[0])"
      ],
      "execution_count": 46,
      "outputs": [
        {
          "output_type": "stream",
          "name": "stdout",
          "text": [
            "Enter the hydrogen concentration as a decimal number: .00001\n",
            "pH =  5\n",
            " \n",
            "Code test passed\n"
          ]
        }
      ]
    },
    {
      "cell_type": "markdown",
      "source": [
        "# Step 22 - Functions for the Project"
      ],
      "metadata": {
        "id": "8iWUAktvPLYp"
      }
    },
    {
      "cell_type": "markdown",
      "source": [
        "Define a function for calculating mortgage payments and a function for calculating investment balance. Use code you wrote in earlier steps. Each function should prompt for input and print the output."
      ],
      "metadata": {
        "id": "a9gRwbr-PGPC"
      }
    },
    {
      "cell_type": "code",
      "source": [
        "# Write your code here\n",
        "\n",
        "import math\n",
        "\n",
        "def calculate_mortgage_payment():\n",
        "    print(\"Mortgage Payment Calculator\")\n",
        "    P = float(input(\"Enter the loan principal amount: \"))\n",
        "    r = float(input(\"Enter the annual interest rate (as a decimal, e.g., 0.04 for 4%): \"))\n",
        "    n = int(input(\"Enter the total number of monthly payments (e.g., 360 for 30 years): \"))\n",
        "\n",
        "    monthly_rate = r / 12\n",
        "    numerator = monthly_rate * (1 + monthly_rate)**n\n",
        "    denominator = (1 + monthly_rate)**n - 1\n",
        "    payment = P * (numerator / denominator)\n",
        "\n",
        "    print(f\"Your monthly mortgage payment is: ₦{payment:.2f}\")\n",
        "\n",
        "def calculate_investment_balance():\n",
        "    print(\"Investment Balance Calculator\")\n",
        "    P = float(input(\"Enter your monthly contribution amount: \"))\n",
        "    r = float(input(\"Enter the annual interest rate (as a decimal, e.g., 0.07 for 7%): \"))\n",
        "    n = int(input(\"Enter the number of compounding periods per year (usually 12 for monthly): \"))\n",
        "    t = int(input(\"Enter the number of years you plan to invest: \"))\n",
        "\n",
        "    # Calculate future value of an annuity:\n",
        "    balance = P * (((1 + r / n)**(n * t) - 1) / (r / n))\n",
        "\n",
        "    print(f\"Your investment balance after {t} years will be: ₦{balance:.2f}\")\n",
        "\n",
        "# Example usage:\n",
        "calculate_mortgage_payment()\n",
        "print()  # Blank line for readability\n",
        "calculate_investment_balance()\n"
      ],
      "metadata": {
        "id": "neFvvCOzO_WB",
        "outputId": "2e55ff98-e6bc-4acb-9640-44c292e85d01",
        "colab": {
          "base_uri": "https://localhost:8080/"
        }
      },
      "execution_count": 52,
      "outputs": [
        {
          "output_type": "stream",
          "name": "stdout",
          "text": [
            "Mortgage Payment Calculator\n",
            "Enter the loan principal amount: 120000\n",
            "Enter the annual interest rate (as a decimal, e.g., 0.04 for 4%): .05\n",
            "Enter the total number of monthly payments (e.g., 360 for 30 years): 5\n",
            "Your monthly mortgage payment is: ₦24300.83\n",
            "\n",
            "Investment Balance Calculator\n",
            "Enter your monthly contribution amount: 150000\n",
            "Enter the annual interest rate (as a decimal, e.g., 0.07 for 7%): .06\n",
            "Enter the number of compounding periods per year (usually 12 for monthly): 6\n",
            "Enter the number of years you plan to invest: 10000\n",
            "Your investment balance after 10000 years will be: ₦287420815721484952786778538153590921860949648832816960019891400796515576697921372902655587655087329288374921535960869839075802476200033753993921545874640293534133196528576608889184886982203240636715181320665255794827719618768734811463395243353354981641866574722760704.00\n"
          ]
        }
      ]
    },
    {
      "cell_type": "markdown",
      "source": [
        "# Step 23 - More Functions"
      ],
      "metadata": {
        "id": "rzaQj8dEOfzb"
      }
    },
    {
      "cell_type": "markdown",
      "source": [
        "Create a function that produces an interactive polynomial graph (with sliders). Use code from an earlier step."
      ],
      "metadata": {
        "id": "C6OV8KzQOTS_"
      }
    },
    {
      "cell_type": "code",
      "source": [
        "# Write your code here\n",
        "\n",
        "import numpy as np\n",
        "import matplotlib.pyplot as plt\n",
        "from ipywidgets import interact, FloatSlider\n",
        "\n",
        "def interactive_polynomial():\n",
        "    def plot_poly(a=1.0, b=0.0, c=0.0):\n",
        "        x = np.linspace(-10, 10, 400)\n",
        "        y = a * x**2 + b * x + c\n",
        "\n",
        "        plt.figure(figsize=(8, 5))\n",
        "        plt.plot(x, y, label=f'y = {a}x² + {b}x + {c}')\n",
        "        plt.axhline(0, color='black', lw=0.7)\n",
        "        plt.axvline(0, color='black', lw=0.7)\n",
        "        plt.grid(True)\n",
        "        plt.legend()\n",
        "        plt.ylim(min(y) - 10, max(y) + 10)\n",
        "        plt.show()\n",
        "\n",
        "    interact(\n",
        "        plot_poly,\n",
        "        a=FloatSlider(value=1.0, min=-5.0, max=5.0, step=0.1, description='a'),\n",
        "        b=FloatSlider(value=0.0, min=-10.0, max=10.0, step=0.1, description='b'),\n",
        "        c=FloatSlider(value=0.0, min=-20.0, max=20.0, step=0.1, description='c')\n",
        "    )\n",
        "\n",
        "# Call the function to display interactive sliders and graph\n",
        "interactive_polynomial()\n"
      ],
      "metadata": {
        "id": "6cGh0vE1OYyC",
        "outputId": "b2082bdf-aa64-4d04-92ee-13d0ca5c2bd9",
        "colab": {
          "base_uri": "https://localhost:8080/",
          "height": 541,
          "referenced_widgets": [
            "af0b78febbd74384a8b28cba096fe26d",
            "68bfcdc48eaa4289ad55c0016a61f4ff",
            "c90f1b5fd6524cce9737b52613656d8c",
            "14ab101bc8c347d3b265acd8aa70c19a",
            "1ee53134c4ae496c90fb214fbc6c10d3",
            "d0eb10e9c561483c9a16ade1731cfa79",
            "b3068adb4a0b4476ab35fdd0afd671fc",
            "63661895890b4be98145dae8ca19e0b4",
            "5665d9b9234b46e9ab4398d26bde793d",
            "f08f40158d9140f1bf1a7038386bcb14",
            "381f70d2b26f4f97bc1292a900cb117d",
            "44bd6d5220e6465dbd254cee44e4fc68",
            "1f40b4cc9f614dda98835cdef83ffc46"
          ]
        }
      },
      "execution_count": 55,
      "outputs": [
        {
          "output_type": "display_data",
          "data": {
            "text/plain": [
              "interactive(children=(FloatSlider(value=1.0, description='a', max=5.0, min=-5.0), FloatSlider(value=0.0, descr…"
            ],
            "application/vnd.jupyter.widget-view+json": {
              "version_major": 2,
              "version_minor": 0,
              "model_id": "af0b78febbd74384a8b28cba096fe26d"
            }
          },
          "metadata": {}
        }
      ]
    },
    {
      "cell_type": "markdown",
      "source": [
        "# Step 24 - New Function"
      ],
      "metadata": {
        "id": "UptjjiCOTSS2"
      }
    },
    {
      "cell_type": "markdown",
      "source": [
        "Create a function to print the time required for money to double, given the rate. Use the continuous growth formula from an earlier step."
      ],
      "metadata": {
        "id": "XKXNbHzGTKAp"
      }
    },
    {
      "cell_type": "code",
      "source": [
        "# Write your code here\n",
        "\n",
        "\n",
        "# This step does not have a test"
      ],
      "metadata": {
        "id": "kWs_IpxrTYyl"
      },
      "execution_count": null,
      "outputs": []
    },
    {
      "cell_type": "markdown",
      "source": [
        "# Step 25 - Certification Project 3"
      ],
      "metadata": {
        "id": "CRa5i8s3UCuL"
      }
    },
    {
      "cell_type": "markdown",
      "source": [
        "Build a financial app that does all of the following:<br>\n",
        "<ul>\n",
        "<li>Calculate annuity with monthly or continuous growth</li>\n",
        "<li>Calculate monthly mortgage payment</li>\n",
        "<li>Estimate retirement investment balance</li>\n",
        "<li>Determine how long until an amount doubles, given the rate</li>\n",
        "<li>Solve logarithmic equations</li>\n",
        "<li>Convert to (and from) scientific notation</li>\n",
        "</ul>"
      ],
      "metadata": {
        "id": "nngVpvqeT4U7"
      }
    },
    {
      "cell_type": "code",
      "source": [
        "# Write your code here\n",
        "\n",
        "import math\n",
        "\n",
        "def time_to_double_continuous():\n",
        "    r = float(input(\"Enter the continuous growth rate (as a decimal, e.g., 0.05 for 5%): \"))\n",
        "    if r <= 0:\n",
        "        print(\"Growth rate must be positive.\")\n",
        "        return\n",
        "\n",
        "    t = math.log(2) / r\n",
        "    print(f\"At a continuous growth rate of {r*100:.2f}%, your money will double in approximately {t:.2f} years.\")\n",
        "\n",
        "# Example usage:\n",
        "time_to_double_continuous()"
      ],
      "metadata": {
        "id": "fa2o--pDT-Sd",
        "outputId": "a2157145-ca0c-474b-c977-97759ca104b4",
        "colab": {
          "base_uri": "https://localhost:8080/"
        }
      },
      "execution_count": 57,
      "outputs": [
        {
          "output_type": "stream",
          "name": "stdout",
          "text": [
            "Enter the continuous growth rate (as a decimal, e.g., 0.05 for 5%): .02\n",
            "At a continuous growth rate of 2.00%, your money will double in approximately 34.66 years.\n"
          ]
        }
      ]
    }
  ]
}